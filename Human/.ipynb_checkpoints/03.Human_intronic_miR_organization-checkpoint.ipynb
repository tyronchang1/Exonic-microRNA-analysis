{
 "cells": [
  {
   "cell_type": "markdown",
   "id": "7c97b351-c00e-427f-a201-2893d2f48970",
   "metadata": {},
   "source": [
    "## Intronic miRNAs organization"
   ]
  },
  {
   "cell_type": "code",
   "execution_count": 3,
   "id": "249af6b5-0c4c-4703-bc09-a328286c13f4",
   "metadata": {},
   "outputs": [],
   "source": [
    "#bedtools will generate the overlapped intronic miR files. The file to use is bedtools_human_intronic_miR.sh\n",
    "import pandas as pd\n",
    "import os\n",
    "current_dir=os.getcwd()\n",
    "columns_2=['hostgene_chrom', 'hostgene_TxStarts', 'hostgene_TxEnds', 'hostgene_cdsStart', 'hostgene_cdsEnd'\n",
    "         , 'hostgene_strand',\n",
    "       'hostgene_Name', 'hostgene_NCBI_ID','miR_chrom', 'miR_exonStarts', 'miR_exonEnds', 'miR_type'\n",
    "         , 'miR_Name',\n",
    "       'miR_strand', 'miR_ID']"
   ]
  },
  {
   "cell_type": "code",
   "execution_count": 4,
   "id": "81df99c6-c9cb-4b70-bc02-1e6297873d38",
   "metadata": {},
   "outputs": [],
   "source": [
    "# Organize and finalize the intronic microRNA files from the bedtools result\n",
    "\n",
    "human_intronicmiR_df=pd.read_csv(f'{current_dir}/Human_tsv_file/human_intronic_miR_NCBI.tsv', sep='\\t', header=None, names=columns_2)"
   ]
  },
  {
   "cell_type": "code",
   "execution_count": 5,
   "id": "f23bed8d-b89d-49d2-a1dd-bf01187dc02e",
   "metadata": {},
   "outputs": [
    {
     "data": {
      "text/html": [
       "<div>\n",
       "<style scoped>\n",
       "    .dataframe tbody tr th:only-of-type {\n",
       "        vertical-align: middle;\n",
       "    }\n",
       "\n",
       "    .dataframe tbody tr th {\n",
       "        vertical-align: top;\n",
       "    }\n",
       "\n",
       "    .dataframe thead th {\n",
       "        text-align: right;\n",
       "    }\n",
       "</style>\n",
       "<table border=\"1\" class=\"dataframe\">\n",
       "  <thead>\n",
       "    <tr style=\"text-align: right;\">\n",
       "      <th></th>\n",
       "      <th>hostgene_chrom</th>\n",
       "      <th>hostgene_TxStarts</th>\n",
       "      <th>hostgene_TxEnds</th>\n",
       "      <th>hostgene_cdsStart</th>\n",
       "      <th>hostgene_cdsEnd</th>\n",
       "      <th>hostgene_strand</th>\n",
       "      <th>hostgene_Name</th>\n",
       "      <th>hostgene_NCBI_ID</th>\n",
       "      <th>miR_chrom</th>\n",
       "      <th>miR_exonStarts</th>\n",
       "      <th>miR_exonEnds</th>\n",
       "      <th>miR_type</th>\n",
       "      <th>miR_Name</th>\n",
       "      <th>miR_strand</th>\n",
       "      <th>miR_ID</th>\n",
       "    </tr>\n",
       "  </thead>\n",
       "  <tbody>\n",
       "    <tr>\n",
       "      <th>0</th>\n",
       "      <td>chr1</td>\n",
       "      <td>243256040</td>\n",
       "      <td>243500091</td>\n",
       "      <td>243256173</td>\n",
       "      <td>243499785</td>\n",
       "      <td>+</td>\n",
       "      <td>SDCCAG8</td>\n",
       "      <td>NM_006642.5</td>\n",
       "      <td>chr1</td>\n",
       "      <td>243346176</td>\n",
       "      <td>243346255</td>\n",
       "      <td>miRNA_primary_transcript</td>\n",
       "      <td>Name=hsa-mir-4677</td>\n",
       "      <td>+</td>\n",
       "      <td>Alias=MI0017308</td>\n",
       "    </tr>\n",
       "    <tr>\n",
       "      <th>1</th>\n",
       "      <td>chr1</td>\n",
       "      <td>243256040</td>\n",
       "      <td>243500091</td>\n",
       "      <td>243256173</td>\n",
       "      <td>243499785</td>\n",
       "      <td>+</td>\n",
       "      <td>SDCCAG8</td>\n",
       "      <td>NM_006642.5</td>\n",
       "      <td>chr1</td>\n",
       "      <td>243346188</td>\n",
       "      <td>243346209</td>\n",
       "      <td>miRNA</td>\n",
       "      <td>Name=hsa-miR-4677-5p</td>\n",
       "      <td>+</td>\n",
       "      <td>Alias=MIMAT0019760</td>\n",
       "    </tr>\n",
       "    <tr>\n",
       "      <th>2</th>\n",
       "      <td>chr1</td>\n",
       "      <td>243256040</td>\n",
       "      <td>243500091</td>\n",
       "      <td>243256173</td>\n",
       "      <td>243499785</td>\n",
       "      <td>+</td>\n",
       "      <td>SDCCAG8</td>\n",
       "      <td>NM_006642.5</td>\n",
       "      <td>chr1</td>\n",
       "      <td>243346225</td>\n",
       "      <td>243346246</td>\n",
       "      <td>miRNA</td>\n",
       "      <td>Name=hsa-miR-4677-3p</td>\n",
       "      <td>+</td>\n",
       "      <td>Alias=MIMAT0019761</td>\n",
       "    </tr>\n",
       "    <tr>\n",
       "      <th>3</th>\n",
       "      <td>chr1</td>\n",
       "      <td>243256040</td>\n",
       "      <td>243500091</td>\n",
       "      <td>243308151</td>\n",
       "      <td>243499785</td>\n",
       "      <td>+</td>\n",
       "      <td>SDCCAG8</td>\n",
       "      <td>NM_001350247.2</td>\n",
       "      <td>chr1</td>\n",
       "      <td>243346176</td>\n",
       "      <td>243346255</td>\n",
       "      <td>miRNA_primary_transcript</td>\n",
       "      <td>Name=hsa-mir-4677</td>\n",
       "      <td>+</td>\n",
       "      <td>Alias=MI0017308</td>\n",
       "    </tr>\n",
       "    <tr>\n",
       "      <th>4</th>\n",
       "      <td>chr1</td>\n",
       "      <td>243256040</td>\n",
       "      <td>243500091</td>\n",
       "      <td>243308151</td>\n",
       "      <td>243499785</td>\n",
       "      <td>+</td>\n",
       "      <td>SDCCAG8</td>\n",
       "      <td>NM_001350247.2</td>\n",
       "      <td>chr1</td>\n",
       "      <td>243346188</td>\n",
       "      <td>243346209</td>\n",
       "      <td>miRNA</td>\n",
       "      <td>Name=hsa-miR-4677-5p</td>\n",
       "      <td>+</td>\n",
       "      <td>Alias=MIMAT0019760</td>\n",
       "    </tr>\n",
       "  </tbody>\n",
       "</table>\n",
       "</div>"
      ],
      "text/plain": [
       "  hostgene_chrom  hostgene_TxStarts  hostgene_TxEnds  hostgene_cdsStart  \\\n",
       "0           chr1          243256040        243500091          243256173   \n",
       "1           chr1          243256040        243500091          243256173   \n",
       "2           chr1          243256040        243500091          243256173   \n",
       "3           chr1          243256040        243500091          243308151   \n",
       "4           chr1          243256040        243500091          243308151   \n",
       "\n",
       "   hostgene_cdsEnd hostgene_strand hostgene_Name hostgene_NCBI_ID miR_chrom  \\\n",
       "0        243499785               +       SDCCAG8      NM_006642.5      chr1   \n",
       "1        243499785               +       SDCCAG8      NM_006642.5      chr1   \n",
       "2        243499785               +       SDCCAG8      NM_006642.5      chr1   \n",
       "3        243499785               +       SDCCAG8   NM_001350247.2      chr1   \n",
       "4        243499785               +       SDCCAG8   NM_001350247.2      chr1   \n",
       "\n",
       "   miR_exonStarts  miR_exonEnds                  miR_type  \\\n",
       "0       243346176     243346255  miRNA_primary_transcript   \n",
       "1       243346188     243346209                     miRNA   \n",
       "2       243346225     243346246                     miRNA   \n",
       "3       243346176     243346255  miRNA_primary_transcript   \n",
       "4       243346188     243346209                     miRNA   \n",
       "\n",
       "               miR_Name miR_strand              miR_ID  \n",
       "0     Name=hsa-mir-4677          +     Alias=MI0017308  \n",
       "1  Name=hsa-miR-4677-5p          +  Alias=MIMAT0019760  \n",
       "2  Name=hsa-miR-4677-3p          +  Alias=MIMAT0019761  \n",
       "3     Name=hsa-mir-4677          +     Alias=MI0017308  \n",
       "4  Name=hsa-miR-4677-5p          +  Alias=MIMAT0019760  "
      ]
     },
     "execution_count": 5,
     "metadata": {},
     "output_type": "execute_result"
    }
   ],
   "source": [
    "human_intronicmiR_df.head()"
   ]
  },
  {
   "cell_type": "code",
   "execution_count": 6,
   "id": "f1b43750-fb66-424a-9c6c-6b84a70f4761",
   "metadata": {},
   "outputs": [
    {
     "data": {
      "text/plain": [
       "(21590, 15)"
      ]
     },
     "execution_count": 6,
     "metadata": {},
     "output_type": "execute_result"
    }
   ],
   "source": [
    "human_intronicmiR_df.shape"
   ]
  },
  {
   "cell_type": "code",
   "execution_count": 7,
   "id": "6bf1879f-3447-4707-be47-8951f01292e3",
   "metadata": {},
   "outputs": [],
   "source": [
    "### Extract only primary miR transcript\n",
    "human_intronicmiR_df=human_intronicmiR_df.loc[human_intronicmiR_df['miR_type']==\"miRNA_primary_transcript\"]"
   ]
  },
  {
   "cell_type": "code",
   "execution_count": 8,
   "id": "bdcd2c3e-2a3b-4f3d-8372-d4c6f8ee8924",
   "metadata": {},
   "outputs": [
    {
     "data": {
      "text/plain": [
       "(8191, 15)"
      ]
     },
     "execution_count": 8,
     "metadata": {},
     "output_type": "execute_result"
    }
   ],
   "source": [
    "human_intronicmiR_df.shape"
   ]
  },
  {
   "cell_type": "code",
   "execution_count": 9,
   "id": "e1258d96-5f6b-44ba-bf79-61f980dddfa5",
   "metadata": {},
   "outputs": [],
   "source": [
    "human_intronicmiR_df.drop(columns=['miR_ID'],inplace=True)"
   ]
  },
  {
   "cell_type": "code",
   "execution_count": 10,
   "id": "e411709d-fd88-4f04-a510-d99f10be8b2d",
   "metadata": {},
   "outputs": [],
   "source": [
    "#Change string values in the columns of exonic miR files\n",
    "\n",
    "# Reset the index\n",
    "human_intronicmiR_df= human_intronicmiR_df.reset_index(drop=True)\n",
    "\n",
    "# Create a new DataFrame with the updated \"miR_name\" column\n",
    "hg_intron_new_df = pd.DataFrame({\"miR_name\": human_intronicmiR_df[\"miR_Name\"].str.replace(\"Name=\", \"\")})\n",
    "\n",
    "# Concatenate the new DataFrame with the remaining columns from the original DataFrame\n",
    "human_intronicmiR_df.insert(12,\"miR_name\", hg_intron_new_df ['miR_name'])\n",
    "human_intronicmiR_df.drop(columns=[\"miR_Name\"],inplace=True)"
   ]
  },
  {
   "cell_type": "code",
   "execution_count": 11,
   "id": "1910dc41-e0fe-49ea-a289-b1f60407267c",
   "metadata": {},
   "outputs": [
    {
     "data": {
      "text/html": [
       "<div>\n",
       "<style scoped>\n",
       "    .dataframe tbody tr th:only-of-type {\n",
       "        vertical-align: middle;\n",
       "    }\n",
       "\n",
       "    .dataframe tbody tr th {\n",
       "        vertical-align: top;\n",
       "    }\n",
       "\n",
       "    .dataframe thead th {\n",
       "        text-align: right;\n",
       "    }\n",
       "</style>\n",
       "<table border=\"1\" class=\"dataframe\">\n",
       "  <thead>\n",
       "    <tr style=\"text-align: right;\">\n",
       "      <th></th>\n",
       "      <th>hostgene_chrom</th>\n",
       "      <th>hostgene_TxStarts</th>\n",
       "      <th>hostgene_TxEnds</th>\n",
       "      <th>hostgene_cdsStart</th>\n",
       "      <th>hostgene_cdsEnd</th>\n",
       "      <th>hostgene_strand</th>\n",
       "      <th>hostgene_Name</th>\n",
       "      <th>hostgene_NCBI_ID</th>\n",
       "      <th>miR_chrom</th>\n",
       "      <th>miR_exonStarts</th>\n",
       "      <th>miR_exonEnds</th>\n",
       "      <th>miR_type</th>\n",
       "      <th>miR_name</th>\n",
       "      <th>miR_strand</th>\n",
       "    </tr>\n",
       "  </thead>\n",
       "  <tbody>\n",
       "    <tr>\n",
       "      <th>0</th>\n",
       "      <td>chr1</td>\n",
       "      <td>243256040</td>\n",
       "      <td>243500091</td>\n",
       "      <td>243256173</td>\n",
       "      <td>243499785</td>\n",
       "      <td>+</td>\n",
       "      <td>SDCCAG8</td>\n",
       "      <td>NM_006642.5</td>\n",
       "      <td>chr1</td>\n",
       "      <td>243346176</td>\n",
       "      <td>243346255</td>\n",
       "      <td>miRNA_primary_transcript</td>\n",
       "      <td>hsa-mir-4677</td>\n",
       "      <td>+</td>\n",
       "    </tr>\n",
       "    <tr>\n",
       "      <th>1</th>\n",
       "      <td>chr1</td>\n",
       "      <td>243256040</td>\n",
       "      <td>243500091</td>\n",
       "      <td>243308151</td>\n",
       "      <td>243499785</td>\n",
       "      <td>+</td>\n",
       "      <td>SDCCAG8</td>\n",
       "      <td>NM_001350247.2</td>\n",
       "      <td>chr1</td>\n",
       "      <td>243346176</td>\n",
       "      <td>243346255</td>\n",
       "      <td>miRNA_primary_transcript</td>\n",
       "      <td>hsa-mir-4677</td>\n",
       "      <td>+</td>\n",
       "    </tr>\n",
       "    <tr>\n",
       "      <th>2</th>\n",
       "      <td>chr1</td>\n",
       "      <td>243256040</td>\n",
       "      <td>243500091</td>\n",
       "      <td>243308151</td>\n",
       "      <td>243499785</td>\n",
       "      <td>+</td>\n",
       "      <td>SDCCAG8</td>\n",
       "      <td>NM_001350246.2</td>\n",
       "      <td>chr1</td>\n",
       "      <td>243346176</td>\n",
       "      <td>243346255</td>\n",
       "      <td>miRNA_primary_transcript</td>\n",
       "      <td>hsa-mir-4677</td>\n",
       "      <td>+</td>\n",
       "    </tr>\n",
       "    <tr>\n",
       "      <th>3</th>\n",
       "      <td>chr1</td>\n",
       "      <td>243256040</td>\n",
       "      <td>243500091</td>\n",
       "      <td>243256173</td>\n",
       "      <td>243499785</td>\n",
       "      <td>+</td>\n",
       "      <td>SDCCAG8</td>\n",
       "      <td>NM_001350248.2</td>\n",
       "      <td>chr1</td>\n",
       "      <td>243346176</td>\n",
       "      <td>243346255</td>\n",
       "      <td>miRNA_primary_transcript</td>\n",
       "      <td>hsa-mir-4677</td>\n",
       "      <td>+</td>\n",
       "    </tr>\n",
       "    <tr>\n",
       "      <th>4</th>\n",
       "      <td>chr1</td>\n",
       "      <td>243256040</td>\n",
       "      <td>243500091</td>\n",
       "      <td>243308151</td>\n",
       "      <td>243499785</td>\n",
       "      <td>+</td>\n",
       "      <td>SDCCAG8</td>\n",
       "      <td>NM_001350251.2</td>\n",
       "      <td>chr1</td>\n",
       "      <td>243346176</td>\n",
       "      <td>243346255</td>\n",
       "      <td>miRNA_primary_transcript</td>\n",
       "      <td>hsa-mir-4677</td>\n",
       "      <td>+</td>\n",
       "    </tr>\n",
       "  </tbody>\n",
       "</table>\n",
       "</div>"
      ],
      "text/plain": [
       "  hostgene_chrom  hostgene_TxStarts  hostgene_TxEnds  hostgene_cdsStart  \\\n",
       "0           chr1          243256040        243500091          243256173   \n",
       "1           chr1          243256040        243500091          243308151   \n",
       "2           chr1          243256040        243500091          243308151   \n",
       "3           chr1          243256040        243500091          243256173   \n",
       "4           chr1          243256040        243500091          243308151   \n",
       "\n",
       "   hostgene_cdsEnd hostgene_strand hostgene_Name hostgene_NCBI_ID miR_chrom  \\\n",
       "0        243499785               +       SDCCAG8      NM_006642.5      chr1   \n",
       "1        243499785               +       SDCCAG8   NM_001350247.2      chr1   \n",
       "2        243499785               +       SDCCAG8   NM_001350246.2      chr1   \n",
       "3        243499785               +       SDCCAG8   NM_001350248.2      chr1   \n",
       "4        243499785               +       SDCCAG8   NM_001350251.2      chr1   \n",
       "\n",
       "   miR_exonStarts  miR_exonEnds                  miR_type      miR_name  \\\n",
       "0       243346176     243346255  miRNA_primary_transcript  hsa-mir-4677   \n",
       "1       243346176     243346255  miRNA_primary_transcript  hsa-mir-4677   \n",
       "2       243346176     243346255  miRNA_primary_transcript  hsa-mir-4677   \n",
       "3       243346176     243346255  miRNA_primary_transcript  hsa-mir-4677   \n",
       "4       243346176     243346255  miRNA_primary_transcript  hsa-mir-4677   \n",
       "\n",
       "  miR_strand  \n",
       "0          +  \n",
       "1          +  \n",
       "2          +  \n",
       "3          +  \n",
       "4          +  "
      ]
     },
     "execution_count": 11,
     "metadata": {},
     "output_type": "execute_result"
    }
   ],
   "source": [
    "human_intronicmiR_df.head()"
   ]
  },
  {
   "cell_type": "code",
   "execution_count": 12,
   "id": "994ec8da-ef98-4e89-96e7-28dc03d456b3",
   "metadata": {},
   "outputs": [
    {
     "data": {
      "text/plain": [
       "(8191, 14)"
      ]
     },
     "execution_count": 12,
     "metadata": {},
     "output_type": "execute_result"
    }
   ],
   "source": [
    "human_intronicmiR_df.shape"
   ]
  },
  {
   "cell_type": "code",
   "execution_count": 18,
   "id": "b0aaee84-32f5-451b-8b50-f4f82cf176aa",
   "metadata": {},
   "outputs": [],
   "source": [
    "csv_file_path=current_dir+\"/Human_csv_file\""
   ]
  },
  {
   "cell_type": "code",
   "execution_count": 19,
   "id": "80eb7a38-7248-4151-8e72-39e07962afe8",
   "metadata": {},
   "outputs": [],
   "source": [
    "#save it as a csv file\n",
    "human_intronicmiR_df.to_csv(f'{csv_file_path}/human_intronic_miR_NCBI.csv',index=False)#convert it to csv file"
   ]
  },
  {
   "cell_type": "code",
   "execution_count": null,
   "id": "2bdf006c-9534-488c-9b22-17b1c0e7ca6c",
   "metadata": {},
   "outputs": [],
   "source": []
  }
 ],
 "metadata": {
  "kernelspec": {
   "display_name": "Python 3 (ipykernel)",
   "language": "python",
   "name": "python3"
  },
  "language_info": {
   "codemirror_mode": {
    "name": "ipython",
    "version": 3
   },
   "file_extension": ".py",
   "mimetype": "text/x-python",
   "name": "python",
   "nbconvert_exporter": "python",
   "pygments_lexer": "ipython3",
   "version": "3.9.13"
  }
 },
 "nbformat": 4,
 "nbformat_minor": 5
}
