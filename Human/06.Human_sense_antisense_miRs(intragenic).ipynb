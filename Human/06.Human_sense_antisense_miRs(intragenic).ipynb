{
 "cells": [
  {
   "cell_type": "markdown",
   "id": "9c4ab187-dc38-48dd-b830-40a8c17a4bf9",
   "metadata": {},
   "source": [
    "### Intragenic Exonic sense vs antinsense"
   ]
  },
  {
   "cell_type": "code",
   "execution_count": 2,
   "id": "88c0cdb0-47e8-4c37-80e6-6f1390817d01",
   "metadata": {},
   "outputs": [],
   "source": [
    "import pandas as pd\n",
    "import os\n",
    "current_dir=os.getcwd()"
   ]
  },
  {
   "cell_type": "code",
   "execution_count": 3,
   "id": "b5eb3249-be59-443a-8a97-b116933c365b",
   "metadata": {},
   "outputs": [],
   "source": [
    "exonic_intragenic_columns=['hostgene_chrom', 'hostgene_exonStarts', 'hostgene_exonEnds', 'hostgene_cdsStart', 'hostgene_cdsEnd'\n",
    "         , 'hostgene_strand','hostgene_exonCounts','hostgene_txStarts','hostgene_txEnds','mature_host_mRNA_Length',\n",
    "       'hostgene_Name', 'hostgene_NCBI_ID','miR_chrom', 'miR_exonStarts', 'miR_exonEnds', 'miR_type'\n",
    "         , 'miR_Name',\n",
    "       'miR_strand', 'miR_ID']"
   ]
  },
  {
   "cell_type": "code",
   "execution_count": 4,
   "id": "9d35f66d-0a61-41eb-951b-b90dcb948e57",
   "metadata": {},
   "outputs": [],
   "source": [
    "\"\"\"This file has exonic miRNAs on the same strand as host genes but could only be partially overlapped with the exons.\"\"\"\n",
    "Human_exonicmiR_intragenic=pd.read_csv(f\"{current_dir}/Human_tsv_file/human_exonic_miR_intragenic_NCBI.tsv\", sep=\"\\t\",\n",
    "                                      header=None,names=exonic_intragenic_columns)"
   ]
  },
  {
   "cell_type": "code",
   "execution_count": 5,
   "id": "b3e148c7-286c-4a23-97c3-600d01985787",
   "metadata": {},
   "outputs": [
    {
     "data": {
      "text/plain": [
       "(2058, 19)"
      ]
     },
     "execution_count": 5,
     "metadata": {},
     "output_type": "execute_result"
    }
   ],
   "source": [
    "Human_exonicmiR_intragenic.shape"
   ]
  },
  {
   "cell_type": "code",
   "execution_count": 6,
   "id": "02ba47e5-b653-41cb-994b-53c5061044f8",
   "metadata": {},
   "outputs": [],
   "source": [
    "Human_exonicmiR_antisense=pd.read_csv(f\"{current_dir}/Human_tsv_file/human_exonic_miR_opposite_NCBI.tsv\", sep=\"\\t\",\n",
    "                                      header=None,names=exonic_intragenic_columns)"
   ]
  },
  {
   "cell_type": "code",
   "execution_count": 7,
   "id": "6630c60c-9bbd-4a4d-81d9-cbe2a8acf0c1",
   "metadata": {},
   "outputs": [],
   "source": [
    "Human_exonicmiR_intragenic=Human_exonicmiR_intragenic.loc[Human_exonicmiR_intragenic['miR_type']==\"miRNA_primary_transcript\"]"
   ]
  },
  {
   "cell_type": "code",
   "execution_count": 8,
   "id": "5f2a15a7-d2b3-482c-a78b-04e6c9a5a035",
   "metadata": {},
   "outputs": [],
   "source": [
    "Human_exonicmiR_intragenic=Human_exonicmiR_intragenic.drop_duplicates(subset=[\"miR_Name\"])"
   ]
  },
  {
   "cell_type": "code",
   "execution_count": 9,
   "id": "1af68e2b-727d-48b5-980d-789e0007fb9f",
   "metadata": {},
   "outputs": [],
   "source": [
    "Human_exonicmiR_intragenic[\"miR_Name\"]=Human_exonicmiR_intragenic[\"miR_Name\"].str.replace(\"Name=\", \"\")"
   ]
  },
  {
   "cell_type": "code",
   "execution_count": 10,
   "id": "d4e2df02-6d8f-4921-9e13-a0cdd4bed790",
   "metadata": {},
   "outputs": [],
   "source": [
    "Human_exonicmiR_intragenic[\"host_gene_region\"]=\"exons\""
   ]
  },
  {
   "cell_type": "code",
   "execution_count": null,
   "id": "5cb5787e-afd9-4120-9ee6-8f035ecba458",
   "metadata": {},
   "outputs": [],
   "source": []
  },
  {
   "cell_type": "code",
   "execution_count": null,
   "id": "692bee0d-d2d8-42c6-a514-8b203a55b55e",
   "metadata": {},
   "outputs": [],
   "source": []
  },
  {
   "cell_type": "code",
   "execution_count": null,
   "id": "af175e03-da02-4263-94d1-4c00e2df8847",
   "metadata": {},
   "outputs": [],
   "source": []
  },
  {
   "cell_type": "code",
   "execution_count": null,
   "id": "1407aeb8-cd81-4333-a3b7-e16a66e37047",
   "metadata": {},
   "outputs": [],
   "source": []
  },
  {
   "cell_type": "code",
   "execution_count": null,
   "id": "434e5feb-fe77-450a-8323-379efeac49db",
   "metadata": {},
   "outputs": [],
   "source": []
  },
  {
   "cell_type": "code",
   "execution_count": null,
   "id": "cb74e553-2f85-43f2-92a0-a6a708dcc204",
   "metadata": {},
   "outputs": [],
   "source": []
  },
  {
   "cell_type": "code",
   "execution_count": null,
   "id": "1e016573-a76a-4cc9-acbe-17c39f2cd467",
   "metadata": {},
   "outputs": [],
   "source": []
  },
  {
   "cell_type": "code",
   "execution_count": null,
   "id": "54fd66ba-3a61-4825-8347-5f070abb9eee",
   "metadata": {},
   "outputs": [],
   "source": []
  },
  {
   "cell_type": "code",
   "execution_count": null,
   "id": "cf64b17a-11cc-445d-a929-76fe7893f989",
   "metadata": {},
   "outputs": [],
   "source": []
  },
  {
   "cell_type": "code",
   "execution_count": null,
   "id": "f31ac97d-9e68-4626-bb08-57e95775afff",
   "metadata": {},
   "outputs": [],
   "source": []
  },
  {
   "cell_type": "code",
   "execution_count": null,
   "id": "d3330a7a-791b-4472-a743-83b6751e1751",
   "metadata": {},
   "outputs": [],
   "source": []
  }
 ],
 "metadata": {
  "kernelspec": {
   "display_name": "Python 3 (ipykernel)",
   "language": "python",
   "name": "python3"
  },
  "language_info": {
   "codemirror_mode": {
    "name": "ipython",
    "version": 3
   },
   "file_extension": ".py",
   "mimetype": "text/x-python",
   "name": "python",
   "nbconvert_exporter": "python",
   "pygments_lexer": "ipython3",
   "version": "3.9.13"
  }
 },
 "nbformat": 4,
 "nbformat_minor": 5
}
