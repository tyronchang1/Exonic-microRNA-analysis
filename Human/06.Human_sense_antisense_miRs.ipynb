{
 "cells": [
  {
   "cell_type": "markdown",
   "id": "9c4ab187-dc38-48dd-b830-40a8c17a4bf9",
   "metadata": {},
   "source": [
    "### Intragenic Exonic sense vs antinsense"
   ]
  },
  {
   "cell_type": "code",
   "execution_count": 1,
   "id": "88c0cdb0-47e8-4c37-80e6-6f1390817d01",
   "metadata": {},
   "outputs": [],
   "source": [
    "import pandas as pd\n",
    "import matplotlib.pyplot as plt\n",
    "import os\n",
    "current_dir=os.getcwd()"
   ]
  },
  {
   "cell_type": "code",
   "execution_count": 2,
   "id": "b5eb3249-be59-443a-8a97-b116933c365b",
   "metadata": {},
   "outputs": [],
   "source": [
    "exonic_intragenic_columns=['hostgene_chrom', 'hostgene_exonStarts', 'hostgene_exonEnds', 'hostgene_cdsStart', 'hostgene_cdsEnd'\n",
    "         , 'hostgene_strand','hostgene_exonCounts','hostgene_txStarts','hostgene_txEnds','mature_host_mRNA_Length',\n",
    "       'hostgene_Name', 'hostgene_NCBI_ID','miR_chrom', 'miR_exonStarts', 'miR_exonEnds', 'miR_type'\n",
    "         , 'miR_Name',\n",
    "       'miR_strand', 'miR_ID']"
   ]
  },
  {
   "cell_type": "code",
   "execution_count": 3,
   "id": "9d35f66d-0a61-41eb-951b-b90dcb948e57",
   "metadata": {},
   "outputs": [],
   "source": [
    "\"\"\" This command will get exonic miRNAs on the same strand as host genes. \n",
    "However,miRNAs partially overlapped with the exons will be included.\"\"\"\n",
    "##human_exonic_miR_intragenic_NCBI.tsv is generated from bedtools_nonexonic_miR.sh\n",
    "Human_exonicmiR_intragenic=pd.read_csv(f\"{current_dir}/Human_tsv_file/human_exonic_miR_intragenic_NCBI.tsv\", sep=\"\\t\",\n",
    "                                      header=None,names=exonic_intragenic_columns)"
   ]
  },
  {
   "cell_type": "code",
   "execution_count": 4,
   "id": "b3e148c7-286c-4a23-97c3-600d01985787",
   "metadata": {},
   "outputs": [
    {
     "data": {
      "text/plain": [
       "(2058, 19)"
      ]
     },
     "execution_count": 4,
     "metadata": {},
     "output_type": "execute_result"
    }
   ],
   "source": [
    "Human_exonicmiR_intragenic.shape"
   ]
  },
  {
   "cell_type": "code",
   "execution_count": 5,
   "id": "02ba47e5-b653-41cb-994b-53c5061044f8",
   "metadata": {},
   "outputs": [],
   "source": [
    "\"\"\" This command will get exonic miRNAs on the opposite strand as host genes. \n",
    "However,miRNAs partially overlapped with the exons will be included.\"\"\"\n",
    "##human_exonic_miR_intragenic_NCBI.tsv is generated from bedtools_nonexonic_miR.sh\n",
    "Human_exonicmiR_antisense=pd.read_csv(f\"{current_dir}/Human_tsv_file/human_exonic_miR_opposite_NCBI.tsv\", sep=\"\\t\",\n",
    "                                      header=None,names=exonic_intragenic_columns)"
   ]
  },
  {
   "cell_type": "code",
   "execution_count": 6,
   "id": "6630c60c-9bbd-4a4d-81d9-cbe2a8acf0c1",
   "metadata": {},
   "outputs": [],
   "source": [
    "Human_exonicmiR_intragenic=Human_exonicmiR_intragenic.loc[Human_exonicmiR_intragenic['miR_type']==\"miRNA_primary_transcript\"]"
   ]
  },
  {
   "cell_type": "code",
   "execution_count": 7,
   "id": "5f2a15a7-d2b3-482c-a78b-04e6c9a5a035",
   "metadata": {},
   "outputs": [],
   "source": [
    "Human_exonicmiR_intragenic=Human_exonicmiR_intragenic.drop_duplicates(subset=[\"miR_Name\"])"
   ]
  },
  {
   "cell_type": "code",
   "execution_count": 8,
   "id": "1af68e2b-727d-48b5-980d-789e0007fb9f",
   "metadata": {},
   "outputs": [],
   "source": [
    "Human_exonicmiR_intragenic[\"miR_Name\"]=Human_exonicmiR_intragenic[\"miR_Name\"].str.replace(\"Name=\", \"\")"
   ]
  },
  {
   "cell_type": "code",
   "execution_count": 9,
   "id": "d4e2df02-6d8f-4921-9e13-a0cdd4bed790",
   "metadata": {},
   "outputs": [],
   "source": [
    "Human_exonicmiR_intragenic[\"host_gene_region\"]=\"exons\""
   ]
  },
  {
   "cell_type": "code",
   "execution_count": 10,
   "id": "5cb5787e-afd9-4120-9ee6-8f035ecba458",
   "metadata": {},
   "outputs": [
    {
     "data": {
      "text/html": [
       "<div>\n",
       "<style scoped>\n",
       "    .dataframe tbody tr th:only-of-type {\n",
       "        vertical-align: middle;\n",
       "    }\n",
       "\n",
       "    .dataframe tbody tr th {\n",
       "        vertical-align: top;\n",
       "    }\n",
       "\n",
       "    .dataframe thead th {\n",
       "        text-align: right;\n",
       "    }\n",
       "</style>\n",
       "<table border=\"1\" class=\"dataframe\">\n",
       "  <thead>\n",
       "    <tr style=\"text-align: right;\">\n",
       "      <th></th>\n",
       "      <th>hostgene_chrom</th>\n",
       "      <th>hostgene_exonStarts</th>\n",
       "      <th>hostgene_exonEnds</th>\n",
       "      <th>hostgene_cdsStart</th>\n",
       "      <th>hostgene_cdsEnd</th>\n",
       "      <th>hostgene_strand</th>\n",
       "      <th>hostgene_exonCounts</th>\n",
       "      <th>hostgene_txStarts</th>\n",
       "      <th>hostgene_txEnds</th>\n",
       "      <th>mature_host_mRNA_Length</th>\n",
       "      <th>hostgene_Name</th>\n",
       "      <th>hostgene_NCBI_ID</th>\n",
       "      <th>miR_chrom</th>\n",
       "      <th>miR_exonStarts</th>\n",
       "      <th>miR_exonEnds</th>\n",
       "      <th>miR_type</th>\n",
       "      <th>miR_Name</th>\n",
       "      <th>miR_strand</th>\n",
       "      <th>miR_ID</th>\n",
       "      <th>host_gene_region</th>\n",
       "    </tr>\n",
       "  </thead>\n",
       "  <tbody>\n",
       "    <tr>\n",
       "      <th>0</th>\n",
       "      <td>chr1</td>\n",
       "      <td>175953957</td>\n",
       "      <td>175972080</td>\n",
       "      <td>175971939</td>\n",
       "      <td>176149067</td>\n",
       "      <td>-</td>\n",
       "      <td>13</td>\n",
       "      <td>175953957</td>\n",
       "      <td>176162971</td>\n",
       "      <td>19460</td>\n",
       "      <td>COP1</td>\n",
       "      <td>XM_047427799.1</td>\n",
       "      <td>chr1</td>\n",
       "      <td>175968370</td>\n",
       "      <td>175968479</td>\n",
       "      <td>miRNA_primary_transcript</td>\n",
       "      <td>hsa-mir-1843</td>\n",
       "      <td>-</td>\n",
       "      <td>Alias=MI0032314</td>\n",
       "      <td>exons</td>\n",
       "    </tr>\n",
       "    <tr>\n",
       "      <th>32</th>\n",
       "      <td>chr1</td>\n",
       "      <td>9148010</td>\n",
       "      <td>9151835</td>\n",
       "      <td>9182338</td>\n",
       "      <td>9182338</td>\n",
       "      <td>-</td>\n",
       "      <td>2</td>\n",
       "      <td>9148010</td>\n",
       "      <td>9182338</td>\n",
       "      <td>4157</td>\n",
       "      <td>MIR34AHG</td>\n",
       "      <td>NR_132742.1</td>\n",
       "      <td>chr1</td>\n",
       "      <td>9151668</td>\n",
       "      <td>9151777</td>\n",
       "      <td>miRNA_primary_transcript</td>\n",
       "      <td>hsa-mir-34a</td>\n",
       "      <td>-</td>\n",
       "      <td>Alias=MI0000268</td>\n",
       "      <td>exons</td>\n",
       "    </tr>\n",
       "    <tr>\n",
       "      <th>35</th>\n",
       "      <td>chr1</td>\n",
       "      <td>12166990</td>\n",
       "      <td>12167169</td>\n",
       "      <td>12167091</td>\n",
       "      <td>12207020</td>\n",
       "      <td>+</td>\n",
       "      <td>10</td>\n",
       "      <td>12166990</td>\n",
       "      <td>12209220</td>\n",
       "      <td>3687</td>\n",
       "      <td>TNFRSF1B</td>\n",
       "      <td>NM_001066.3</td>\n",
       "      <td>chr1</td>\n",
       "      <td>12166943</td>\n",
       "      <td>12167038</td>\n",
       "      <td>miRNA_primary_transcript</td>\n",
       "      <td>hsa-mir-7846</td>\n",
       "      <td>+</td>\n",
       "      <td>Alias=MI0025516</td>\n",
       "      <td>exons</td>\n",
       "    </tr>\n",
       "    <tr>\n",
       "      <th>43</th>\n",
       "      <td>chr1</td>\n",
       "      <td>33332274</td>\n",
       "      <td>33332404</td>\n",
       "      <td>33324864</td>\n",
       "      <td>33375539</td>\n",
       "      <td>-</td>\n",
       "      <td>16</td>\n",
       "      <td>33323625</td>\n",
       "      <td>33431095</td>\n",
       "      <td>4050</td>\n",
       "      <td>PHC2</td>\n",
       "      <td>NM_001385119.1</td>\n",
       "      <td>chr1</td>\n",
       "      <td>33332393</td>\n",
       "      <td>33332492</td>\n",
       "      <td>miRNA_primary_transcript</td>\n",
       "      <td>hsa-mir-3605</td>\n",
       "      <td>-</td>\n",
       "      <td>Alias=MI0015995</td>\n",
       "      <td>exons</td>\n",
       "    </tr>\n",
       "    <tr>\n",
       "      <th>50</th>\n",
       "      <td>chr1</td>\n",
       "      <td>98046007</td>\n",
       "      <td>98046396</td>\n",
       "      <td>98049693</td>\n",
       "      <td>98049693</td>\n",
       "      <td>-</td>\n",
       "      <td>5</td>\n",
       "      <td>97987999</td>\n",
       "      <td>98049693</td>\n",
       "      <td>2469</td>\n",
       "      <td>MIR137HG</td>\n",
       "      <td>NR_046105.1</td>\n",
       "      <td>chr1</td>\n",
       "      <td>98046070</td>\n",
       "      <td>98046171</td>\n",
       "      <td>miRNA_primary_transcript</td>\n",
       "      <td>hsa-mir-137</td>\n",
       "      <td>-</td>\n",
       "      <td>Alias=MI0000454</td>\n",
       "      <td>exons</td>\n",
       "    </tr>\n",
       "    <tr>\n",
       "      <th>...</th>\n",
       "      <td>...</td>\n",
       "      <td>...</td>\n",
       "      <td>...</td>\n",
       "      <td>...</td>\n",
       "      <td>...</td>\n",
       "      <td>...</td>\n",
       "      <td>...</td>\n",
       "      <td>...</td>\n",
       "      <td>...</td>\n",
       "      <td>...</td>\n",
       "      <td>...</td>\n",
       "      <td>...</td>\n",
       "      <td>...</td>\n",
       "      <td>...</td>\n",
       "      <td>...</td>\n",
       "      <td>...</td>\n",
       "      <td>...</td>\n",
       "      <td>...</td>\n",
       "      <td>...</td>\n",
       "      <td>...</td>\n",
       "    </tr>\n",
       "    <tr>\n",
       "      <th>1996</th>\n",
       "      <td>chr22</td>\n",
       "      <td>41922031</td>\n",
       "      <td>41925554</td>\n",
       "      <td>41925366</td>\n",
       "      <td>41926773</td>\n",
       "      <td>-</td>\n",
       "      <td>3</td>\n",
       "      <td>41922031</td>\n",
       "      <td>41926806</td>\n",
       "      <td>3923</td>\n",
       "      <td>TNFRSF13C</td>\n",
       "      <td>NM_052945.4</td>\n",
       "      <td>chr22</td>\n",
       "      <td>41923222</td>\n",
       "      <td>41923297</td>\n",
       "      <td>miRNA_primary_transcript</td>\n",
       "      <td>hsa-mir-378i</td>\n",
       "      <td>-</td>\n",
       "      <td>Alias=MI0016902</td>\n",
       "      <td>exons</td>\n",
       "    </tr>\n",
       "    <tr>\n",
       "      <th>1998</th>\n",
       "      <td>chr22</td>\n",
       "      <td>46097925</td>\n",
       "      <td>46113928</td>\n",
       "      <td>46103479</td>\n",
       "      <td>46104589</td>\n",
       "      <td>+</td>\n",
       "      <td>2</td>\n",
       "      <td>46044643</td>\n",
       "      <td>46113928</td>\n",
       "      <td>16367</td>\n",
       "      <td>LOC124905135</td>\n",
       "      <td>XM_047441696.1</td>\n",
       "      <td>chr22</td>\n",
       "      <td>46112749</td>\n",
       "      <td>46112822</td>\n",
       "      <td>miRNA_primary_transcript</td>\n",
       "      <td>hsa-let-7a-3</td>\n",
       "      <td>+</td>\n",
       "      <td>Alias=MI0000062</td>\n",
       "      <td>exons</td>\n",
       "    </tr>\n",
       "    <tr>\n",
       "      <th>2001</th>\n",
       "      <td>chr22</td>\n",
       "      <td>46097925</td>\n",
       "      <td>46113928</td>\n",
       "      <td>46103479</td>\n",
       "      <td>46104589</td>\n",
       "      <td>+</td>\n",
       "      <td>2</td>\n",
       "      <td>46044643</td>\n",
       "      <td>46113928</td>\n",
       "      <td>16367</td>\n",
       "      <td>LOC124905135</td>\n",
       "      <td>XM_047441696.1</td>\n",
       "      <td>chr22</td>\n",
       "      <td>46113566</td>\n",
       "      <td>46113657</td>\n",
       "      <td>miRNA_primary_transcript</td>\n",
       "      <td>hsa-mir-4763</td>\n",
       "      <td>+</td>\n",
       "      <td>Alias=MI0017404</td>\n",
       "      <td>exons</td>\n",
       "    </tr>\n",
       "    <tr>\n",
       "      <th>2004</th>\n",
       "      <td>chr22</td>\n",
       "      <td>46097925</td>\n",
       "      <td>46113928</td>\n",
       "      <td>46103479</td>\n",
       "      <td>46104589</td>\n",
       "      <td>+</td>\n",
       "      <td>2</td>\n",
       "      <td>46044643</td>\n",
       "      <td>46113928</td>\n",
       "      <td>16367</td>\n",
       "      <td>LOC124905135</td>\n",
       "      <td>XM_047441696.1</td>\n",
       "      <td>chr22</td>\n",
       "      <td>46113686</td>\n",
       "      <td>46113768</td>\n",
       "      <td>miRNA_primary_transcript</td>\n",
       "      <td>hsa-let-7b</td>\n",
       "      <td>+</td>\n",
       "      <td>Alias=MI0000063</td>\n",
       "      <td>exons</td>\n",
       "    </tr>\n",
       "    <tr>\n",
       "      <th>2052</th>\n",
       "      <td>chr22</td>\n",
       "      <td>46086166</td>\n",
       "      <td>46095238</td>\n",
       "      <td>46097919</td>\n",
       "      <td>46097919</td>\n",
       "      <td>+</td>\n",
       "      <td>3</td>\n",
       "      <td>46086166</td>\n",
       "      <td>46097919</td>\n",
       "      <td>11634</td>\n",
       "      <td>LOC112268288</td>\n",
       "      <td>XR_002958733.2</td>\n",
       "      <td>chr22</td>\n",
       "      <td>46091044</td>\n",
       "      <td>46091126</td>\n",
       "      <td>miRNA_primary_transcript</td>\n",
       "      <td>hsa-mir-3619</td>\n",
       "      <td>+</td>\n",
       "      <td>Alias=MI0016009</td>\n",
       "      <td>exons</td>\n",
       "    </tr>\n",
       "  </tbody>\n",
       "</table>\n",
       "<p>297 rows × 20 columns</p>\n",
       "</div>"
      ],
      "text/plain": [
       "     hostgene_chrom  hostgene_exonStarts  hostgene_exonEnds  \\\n",
       "0              chr1            175953957          175972080   \n",
       "32             chr1              9148010            9151835   \n",
       "35             chr1             12166990           12167169   \n",
       "43             chr1             33332274           33332404   \n",
       "50             chr1             98046007           98046396   \n",
       "...             ...                  ...                ...   \n",
       "1996          chr22             41922031           41925554   \n",
       "1998          chr22             46097925           46113928   \n",
       "2001          chr22             46097925           46113928   \n",
       "2004          chr22             46097925           46113928   \n",
       "2052          chr22             46086166           46095238   \n",
       "\n",
       "      hostgene_cdsStart  hostgene_cdsEnd hostgene_strand  hostgene_exonCounts  \\\n",
       "0             175971939        176149067               -                   13   \n",
       "32              9182338          9182338               -                    2   \n",
       "35             12167091         12207020               +                   10   \n",
       "43             33324864         33375539               -                   16   \n",
       "50             98049693         98049693               -                    5   \n",
       "...                 ...              ...             ...                  ...   \n",
       "1996           41925366         41926773               -                    3   \n",
       "1998           46103479         46104589               +                    2   \n",
       "2001           46103479         46104589               +                    2   \n",
       "2004           46103479         46104589               +                    2   \n",
       "2052           46097919         46097919               +                    3   \n",
       "\n",
       "      hostgene_txStarts  hostgene_txEnds  mature_host_mRNA_Length  \\\n",
       "0             175953957        176162971                    19460   \n",
       "32              9148010          9182338                     4157   \n",
       "35             12166990         12209220                     3687   \n",
       "43             33323625         33431095                     4050   \n",
       "50             97987999         98049693                     2469   \n",
       "...                 ...              ...                      ...   \n",
       "1996           41922031         41926806                     3923   \n",
       "1998           46044643         46113928                    16367   \n",
       "2001           46044643         46113928                    16367   \n",
       "2004           46044643         46113928                    16367   \n",
       "2052           46086166         46097919                    11634   \n",
       "\n",
       "     hostgene_Name hostgene_NCBI_ID miR_chrom  miR_exonStarts  miR_exonEnds  \\\n",
       "0             COP1   XM_047427799.1      chr1       175968370     175968479   \n",
       "32        MIR34AHG      NR_132742.1      chr1         9151668       9151777   \n",
       "35        TNFRSF1B      NM_001066.3      chr1        12166943      12167038   \n",
       "43            PHC2   NM_001385119.1      chr1        33332393      33332492   \n",
       "50        MIR137HG      NR_046105.1      chr1        98046070      98046171   \n",
       "...            ...              ...       ...             ...           ...   \n",
       "1996     TNFRSF13C      NM_052945.4     chr22        41923222      41923297   \n",
       "1998  LOC124905135   XM_047441696.1     chr22        46112749      46112822   \n",
       "2001  LOC124905135   XM_047441696.1     chr22        46113566      46113657   \n",
       "2004  LOC124905135   XM_047441696.1     chr22        46113686      46113768   \n",
       "2052  LOC112268288   XR_002958733.2     chr22        46091044      46091126   \n",
       "\n",
       "                      miR_type      miR_Name miR_strand           miR_ID  \\\n",
       "0     miRNA_primary_transcript  hsa-mir-1843          -  Alias=MI0032314   \n",
       "32    miRNA_primary_transcript   hsa-mir-34a          -  Alias=MI0000268   \n",
       "35    miRNA_primary_transcript  hsa-mir-7846          +  Alias=MI0025516   \n",
       "43    miRNA_primary_transcript  hsa-mir-3605          -  Alias=MI0015995   \n",
       "50    miRNA_primary_transcript   hsa-mir-137          -  Alias=MI0000454   \n",
       "...                        ...           ...        ...              ...   \n",
       "1996  miRNA_primary_transcript  hsa-mir-378i          -  Alias=MI0016902   \n",
       "1998  miRNA_primary_transcript  hsa-let-7a-3          +  Alias=MI0000062   \n",
       "2001  miRNA_primary_transcript  hsa-mir-4763          +  Alias=MI0017404   \n",
       "2004  miRNA_primary_transcript    hsa-let-7b          +  Alias=MI0000063   \n",
       "2052  miRNA_primary_transcript  hsa-mir-3619          +  Alias=MI0016009   \n",
       "\n",
       "     host_gene_region  \n",
       "0               exons  \n",
       "32              exons  \n",
       "35              exons  \n",
       "43              exons  \n",
       "50              exons  \n",
       "...               ...  \n",
       "1996            exons  \n",
       "1998            exons  \n",
       "2001            exons  \n",
       "2004            exons  \n",
       "2052            exons  \n",
       "\n",
       "[297 rows x 20 columns]"
      ]
     },
     "execution_count": 10,
     "metadata": {},
     "output_type": "execute_result"
    }
   ],
   "source": [
    "Human_exonicmiR_intragenic"
   ]
  },
  {
   "cell_type": "code",
   "execution_count": 11,
   "id": "692bee0d-d2d8-42c6-a514-8b203a55b55e",
   "metadata": {},
   "outputs": [],
   "source": [
    "Human_exonicmiR_antisense=Human_exonicmiR_antisense.loc[Human_exonicmiR_antisense['miR_type']==\"miRNA_primary_transcript\"]"
   ]
  },
  {
   "cell_type": "code",
   "execution_count": 12,
   "id": "af175e03-da02-4263-94d1-4c00e2df8847",
   "metadata": {},
   "outputs": [],
   "source": [
    "Human_exonicmiR_antisense=Human_exonicmiR_antisense.drop_duplicates(subset=[\"miR_Name\"])"
   ]
  },
  {
   "cell_type": "code",
   "execution_count": 13,
   "id": "1407aeb8-cd81-4333-a3b7-e16a66e37047",
   "metadata": {},
   "outputs": [],
   "source": [
    "Human_exonicmiR_antisense[\"miR_Name\"]=Human_exonicmiR_antisense[\"miR_Name\"].str.replace(\"Name=\", \"\")"
   ]
  },
  {
   "cell_type": "code",
   "execution_count": 14,
   "id": "434e5feb-fe77-450a-8323-379efeac49db",
   "metadata": {},
   "outputs": [],
   "source": [
    "Human_exonicmiR_antisense[\"host_gene_region\"]=\"exons\""
   ]
  },
  {
   "cell_type": "code",
   "execution_count": 15,
   "id": "cb74e553-2f85-43f2-92a0-a6a708dcc204",
   "metadata": {},
   "outputs": [
    {
     "data": {
      "text/plain": [
       "(70, 20)"
      ]
     },
     "execution_count": 15,
     "metadata": {},
     "output_type": "execute_result"
    }
   ],
   "source": [
    "Human_exonicmiR_antisense.shape"
   ]
  },
  {
   "cell_type": "code",
   "execution_count": 16,
   "id": "1e016573-a76a-4cc9-acbe-17c39f2cd467",
   "metadata": {},
   "outputs": [
    {
     "data": {
      "text/html": [
       "<div>\n",
       "<style scoped>\n",
       "    .dataframe tbody tr th:only-of-type {\n",
       "        vertical-align: middle;\n",
       "    }\n",
       "\n",
       "    .dataframe tbody tr th {\n",
       "        vertical-align: top;\n",
       "    }\n",
       "\n",
       "    .dataframe thead th {\n",
       "        text-align: right;\n",
       "    }\n",
       "</style>\n",
       "<table border=\"1\" class=\"dataframe\">\n",
       "  <thead>\n",
       "    <tr style=\"text-align: right;\">\n",
       "      <th></th>\n",
       "      <th>hostgene_chrom</th>\n",
       "      <th>hostgene_exonStarts</th>\n",
       "      <th>hostgene_exonEnds</th>\n",
       "      <th>hostgene_cdsStart</th>\n",
       "      <th>hostgene_cdsEnd</th>\n",
       "      <th>hostgene_strand</th>\n",
       "      <th>hostgene_exonCounts</th>\n",
       "      <th>hostgene_txStarts</th>\n",
       "      <th>hostgene_txEnds</th>\n",
       "      <th>mature_host_mRNA_Length</th>\n",
       "      <th>hostgene_Name</th>\n",
       "      <th>hostgene_NCBI_ID</th>\n",
       "      <th>miR_chrom</th>\n",
       "      <th>miR_exonStarts</th>\n",
       "      <th>miR_exonEnds</th>\n",
       "      <th>miR_type</th>\n",
       "      <th>miR_Name</th>\n",
       "      <th>miR_strand</th>\n",
       "      <th>miR_ID</th>\n",
       "      <th>host_gene_region</th>\n",
       "    </tr>\n",
       "  </thead>\n",
       "  <tbody>\n",
       "    <tr>\n",
       "      <th>0</th>\n",
       "      <td>chr1</td>\n",
       "      <td>22863036</td>\n",
       "      <td>22863192</td>\n",
       "      <td>22710982</td>\n",
       "      <td>22913570</td>\n",
       "      <td>+</td>\n",
       "      <td>16</td>\n",
       "      <td>22710837</td>\n",
       "      <td>22921500</td>\n",
       "      <td>10943</td>\n",
       "      <td>EPHB2</td>\n",
       "      <td>XM_047449104.1</td>\n",
       "      <td>chr1</td>\n",
       "      <td>22863159</td>\n",
       "      <td>22863226</td>\n",
       "      <td>miRNA_primary_transcript</td>\n",
       "      <td>hsa-mir-4253</td>\n",
       "      <td>-</td>\n",
       "      <td>Alias=MI0015860</td>\n",
       "      <td>exons</td>\n",
       "    </tr>\n",
       "    <tr>\n",
       "      <th>14</th>\n",
       "      <td>chr1</td>\n",
       "      <td>43448102</td>\n",
       "      <td>43448644</td>\n",
       "      <td>43448644</td>\n",
       "      <td>43448644</td>\n",
       "      <td>-</td>\n",
       "      <td>2</td>\n",
       "      <td>43447775</td>\n",
       "      <td>43448644</td>\n",
       "      <td>699</td>\n",
       "      <td>SZT2-AS1</td>\n",
       "      <td>NR_046744.1</td>\n",
       "      <td>chr1</td>\n",
       "      <td>43448539</td>\n",
       "      <td>43448611</td>\n",
       "      <td>miRNA_primary_transcript</td>\n",
       "      <td>hsa-mir-6735</td>\n",
       "      <td>+</td>\n",
       "      <td>Alias=MI0022580</td>\n",
       "      <td>exons</td>\n",
       "    </tr>\n",
       "    <tr>\n",
       "      <th>17</th>\n",
       "      <td>chr1</td>\n",
       "      <td>116550384</td>\n",
       "      <td>116561187</td>\n",
       "      <td>116561187</td>\n",
       "      <td>116561187</td>\n",
       "      <td>+</td>\n",
       "      <td>3</td>\n",
       "      <td>116544700</td>\n",
       "      <td>116561187</td>\n",
       "      <td>11010</td>\n",
       "      <td>LOC105378925</td>\n",
       "      <td>XR_947739.2</td>\n",
       "      <td>chr1</td>\n",
       "      <td>116560024</td>\n",
       "      <td>116560111</td>\n",
       "      <td>miRNA_primary_transcript</td>\n",
       "      <td>hsa-mir-548ac</td>\n",
       "      <td>-</td>\n",
       "      <td>Alias=MI0016762</td>\n",
       "      <td>exons</td>\n",
       "    </tr>\n",
       "    <tr>\n",
       "      <th>19</th>\n",
       "      <td>chr1</td>\n",
       "      <td>172136878</td>\n",
       "      <td>172144835</td>\n",
       "      <td>172144835</td>\n",
       "      <td>172144835</td>\n",
       "      <td>-</td>\n",
       "      <td>1</td>\n",
       "      <td>172136878</td>\n",
       "      <td>172144835</td>\n",
       "      <td>7957</td>\n",
       "      <td>DNM3OS</td>\n",
       "      <td>NR_038397.2</td>\n",
       "      <td>chr1</td>\n",
       "      <td>172138808</td>\n",
       "      <td>172138888</td>\n",
       "      <td>miRNA_primary_transcript</td>\n",
       "      <td>hsa-mir-3120</td>\n",
       "      <td>+</td>\n",
       "      <td>Alias=MI0014136</td>\n",
       "      <td>exons</td>\n",
       "    </tr>\n",
       "    <tr>\n",
       "      <th>25</th>\n",
       "      <td>chr2</td>\n",
       "      <td>6650105</td>\n",
       "      <td>6650519</td>\n",
       "      <td>6650519</td>\n",
       "      <td>6650519</td>\n",
       "      <td>-</td>\n",
       "      <td>2</td>\n",
       "      <td>6649106</td>\n",
       "      <td>6650519</td>\n",
       "      <td>689</td>\n",
       "      <td>MIR7515HG</td>\n",
       "      <td>NR_110497.1</td>\n",
       "      <td>chr2</td>\n",
       "      <td>6650373</td>\n",
       "      <td>6650439</td>\n",
       "      <td>miRNA_primary_transcript</td>\n",
       "      <td>hsa-mir-7515</td>\n",
       "      <td>+</td>\n",
       "      <td>Alias=MI0024354</td>\n",
       "      <td>exons</td>\n",
       "    </tr>\n",
       "    <tr>\n",
       "      <th>...</th>\n",
       "      <td>...</td>\n",
       "      <td>...</td>\n",
       "      <td>...</td>\n",
       "      <td>...</td>\n",
       "      <td>...</td>\n",
       "      <td>...</td>\n",
       "      <td>...</td>\n",
       "      <td>...</td>\n",
       "      <td>...</td>\n",
       "      <td>...</td>\n",
       "      <td>...</td>\n",
       "      <td>...</td>\n",
       "      <td>...</td>\n",
       "      <td>...</td>\n",
       "      <td>...</td>\n",
       "      <td>...</td>\n",
       "      <td>...</td>\n",
       "      <td>...</td>\n",
       "      <td>...</td>\n",
       "      <td>...</td>\n",
       "    </tr>\n",
       "    <tr>\n",
       "      <th>546</th>\n",
       "      <td>chr19</td>\n",
       "      <td>51692633</td>\n",
       "      <td>51693456</td>\n",
       "      <td>51693456</td>\n",
       "      <td>51693456</td>\n",
       "      <td>-</td>\n",
       "      <td>2</td>\n",
       "      <td>51685362</td>\n",
       "      <td>51693456</td>\n",
       "      <td>3962</td>\n",
       "      <td>SPACA6-AS1</td>\n",
       "      <td>NR_108100.1</td>\n",
       "      <td>chr19</td>\n",
       "      <td>51693254</td>\n",
       "      <td>51693339</td>\n",
       "      <td>miRNA_primary_transcript</td>\n",
       "      <td>hsa-mir-125a</td>\n",
       "      <td>+</td>\n",
       "      <td>Alias=MI0000469</td>\n",
       "      <td>exons</td>\n",
       "    </tr>\n",
       "    <tr>\n",
       "      <th>549</th>\n",
       "      <td>chr19</td>\n",
       "      <td>53787021</td>\n",
       "      <td>53787759</td>\n",
       "      <td>53788225</td>\n",
       "      <td>53788225</td>\n",
       "      <td>-</td>\n",
       "      <td>2</td>\n",
       "      <td>53787021</td>\n",
       "      <td>53788225</td>\n",
       "      <td>1077</td>\n",
       "      <td>LOC124904767</td>\n",
       "      <td>XR_007067336.1</td>\n",
       "      <td>chr19</td>\n",
       "      <td>53787675</td>\n",
       "      <td>53787741</td>\n",
       "      <td>miRNA_primary_transcript</td>\n",
       "      <td>hsa-mir-371a</td>\n",
       "      <td>+</td>\n",
       "      <td>Alias=MI0000779</td>\n",
       "      <td>exons</td>\n",
       "    </tr>\n",
       "    <tr>\n",
       "      <th>552</th>\n",
       "      <td>chr19</td>\n",
       "      <td>53787886</td>\n",
       "      <td>53788225</td>\n",
       "      <td>53788225</td>\n",
       "      <td>53788225</td>\n",
       "      <td>-</td>\n",
       "      <td>2</td>\n",
       "      <td>53787021</td>\n",
       "      <td>53788225</td>\n",
       "      <td>1077</td>\n",
       "      <td>LOC124904767</td>\n",
       "      <td>XR_007067336.1</td>\n",
       "      <td>chr19</td>\n",
       "      <td>53787890</td>\n",
       "      <td>53787956</td>\n",
       "      <td>miRNA_primary_transcript</td>\n",
       "      <td>hsa-mir-372</td>\n",
       "      <td>+</td>\n",
       "      <td>Alias=MI0000780</td>\n",
       "      <td>exons</td>\n",
       "    </tr>\n",
       "    <tr>\n",
       "      <th>555</th>\n",
       "      <td>chr20</td>\n",
       "      <td>62064450</td>\n",
       "      <td>62065458</td>\n",
       "      <td>61976167</td>\n",
       "      <td>62064694</td>\n",
       "      <td>-</td>\n",
       "      <td>16</td>\n",
       "      <td>61974797</td>\n",
       "      <td>62065863</td>\n",
       "      <td>4392</td>\n",
       "      <td>TAF4</td>\n",
       "      <td>XM_047440429.1</td>\n",
       "      <td>chr20</td>\n",
       "      <td>62064802</td>\n",
       "      <td>62064885</td>\n",
       "      <td>miRNA_primary_transcript</td>\n",
       "      <td>hsa-mir-3195</td>\n",
       "      <td>+</td>\n",
       "      <td>Alias=MI0014240</td>\n",
       "      <td>exons</td>\n",
       "    </tr>\n",
       "    <tr>\n",
       "      <th>559</th>\n",
       "      <td>chr21</td>\n",
       "      <td>13641344</td>\n",
       "      <td>13645823</td>\n",
       "      <td>13610228</td>\n",
       "      <td>13641566</td>\n",
       "      <td>+</td>\n",
       "      <td>11</td>\n",
       "      <td>13609776</td>\n",
       "      <td>13645823</td>\n",
       "      <td>6464</td>\n",
       "      <td>POTED</td>\n",
       "      <td>NM_174981.6</td>\n",
       "      <td>chr21</td>\n",
       "      <td>13644775</td>\n",
       "      <td>13644850</td>\n",
       "      <td>miRNA_primary_transcript</td>\n",
       "      <td>hsa-mir-3118-1</td>\n",
       "      <td>-</td>\n",
       "      <td>Alias=MI0014131</td>\n",
       "      <td>exons</td>\n",
       "    </tr>\n",
       "  </tbody>\n",
       "</table>\n",
       "<p>70 rows × 20 columns</p>\n",
       "</div>"
      ],
      "text/plain": [
       "    hostgene_chrom  hostgene_exonStarts  hostgene_exonEnds  hostgene_cdsStart  \\\n",
       "0             chr1             22863036           22863192           22710982   \n",
       "14            chr1             43448102           43448644           43448644   \n",
       "17            chr1            116550384          116561187          116561187   \n",
       "19            chr1            172136878          172144835          172144835   \n",
       "25            chr2              6650105            6650519            6650519   \n",
       "..             ...                  ...                ...                ...   \n",
       "546          chr19             51692633           51693456           51693456   \n",
       "549          chr19             53787021           53787759           53788225   \n",
       "552          chr19             53787886           53788225           53788225   \n",
       "555          chr20             62064450           62065458           61976167   \n",
       "559          chr21             13641344           13645823           13610228   \n",
       "\n",
       "     hostgene_cdsEnd hostgene_strand  hostgene_exonCounts  hostgene_txStarts  \\\n",
       "0           22913570               +                   16           22710837   \n",
       "14          43448644               -                    2           43447775   \n",
       "17         116561187               +                    3          116544700   \n",
       "19         172144835               -                    1          172136878   \n",
       "25           6650519               -                    2            6649106   \n",
       "..               ...             ...                  ...                ...   \n",
       "546         51693456               -                    2           51685362   \n",
       "549         53788225               -                    2           53787021   \n",
       "552         53788225               -                    2           53787021   \n",
       "555         62064694               -                   16           61974797   \n",
       "559         13641566               +                   11           13609776   \n",
       "\n",
       "     hostgene_txEnds  mature_host_mRNA_Length hostgene_Name hostgene_NCBI_ID  \\\n",
       "0           22921500                    10943         EPHB2   XM_047449104.1   \n",
       "14          43448644                      699      SZT2-AS1      NR_046744.1   \n",
       "17         116561187                    11010  LOC105378925      XR_947739.2   \n",
       "19         172144835                     7957        DNM3OS      NR_038397.2   \n",
       "25           6650519                      689     MIR7515HG      NR_110497.1   \n",
       "..               ...                      ...           ...              ...   \n",
       "546         51693456                     3962    SPACA6-AS1      NR_108100.1   \n",
       "549         53788225                     1077  LOC124904767   XR_007067336.1   \n",
       "552         53788225                     1077  LOC124904767   XR_007067336.1   \n",
       "555         62065863                     4392          TAF4   XM_047440429.1   \n",
       "559         13645823                     6464         POTED      NM_174981.6   \n",
       "\n",
       "    miR_chrom  miR_exonStarts  miR_exonEnds                  miR_type  \\\n",
       "0        chr1        22863159      22863226  miRNA_primary_transcript   \n",
       "14       chr1        43448539      43448611  miRNA_primary_transcript   \n",
       "17       chr1       116560024     116560111  miRNA_primary_transcript   \n",
       "19       chr1       172138808     172138888  miRNA_primary_transcript   \n",
       "25       chr2         6650373       6650439  miRNA_primary_transcript   \n",
       "..        ...             ...           ...                       ...   \n",
       "546     chr19        51693254      51693339  miRNA_primary_transcript   \n",
       "549     chr19        53787675      53787741  miRNA_primary_transcript   \n",
       "552     chr19        53787890      53787956  miRNA_primary_transcript   \n",
       "555     chr20        62064802      62064885  miRNA_primary_transcript   \n",
       "559     chr21        13644775      13644850  miRNA_primary_transcript   \n",
       "\n",
       "           miR_Name miR_strand           miR_ID host_gene_region  \n",
       "0      hsa-mir-4253          -  Alias=MI0015860            exons  \n",
       "14     hsa-mir-6735          +  Alias=MI0022580            exons  \n",
       "17    hsa-mir-548ac          -  Alias=MI0016762            exons  \n",
       "19     hsa-mir-3120          +  Alias=MI0014136            exons  \n",
       "25     hsa-mir-7515          +  Alias=MI0024354            exons  \n",
       "..              ...        ...              ...              ...  \n",
       "546    hsa-mir-125a          +  Alias=MI0000469            exons  \n",
       "549    hsa-mir-371a          +  Alias=MI0000779            exons  \n",
       "552     hsa-mir-372          +  Alias=MI0000780            exons  \n",
       "555    hsa-mir-3195          +  Alias=MI0014240            exons  \n",
       "559  hsa-mir-3118-1          -  Alias=MI0014131            exons  \n",
       "\n",
       "[70 rows x 20 columns]"
      ]
     },
     "execution_count": 16,
     "metadata": {},
     "output_type": "execute_result"
    }
   ],
   "source": [
    "Human_exonicmiR_antisense"
   ]
  },
  {
   "cell_type": "code",
   "execution_count": 17,
   "id": "54fd66ba-3a61-4825-8347-5f070abb9eee",
   "metadata": {},
   "outputs": [],
   "source": [
    "Human_exonicmiR_intragenic=pd.concat([Human_exonicmiR_intragenic,Human_exonicmiR_antisense],axis=0)"
   ]
  },
  {
   "cell_type": "code",
   "execution_count": 18,
   "id": "cf64b17a-11cc-445d-a929-76fe7893f989",
   "metadata": {},
   "outputs": [
    {
     "data": {
      "text/plain": [
       "(367, 20)"
      ]
     },
     "execution_count": 18,
     "metadata": {},
     "output_type": "execute_result"
    }
   ],
   "source": [
    "#### This file has all miRNAs are only partially or fully overlapped with the exons of the hostgenes.\n",
    "### Sense and antisense ones are included here.\n",
    "Human_exonicmiR_intragenic.shape"
   ]
  },
  {
   "cell_type": "markdown",
   "id": "b949f3d9-63c3-441f-acaf-d4bae4ba19c0",
   "metadata": {},
   "source": [
    "### Intronic_antisense"
   ]
  },
  {
   "cell_type": "code",
   "execution_count": 19,
   "id": "d3330a7a-791b-4472-a743-83b6751e1751",
   "metadata": {},
   "outputs": [],
   "source": [
    "intronic_intragenic_columns=['hostgene_chrom', 'hostgene_txStarts', 'hostgene_txEnds', 'hostgene_cdsStart', 'hostgene_cdsEnd'\n",
    "         , 'hostgene_strand','hostgene_Name', 'hostgene_NCBI_ID','miR_chrom', 'miR_exonStarts', 'miR_exonEnds', 'miR_type'\n",
    "         , 'miR_Name','miR_strand', 'miR_ID']"
   ]
  },
  {
   "cell_type": "code",
   "execution_count": 20,
   "id": "e0eadc99-d7ed-4454-b2a7-5ea2bb382a15",
   "metadata": {},
   "outputs": [
    {
     "data": {
      "text/plain": [
       "15"
      ]
     },
     "execution_count": 20,
     "metadata": {},
     "output_type": "execute_result"
    }
   ],
   "source": [
    "len(intronic_intragenic_columns)"
   ]
  },
  {
   "cell_type": "code",
   "execution_count": 21,
   "id": "0517b2bb-60eb-49d3-9028-d8ffc63eac75",
   "metadata": {},
   "outputs": [],
   "source": [
    "Human_intronicmiR_intragenic=pd.read_csv(f\"{current_dir}/Human_tsv_file/human_intronic_miR_intragenic_NCBI.tsv\", sep=\"\\t\",\n",
    "                                      header=None,names=intronic_intragenic_columns)"
   ]
  },
  {
   "cell_type": "code",
   "execution_count": 22,
   "id": "c2dee11a-e156-46d7-a6a8-5b082612bcd5",
   "metadata": {},
   "outputs": [],
   "source": [
    "Human_intronicmiR_antisense=pd.read_csv(f\"{current_dir}/Human_tsv_file/human_intronic_opposite_miR_NCBI.tsv\", sep=\"\\t\",\n",
    "                                      header=None,names=intronic_intragenic_columns)"
   ]
  },
  {
   "cell_type": "code",
   "execution_count": 23,
   "id": "5266cb18-8114-46d6-9675-e058ec73a369",
   "metadata": {},
   "outputs": [],
   "source": [
    "Human_intronicmiR_intragenic=Human_intronicmiR_intragenic.loc[Human_intronicmiR_intragenic['miR_type']==\"miRNA_primary_transcript\"]"
   ]
  },
  {
   "cell_type": "code",
   "execution_count": 24,
   "id": "fbf3f6fe-adb7-4639-a6df-919fa45a6a3a",
   "metadata": {},
   "outputs": [],
   "source": [
    "Human_intronicmiR_intragenic=Human_intronicmiR_intragenic.drop_duplicates(subset=[\"miR_Name\"])"
   ]
  },
  {
   "cell_type": "code",
   "execution_count": 25,
   "id": "74fa307b-09d7-49ed-aed4-c0c4fa3cd6e3",
   "metadata": {},
   "outputs": [
    {
     "data": {
      "text/plain": [
       "(1157, 15)"
      ]
     },
     "execution_count": 25,
     "metadata": {},
     "output_type": "execute_result"
    }
   ],
   "source": [
    "Human_intronicmiR_intragenic.shape"
   ]
  },
  {
   "cell_type": "code",
   "execution_count": 26,
   "id": "f26d54fa-495a-4709-8822-25ac445611ce",
   "metadata": {},
   "outputs": [],
   "source": [
    "Human_intronicmiR_intragenic[\"miR_Name\"]=Human_intronicmiR_intragenic[\"miR_Name\"].str.replace(\"Name=\", \"\")"
   ]
  },
  {
   "cell_type": "code",
   "execution_count": 27,
   "id": "cae6941b-13a4-44fd-b5f8-7bc56a730b34",
   "metadata": {},
   "outputs": [],
   "source": [
    "Human_intronicmiR_intragenic[\"host_gene_region\"]= \"introns\""
   ]
  },
  {
   "cell_type": "code",
   "execution_count": 28,
   "id": "fe70bc8a-5226-4cb6-a58a-3034d5532e2d",
   "metadata": {},
   "outputs": [],
   "source": [
    "Human_intronicmiR_antisense=Human_intronicmiR_antisense.loc[Human_intronicmiR_antisense['miR_type']==\"miRNA_primary_transcript\"]"
   ]
  },
  {
   "cell_type": "code",
   "execution_count": 29,
   "id": "96d65e3c-d806-4fac-a967-05097196c36a",
   "metadata": {},
   "outputs": [],
   "source": [
    "Human_intronicmiR_antisense=Human_intronicmiR_antisense.drop_duplicates(subset=[\"miR_Name\"])"
   ]
  },
  {
   "cell_type": "code",
   "execution_count": 30,
   "id": "1e80f46b-04b7-4c83-8eec-b42df7b9604f",
   "metadata": {},
   "outputs": [],
   "source": [
    "Human_intronicmiR_antisense[\"miR_Name\"]=Human_intronicmiR_antisense[\"miR_Name\"].str.replace(\"Name=\", \"\")"
   ]
  },
  {
   "cell_type": "code",
   "execution_count": 31,
   "id": "6b7f1441-0980-43d9-b97b-8675d8fff3af",
   "metadata": {},
   "outputs": [],
   "source": [
    "Human_intronicmiR_antisense[\"host_gene_region\"]=\"introns\""
   ]
  },
  {
   "cell_type": "code",
   "execution_count": 32,
   "id": "8da16b30-f48e-47ed-8764-019eb428d8e6",
   "metadata": {},
   "outputs": [
    {
     "data": {
      "text/plain": [
       "(253, 16)"
      ]
     },
     "execution_count": 32,
     "metadata": {},
     "output_type": "execute_result"
    }
   ],
   "source": [
    "Human_intronicmiR_antisense.shape"
   ]
  },
  {
   "cell_type": "code",
   "execution_count": 33,
   "id": "286cf20e-3a2d-40ea-9bab-fac730f93a6f",
   "metadata": {},
   "outputs": [],
   "source": [
    "Human_intronicmiR_intragenic=pd.concat([Human_intronicmiR_intragenic, Human_intronicmiR_antisense],axis=0)"
   ]
  },
  {
   "cell_type": "markdown",
   "id": "c7a04e6b-8d71-47d3-9892-278730e161ed",
   "metadata": {},
   "source": [
    "### Merge exonic and intronic intragenic files and determine the transcriptional direction of miRNAs relative to the hostgenes"
   ]
  },
  {
   "cell_type": "code",
   "execution_count": 34,
   "id": "329741ab-120d-413a-a2f2-6dbe617c92e6",
   "metadata": {},
   "outputs": [
    {
     "data": {
      "text/plain": [
       "Index(['hostgene_chrom', 'hostgene_exonStarts', 'hostgene_exonEnds',\n",
       "       'hostgene_cdsStart', 'hostgene_cdsEnd', 'hostgene_strand',\n",
       "       'hostgene_exonCounts', 'hostgene_txStarts', 'hostgene_txEnds',\n",
       "       'mature_host_mRNA_Length', 'hostgene_Name', 'hostgene_NCBI_ID',\n",
       "       'miR_chrom', 'miR_exonStarts', 'miR_exonEnds', 'miR_type', 'miR_Name',\n",
       "       'miR_strand', 'miR_ID', 'host_gene_region'],\n",
       "      dtype='object')"
      ]
     },
     "execution_count": 34,
     "metadata": {},
     "output_type": "execute_result"
    }
   ],
   "source": [
    "Human_exonicmiR_intragenic.columns"
   ]
  },
  {
   "cell_type": "code",
   "execution_count": 35,
   "id": "7c473a4f-e78c-459e-b76f-19ceab8847b6",
   "metadata": {},
   "outputs": [],
   "source": [
    "Human_exonicmiR_intragenic=Human_exonicmiR_intragenic[['hostgene_NCBI_ID', 'hostgene_Name','hostgene_strand',\n",
    "      'miR_type', 'miR_Name', 'miR_ID','miR_strand','host_gene_region']]"
   ]
  },
  {
   "cell_type": "code",
   "execution_count": 36,
   "id": "1edf7627-e4f7-433b-8025-309105bfba3c",
   "metadata": {},
   "outputs": [
    {
     "data": {
      "text/plain": [
       "Index(['hostgene_chrom', 'hostgene_txStarts', 'hostgene_txEnds',\n",
       "       'hostgene_cdsStart', 'hostgene_cdsEnd', 'hostgene_strand',\n",
       "       'hostgene_Name', 'hostgene_NCBI_ID', 'miR_chrom', 'miR_exonStarts',\n",
       "       'miR_exonEnds', 'miR_type', 'miR_Name', 'miR_strand', 'miR_ID',\n",
       "       'host_gene_region'],\n",
       "      dtype='object')"
      ]
     },
     "execution_count": 36,
     "metadata": {},
     "output_type": "execute_result"
    }
   ],
   "source": [
    "Human_intronicmiR_intragenic.columns"
   ]
  },
  {
   "cell_type": "code",
   "execution_count": 37,
   "id": "ad5feb83-b4c3-42e0-b6c9-e4621cfaeaba",
   "metadata": {},
   "outputs": [],
   "source": [
    "Human_intronicmiR_intragenic=Human_intronicmiR_intragenic[['hostgene_NCBI_ID', 'hostgene_Name','hostgene_strand',\n",
    "      'miR_type', 'miR_Name', 'miR_ID','miR_strand','host_gene_region']]"
   ]
  },
  {
   "cell_type": "code",
   "execution_count": 38,
   "id": "9158c2fd-3c48-431b-9c03-09f8386ef74c",
   "metadata": {},
   "outputs": [],
   "source": [
    "Human_intragenic_df=pd.concat([Human_exonicmiR_intragenic,Human_intronicmiR_intragenic], axis=0)"
   ]
  },
  {
   "cell_type": "code",
   "execution_count": 39,
   "id": "c9d83b6d-d01e-44e5-8857-ef433828d7b4",
   "metadata": {},
   "outputs": [
    {
     "data": {
      "text/plain": [
       "(1777, 8)"
      ]
     },
     "execution_count": 39,
     "metadata": {},
     "output_type": "execute_result"
    }
   ],
   "source": [
    "Human_intragenic_df.shape"
   ]
  },
  {
   "cell_type": "code",
   "execution_count": 40,
   "id": "240573a6-2bd3-462c-aea6-934147e22291",
   "metadata": {},
   "outputs": [
    {
     "data": {
      "text/plain": [
       "(1410, 8)"
      ]
     },
     "execution_count": 40,
     "metadata": {},
     "output_type": "execute_result"
    }
   ],
   "source": [
    "Human_intronicmiR_intragenic.shape"
   ]
  },
  {
   "cell_type": "code",
   "execution_count": 41,
   "id": "94dd49f5-9b67-45fe-8bc9-2b7f526cefbd",
   "metadata": {},
   "outputs": [
    {
     "data": {
      "text/plain": [
       "(367, 8)"
      ]
     },
     "execution_count": 41,
     "metadata": {},
     "output_type": "execute_result"
    }
   ],
   "source": [
    "Human_exonicmiR_intragenic.shape"
   ]
  },
  {
   "cell_type": "code",
   "execution_count": 42,
   "id": "a5301ffc-9d64-4015-ad8e-968837e58040",
   "metadata": {},
   "outputs": [],
   "source": [
    "Human_intragenic_df=Human_intragenic_df.drop_duplicates(subset=[\"miR_Name\"])"
   ]
  },
  {
   "cell_type": "code",
   "execution_count": 43,
   "id": "ec2445a4-829d-4152-a325-8f5250c87d9d",
   "metadata": {},
   "outputs": [
    {
     "data": {
      "text/plain": [
       "(1519, 8)"
      ]
     },
     "execution_count": 43,
     "metadata": {},
     "output_type": "execute_result"
    }
   ],
   "source": [
    "####Remove any duplicated intragenic miRNAs\n",
    "Human_intragenic_df.shape"
   ]
  },
  {
   "cell_type": "code",
   "execution_count": 44,
   "id": "8f950563-b035-4b8c-b974-5f3c398c17fd",
   "metadata": {},
   "outputs": [],
   "source": [
    "def transcription_direction(df,transcription_direction,hostgene_strand,miRNA_strand):\n",
    "    \"\"\"This function will assign transcription direction of miRNAs relative to their host genes\"\"\"\n",
    "    df[transcription_direction] = df.apply(lambda row: \"sense (+)\" if row[hostgene_strand] == row[miRNA_strand] else \"antisense (-)\", axis=1)\n",
    "    return df"
   ]
  },
  {
   "cell_type": "code",
   "execution_count": 45,
   "id": "b8e4700b-31ff-476a-9029-9af8bb21932b",
   "metadata": {},
   "outputs": [
    {
     "data": {
      "text/html": [
       "<div>\n",
       "<style scoped>\n",
       "    .dataframe tbody tr th:only-of-type {\n",
       "        vertical-align: middle;\n",
       "    }\n",
       "\n",
       "    .dataframe tbody tr th {\n",
       "        vertical-align: top;\n",
       "    }\n",
       "\n",
       "    .dataframe thead th {\n",
       "        text-align: right;\n",
       "    }\n",
       "</style>\n",
       "<table border=\"1\" class=\"dataframe\">\n",
       "  <thead>\n",
       "    <tr style=\"text-align: right;\">\n",
       "      <th></th>\n",
       "      <th>hostgene_NCBI_ID</th>\n",
       "      <th>hostgene_Name</th>\n",
       "      <th>hostgene_strand</th>\n",
       "      <th>miR_type</th>\n",
       "      <th>miR_Name</th>\n",
       "      <th>miR_ID</th>\n",
       "      <th>miR_strand</th>\n",
       "      <th>host_gene_region</th>\n",
       "      <th>transcription_direction_relative_to_the_host_gene</th>\n",
       "    </tr>\n",
       "  </thead>\n",
       "  <tbody>\n",
       "    <tr>\n",
       "      <th>0</th>\n",
       "      <td>XM_047427799.1</td>\n",
       "      <td>COP1</td>\n",
       "      <td>-</td>\n",
       "      <td>miRNA_primary_transcript</td>\n",
       "      <td>hsa-mir-1843</td>\n",
       "      <td>Alias=MI0032314</td>\n",
       "      <td>-</td>\n",
       "      <td>exons</td>\n",
       "      <td>sense (+)</td>\n",
       "    </tr>\n",
       "    <tr>\n",
       "      <th>32</th>\n",
       "      <td>NR_132742.1</td>\n",
       "      <td>MIR34AHG</td>\n",
       "      <td>-</td>\n",
       "      <td>miRNA_primary_transcript</td>\n",
       "      <td>hsa-mir-34a</td>\n",
       "      <td>Alias=MI0000268</td>\n",
       "      <td>-</td>\n",
       "      <td>exons</td>\n",
       "      <td>sense (+)</td>\n",
       "    </tr>\n",
       "    <tr>\n",
       "      <th>35</th>\n",
       "      <td>NM_001066.3</td>\n",
       "      <td>TNFRSF1B</td>\n",
       "      <td>+</td>\n",
       "      <td>miRNA_primary_transcript</td>\n",
       "      <td>hsa-mir-7846</td>\n",
       "      <td>Alias=MI0025516</td>\n",
       "      <td>+</td>\n",
       "      <td>exons</td>\n",
       "      <td>sense (+)</td>\n",
       "    </tr>\n",
       "    <tr>\n",
       "      <th>43</th>\n",
       "      <td>NM_001385119.1</td>\n",
       "      <td>PHC2</td>\n",
       "      <td>-</td>\n",
       "      <td>miRNA_primary_transcript</td>\n",
       "      <td>hsa-mir-3605</td>\n",
       "      <td>Alias=MI0015995</td>\n",
       "      <td>-</td>\n",
       "      <td>exons</td>\n",
       "      <td>sense (+)</td>\n",
       "    </tr>\n",
       "    <tr>\n",
       "      <th>50</th>\n",
       "      <td>NR_046105.1</td>\n",
       "      <td>MIR137HG</td>\n",
       "      <td>-</td>\n",
       "      <td>miRNA_primary_transcript</td>\n",
       "      <td>hsa-mir-137</td>\n",
       "      <td>Alias=MI0000454</td>\n",
       "      <td>-</td>\n",
       "      <td>exons</td>\n",
       "      <td>sense (+)</td>\n",
       "    </tr>\n",
       "    <tr>\n",
       "      <th>...</th>\n",
       "      <td>...</td>\n",
       "      <td>...</td>\n",
       "      <td>...</td>\n",
       "      <td>...</td>\n",
       "      <td>...</td>\n",
       "      <td>...</td>\n",
       "      <td>...</td>\n",
       "      <td>...</td>\n",
       "      <td>...</td>\n",
       "    </tr>\n",
       "    <tr>\n",
       "      <th>24840</th>\n",
       "      <td>NM_001135729.2</td>\n",
       "      <td>TOM1</td>\n",
       "      <td>+</td>\n",
       "      <td>miRNA_primary_transcript</td>\n",
       "      <td>hsa-mir-6069</td>\n",
       "      <td>Alias=MI0020346</td>\n",
       "      <td>-</td>\n",
       "      <td>introns</td>\n",
       "      <td>antisense (-)</td>\n",
       "    </tr>\n",
       "    <tr>\n",
       "      <th>24886</th>\n",
       "      <td>XM_047441138.1</td>\n",
       "      <td>ANKRD54</td>\n",
       "      <td>-</td>\n",
       "      <td>miRNA_primary_transcript</td>\n",
       "      <td>hsa-mir-659</td>\n",
       "      <td>Alias=MI0003683</td>\n",
       "      <td>-</td>\n",
       "      <td>introns</td>\n",
       "      <td>sense (+)</td>\n",
       "    </tr>\n",
       "    <tr>\n",
       "      <th>24901</th>\n",
       "      <td>NM_001282726.2</td>\n",
       "      <td>SLC25A17</td>\n",
       "      <td>-</td>\n",
       "      <td>miRNA_primary_transcript</td>\n",
       "      <td>hsa-mir-4766</td>\n",
       "      <td>Alias=MI0017407</td>\n",
       "      <td>-</td>\n",
       "      <td>introns</td>\n",
       "      <td>sense (+)</td>\n",
       "    </tr>\n",
       "    <tr>\n",
       "      <th>24952</th>\n",
       "      <td>XM_011530347.3</td>\n",
       "      <td>SREBF2</td>\n",
       "      <td>+</td>\n",
       "      <td>miRNA_primary_transcript</td>\n",
       "      <td>hsa-mir-33a</td>\n",
       "      <td>Alias=MI0000091</td>\n",
       "      <td>+</td>\n",
       "      <td>introns</td>\n",
       "      <td>sense (+)</td>\n",
       "    </tr>\n",
       "    <tr>\n",
       "      <th>24964</th>\n",
       "      <td>NM_001001852.4</td>\n",
       "      <td>PIM3</td>\n",
       "      <td>+</td>\n",
       "      <td>miRNA_primary_transcript</td>\n",
       "      <td>hsa-mir-6821</td>\n",
       "      <td>Alias=MI0022666</td>\n",
       "      <td>+</td>\n",
       "      <td>introns</td>\n",
       "      <td>sense (+)</td>\n",
       "    </tr>\n",
       "  </tbody>\n",
       "</table>\n",
       "<p>1519 rows × 9 columns</p>\n",
       "</div>"
      ],
      "text/plain": [
       "      hostgene_NCBI_ID hostgene_Name hostgene_strand  \\\n",
       "0       XM_047427799.1          COP1               -   \n",
       "32         NR_132742.1      MIR34AHG               -   \n",
       "35         NM_001066.3      TNFRSF1B               +   \n",
       "43      NM_001385119.1          PHC2               -   \n",
       "50         NR_046105.1      MIR137HG               -   \n",
       "...                ...           ...             ...   \n",
       "24840   NM_001135729.2          TOM1               +   \n",
       "24886   XM_047441138.1       ANKRD54               -   \n",
       "24901   NM_001282726.2      SLC25A17               -   \n",
       "24952   XM_011530347.3        SREBF2               +   \n",
       "24964   NM_001001852.4          PIM3               +   \n",
       "\n",
       "                       miR_type      miR_Name           miR_ID miR_strand  \\\n",
       "0      miRNA_primary_transcript  hsa-mir-1843  Alias=MI0032314          -   \n",
       "32     miRNA_primary_transcript   hsa-mir-34a  Alias=MI0000268          -   \n",
       "35     miRNA_primary_transcript  hsa-mir-7846  Alias=MI0025516          +   \n",
       "43     miRNA_primary_transcript  hsa-mir-3605  Alias=MI0015995          -   \n",
       "50     miRNA_primary_transcript   hsa-mir-137  Alias=MI0000454          -   \n",
       "...                         ...           ...              ...        ...   \n",
       "24840  miRNA_primary_transcript  hsa-mir-6069  Alias=MI0020346          -   \n",
       "24886  miRNA_primary_transcript   hsa-mir-659  Alias=MI0003683          -   \n",
       "24901  miRNA_primary_transcript  hsa-mir-4766  Alias=MI0017407          -   \n",
       "24952  miRNA_primary_transcript   hsa-mir-33a  Alias=MI0000091          +   \n",
       "24964  miRNA_primary_transcript  hsa-mir-6821  Alias=MI0022666          +   \n",
       "\n",
       "      host_gene_region transcription_direction_relative_to_the_host_gene  \n",
       "0                exons                                         sense (+)  \n",
       "32               exons                                         sense (+)  \n",
       "35               exons                                         sense (+)  \n",
       "43               exons                                         sense (+)  \n",
       "50               exons                                         sense (+)  \n",
       "...                ...                                               ...  \n",
       "24840          introns                                     antisense (-)  \n",
       "24886          introns                                         sense (+)  \n",
       "24901          introns                                         sense (+)  \n",
       "24952          introns                                         sense (+)  \n",
       "24964          introns                                         sense (+)  \n",
       "\n",
       "[1519 rows x 9 columns]"
      ]
     },
     "execution_count": 45,
     "metadata": {},
     "output_type": "execute_result"
    }
   ],
   "source": [
    "transcription_direction(Human_intragenic_df,\"transcription_direction_relative_to_the_host_gene\",\n",
    "                        \"hostgene_strand\",\"miR_strand\")"
   ]
  },
  {
   "cell_type": "markdown",
   "id": "615ebead-2cea-4d40-80b5-b76d05641dda",
   "metadata": {},
   "source": [
    "### Plot the pie charts"
   ]
  },
  {
   "cell_type": "code",
   "execution_count": 46,
   "id": "ae2d61ef-9c2c-46b4-a2a0-8ae32b2a0aeb",
   "metadata": {},
   "outputs": [],
   "source": [
    "hg_intramiR_loci=Human_intragenic_df.groupby(Human_intragenic_df[\"transcription_direction_relative_to_the_host_gene\"]).size().reset_index(name='Count')"
   ]
  },
  {
   "cell_type": "code",
   "execution_count": 47,
   "id": "80ea5d3c-8da4-447e-8975-07e7fe4e043b",
   "metadata": {},
   "outputs": [
    {
     "data": {
      "text/html": [
       "<div>\n",
       "<style scoped>\n",
       "    .dataframe tbody tr th:only-of-type {\n",
       "        vertical-align: middle;\n",
       "    }\n",
       "\n",
       "    .dataframe tbody tr th {\n",
       "        vertical-align: top;\n",
       "    }\n",
       "\n",
       "    .dataframe thead th {\n",
       "        text-align: right;\n",
       "    }\n",
       "</style>\n",
       "<table border=\"1\" class=\"dataframe\">\n",
       "  <thead>\n",
       "    <tr style=\"text-align: right;\">\n",
       "      <th></th>\n",
       "      <th>transcription_direction_relative_to_the_host_gene</th>\n",
       "      <th>Count</th>\n",
       "    </tr>\n",
       "  </thead>\n",
       "  <tbody>\n",
       "    <tr>\n",
       "      <th>0</th>\n",
       "      <td>antisense (-)</td>\n",
       "      <td>284</td>\n",
       "    </tr>\n",
       "    <tr>\n",
       "      <th>1</th>\n",
       "      <td>sense (+)</td>\n",
       "      <td>1235</td>\n",
       "    </tr>\n",
       "  </tbody>\n",
       "</table>\n",
       "</div>"
      ],
      "text/plain": [
       "  transcription_direction_relative_to_the_host_gene  Count\n",
       "0                                     antisense (-)    284\n",
       "1                                         sense (+)   1235"
      ]
     },
     "execution_count": 47,
     "metadata": {},
     "output_type": "execute_result"
    }
   ],
   "source": [
    "hg_intramiR_loci"
   ]
  },
  {
   "cell_type": "code",
   "execution_count": 48,
   "id": "9a8b086a-ad25-4614-98d1-d2264022b70f",
   "metadata": {},
   "outputs": [],
   "source": [
    "hg_intramiR_sense=hg_intramiR_loci[hg_intramiR_loci[\"transcription_direction_relative_to_the_host_gene\"]=='sense (+)'].sum()\n",
    "hg_intramiR_antisense=hg_intramiR_loci[hg_intramiR_loci[\"transcription_direction_relative_to_the_host_gene\"]=='antisense (-)'].sum()"
   ]
  },
  {
   "cell_type": "code",
   "execution_count": 50,
   "id": "c4bfa73b-d2da-4cdc-86d3-c65e663ff0b1",
   "metadata": {},
   "outputs": [
    {
     "data": {
      "image/png": "[encoded data removed]",
      "text/plain": [
       "<Figure size 1500x800 with 1 Axes>"
      ]
     },
     "metadata": {},
     "output_type": "display_data"
    }
   ],
   "source": [
    "#Human miR loci distribution pie Chart\n",
    "labels = ['Sense intragenic miRNAs(+)', 'Antisense intragenic miRNAs(-)']\n",
    "sizes = [hg_intramiR_sense['Count'], hg_intramiR_antisense['Count']]\n",
    "colors = ['lightcoral','skyblue']\n",
    "plt.figure(figsize=(15, 8)) \n",
    "plt.pie(sizes, labels=labels, colors=colors, autopct='%1.1f%%')\n",
    "plt.axis('equal')  # Equal aspect ratio ensures that pie is drawn as a circle\n",
    "plt.title('Distribution of human intragenic miRNome regarding transctiption directions')\n",
    "plt.savefig(f'{current_dir}/Pie_charts/Distribution of human intragenic miRNome.eps')\n",
    "plt.show()"
   ]
  },
  {
   "cell_type": "code",
   "execution_count": null,
   "id": "8bd8d0b1-f287-4a9e-8e25-a9e1ffc44652",
   "metadata": {},
   "outputs": [],
   "source": []
  }
 ],
 "metadata": {
  "kernelspec": {
   "display_name": "Python 3 (ipykernel)",
   "language": "python",
   "name": "python3"
  },
  "language_info": {
   "codemirror_mode": {
    "name": "ipython",
    "version": 3
   },
   "file_extension": ".py",
   "mimetype": "text/x-python",
   "name": "python",
   "nbconvert_exporter": "python",
   "pygments_lexer": "ipython3",
   "version": "3.9.13"
  }
 },
 "nbformat": 4,
 "nbformat_minor": 5
}
