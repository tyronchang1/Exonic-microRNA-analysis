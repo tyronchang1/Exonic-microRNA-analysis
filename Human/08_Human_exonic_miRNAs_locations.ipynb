{
 "cells": [
  {
   "cell_type": "markdown",
   "id": "04e68ea2-3683-4225-9095-49b27584f616",
   "metadata": {},
   "source": [
    "### Map the locations of exonic microRNAs using OOP(e.g. 3'UTR,5'UTR, CDS,etc.)"
   ]
  },
  {
   "cell_type": "markdown",
   "id": "6788bd48-ab03-4f2d-8f3b-473bca1c276a",
   "metadata": {},
   "source": [
    "### Human"
   ]
  },
  {
   "cell_type": "code",
   "execution_count": 1,
   "id": "42f245f6-99e2-4cf3-bf3a-ff1ce1a9a121",
   "metadata": {},
   "outputs": [
    {
     "name": "stdout",
     "output_type": "stream",
     "text": [
      "importing Jupyter notebook from /Users/tyronchang/Desktop/exonic-microrna-analysis/github3/Human/utils/EXONIC.ipynb\n"
     ]
    }
   ],
   "source": [
    "import import_ipynb\n",
    "import os\n",
    "import matplotlib.pyplot as plt\n",
    "from utils.EXONIC import Regions"
   ]
  },
  {
   "cell_type": "code",
   "execution_count": 2,
   "id": "9c19dc36-d705-4caa-a34f-246371e56483",
   "metadata": {},
   "outputs": [],
   "source": [
    "current_dir=os.getcwd()"
   ]
  },
  {
   "cell_type": "code",
   "execution_count": 3,
   "id": "30a53032-bb18-43b8-ae21-1916f4185f62",
   "metadata": {},
   "outputs": [
    {
     "data": {
      "text/plain": [
       "'/Users/tyronchang/Desktop/exonic-microrna-analysis/github3/Human'"
      ]
     },
     "execution_count": 3,
     "metadata": {},
     "output_type": "execute_result"
    }
   ],
   "source": [
    "current_dir"
   ]
  },
  {
   "cell_type": "code",
   "execution_count": 4,
   "id": "ca0e0eba-6d6a-46f5-a696-6d9bfa8f7d42",
   "metadata": {},
   "outputs": [],
   "source": [
    "csv_file_path=f'{current_dir}/Human_csv_file'\n",
    "excel_file_path=f'{current_dir}/Human_excel_file'"
   ]
  },
  {
   "cell_type": "code",
   "execution_count": 5,
   "id": "fd469145-35c2-41bc-820a-a1c615ccc890",
   "metadata": {},
   "outputs": [],
   "source": [
    "all_exonic_human_exonic_miR=Regions(f'{csv_file_path}/human_exonic_miR(gene_type)_NCBI.csv')"
   ]
  },
  {
   "cell_type": "code",
   "execution_count": 6,
   "id": "711e4187-a442-4694-b948-b09fbe1ad597",
   "metadata": {},
   "outputs": [
    {
     "data": {
      "text/plain": [
       "Index(['hostgene_chrom', 'hostgene_exonStarts', 'hostgene_exonEnds',\n",
       "       'hostgene_cdsStart', 'hostgene_cdsEnd', 'hostgene_strand',\n",
       "       'hostgene_exonCounts', 'hostgene_txStarts', 'hostgene_txEnds',\n",
       "       'pre_mRNA_length', 'mature_host_mRNA_Length', 'hostgene_Name',\n",
       "       'hostgene_NCBI_ID', 'miR_name', 'miR_chrom', 'miR_exonStarts',\n",
       "       'miR_exonEnds', 'miR_type', 'miR_strand', 'miR_ID', 'gene_type'],\n",
       "      dtype='object')"
      ]
     },
     "execution_count": 6,
     "metadata": {},
     "output_type": "execute_result"
    }
   ],
   "source": [
    "all_exonic_human_exonic_miR.df.columns"
   ]
  },
  {
   "cell_type": "code",
   "execution_count": 7,
   "id": "3f5a918f-ece3-407a-9765-dc7c86c5165e",
   "metadata": {},
   "outputs": [],
   "source": [
    "all_exonic_human_exonic_miR.select(['hostgene_NCBI_ID','hostgene_Name','hostgene_strand','miR_name', \n",
    "                                   'miR_strand','gene_type'])"
   ]
  },
  {
   "cell_type": "code",
   "execution_count": 7,
   "id": "5cbd0e46-c3cd-45c9-915b-3c904c4c6ec7",
   "metadata": {},
   "outputs": [],
   "source": [
    "all_exonic_human_exonic_miR.df.to_csv(f'{csv_file_path}/human_exonic_miR_list(all_host_genes)_NCBI_no_loc.csv',index=False)\n",
    "all_exonic_human_exonic_miR.df.to_excel(f'{excel_file_path}/human_exonic_miR_list(all_host_genes)_NCBI_no_loc.xlsx',index=False)\n",
    "#### without the genomic coordinates"
   ]
  },
  {
   "cell_type": "code",
   "execution_count": 8,
   "id": "7202c80d-4966-4125-9d48-81a4c308c118",
   "metadata": {},
   "outputs": [],
   "source": [
    "finalized_human_exonic_miR=Regions(f'{csv_file_path}/human_exonic_miR(gene_type)_NCBI.csv')"
   ]
  },
  {
   "cell_type": "code",
   "execution_count": 9,
   "id": "d90c5ca1-ca66-4431-9149-5a3be117337a",
   "metadata": {},
   "outputs": [
    {
     "data": {
      "text/html": [
       "<div>\n",
       "<style scoped>\n",
       "    .dataframe tbody tr th:only-of-type {\n",
       "        vertical-align: middle;\n",
       "    }\n",
       "\n",
       "    .dataframe tbody tr th {\n",
       "        vertical-align: top;\n",
       "    }\n",
       "\n",
       "    .dataframe thead th {\n",
       "        text-align: right;\n",
       "    }\n",
       "</style>\n",
       "<table border=\"1\" class=\"dataframe\">\n",
       "  <thead>\n",
       "    <tr style=\"text-align: right;\">\n",
       "      <th></th>\n",
       "      <th>hostgene_chrom</th>\n",
       "      <th>hostgene_exonStarts</th>\n",
       "      <th>hostgene_exonEnds</th>\n",
       "      <th>hostgene_cdsStart</th>\n",
       "      <th>hostgene_cdsEnd</th>\n",
       "      <th>hostgene_strand</th>\n",
       "      <th>hostgene_exonCounts</th>\n",
       "      <th>hostgene_txStarts</th>\n",
       "      <th>hostgene_txEnds</th>\n",
       "      <th>pre_mRNA_length</th>\n",
       "      <th>...</th>\n",
       "      <th>hostgene_Name</th>\n",
       "      <th>hostgene_NCBI_ID</th>\n",
       "      <th>miR_name</th>\n",
       "      <th>miR_chrom</th>\n",
       "      <th>miR_exonStarts</th>\n",
       "      <th>miR_exonEnds</th>\n",
       "      <th>miR_type</th>\n",
       "      <th>miR_strand</th>\n",
       "      <th>miR_ID</th>\n",
       "      <th>gene_type</th>\n",
       "    </tr>\n",
       "  </thead>\n",
       "  <tbody>\n",
       "    <tr>\n",
       "      <th>0</th>\n",
       "      <td>chr1</td>\n",
       "      <td>175953957</td>\n",
       "      <td>175972080</td>\n",
       "      <td>175971939</td>\n",
       "      <td>176149067</td>\n",
       "      <td>-</td>\n",
       "      <td>13</td>\n",
       "      <td>175953957</td>\n",
       "      <td>176162971</td>\n",
       "      <td>209014.0</td>\n",
       "      <td>...</td>\n",
       "      <td>COP1</td>\n",
       "      <td>XM_047427799.1</td>\n",
       "      <td>hsa-mir-1843</td>\n",
       "      <td>chr1</td>\n",
       "      <td>175968370</td>\n",
       "      <td>175968479</td>\n",
       "      <td>miRNA_primary_transcript</td>\n",
       "      <td>-</td>\n",
       "      <td>Alias=MI0032314</td>\n",
       "      <td>protein-coding gene</td>\n",
       "    </tr>\n",
       "    <tr>\n",
       "      <th>1</th>\n",
       "      <td>chr1</td>\n",
       "      <td>175953957</td>\n",
       "      <td>175972080</td>\n",
       "      <td>175971939</td>\n",
       "      <td>176149067</td>\n",
       "      <td>-</td>\n",
       "      <td>13</td>\n",
       "      <td>175953957</td>\n",
       "      <td>176175979</td>\n",
       "      <td>222022.0</td>\n",
       "      <td>...</td>\n",
       "      <td>COP1</td>\n",
       "      <td>XM_017002080.3</td>\n",
       "      <td>hsa-mir-1843</td>\n",
       "      <td>chr1</td>\n",
       "      <td>175968370</td>\n",
       "      <td>175968479</td>\n",
       "      <td>miRNA_primary_transcript</td>\n",
       "      <td>-</td>\n",
       "      <td>Alias=MI0032314</td>\n",
       "      <td>protein-coding gene</td>\n",
       "    </tr>\n",
       "    <tr>\n",
       "      <th>2</th>\n",
       "      <td>chr1</td>\n",
       "      <td>175953957</td>\n",
       "      <td>175972080</td>\n",
       "      <td>175971939</td>\n",
       "      <td>176175951</td>\n",
       "      <td>-</td>\n",
       "      <td>17</td>\n",
       "      <td>175953957</td>\n",
       "      <td>176184692</td>\n",
       "      <td>230735.0</td>\n",
       "      <td>...</td>\n",
       "      <td>COP1</td>\n",
       "      <td>XM_017002071.2</td>\n",
       "      <td>hsa-mir-1843</td>\n",
       "      <td>chr1</td>\n",
       "      <td>175968370</td>\n",
       "      <td>175968479</td>\n",
       "      <td>miRNA_primary_transcript</td>\n",
       "      <td>-</td>\n",
       "      <td>Alias=MI0032314</td>\n",
       "      <td>protein-coding gene</td>\n",
       "    </tr>\n",
       "    <tr>\n",
       "      <th>3</th>\n",
       "      <td>chr1</td>\n",
       "      <td>175953957</td>\n",
       "      <td>175972080</td>\n",
       "      <td>175971939</td>\n",
       "      <td>176175951</td>\n",
       "      <td>-</td>\n",
       "      <td>16</td>\n",
       "      <td>175953957</td>\n",
       "      <td>176184692</td>\n",
       "      <td>230735.0</td>\n",
       "      <td>...</td>\n",
       "      <td>COP1</td>\n",
       "      <td>XM_017002073.2</td>\n",
       "      <td>hsa-mir-1843</td>\n",
       "      <td>chr1</td>\n",
       "      <td>175968370</td>\n",
       "      <td>175968479</td>\n",
       "      <td>miRNA_primary_transcript</td>\n",
       "      <td>-</td>\n",
       "      <td>Alias=MI0032314</td>\n",
       "      <td>protein-coding gene</td>\n",
       "    </tr>\n",
       "    <tr>\n",
       "      <th>4</th>\n",
       "      <td>chr1</td>\n",
       "      <td>175953957</td>\n",
       "      <td>175972080</td>\n",
       "      <td>175971939</td>\n",
       "      <td>176206978</td>\n",
       "      <td>-</td>\n",
       "      <td>20</td>\n",
       "      <td>175953957</td>\n",
       "      <td>176207286</td>\n",
       "      <td>253329.0</td>\n",
       "      <td>...</td>\n",
       "      <td>COP1</td>\n",
       "      <td>XM_017002059.3</td>\n",
       "      <td>hsa-mir-1843</td>\n",
       "      <td>chr1</td>\n",
       "      <td>175968370</td>\n",
       "      <td>175968479</td>\n",
       "      <td>miRNA_primary_transcript</td>\n",
       "      <td>-</td>\n",
       "      <td>Alias=MI0032314</td>\n",
       "      <td>protein-coding gene</td>\n",
       "    </tr>\n",
       "    <tr>\n",
       "      <th>...</th>\n",
       "      <td>...</td>\n",
       "      <td>...</td>\n",
       "      <td>...</td>\n",
       "      <td>...</td>\n",
       "      <td>...</td>\n",
       "      <td>...</td>\n",
       "      <td>...</td>\n",
       "      <td>...</td>\n",
       "      <td>...</td>\n",
       "      <td>...</td>\n",
       "      <td>...</td>\n",
       "      <td>...</td>\n",
       "      <td>...</td>\n",
       "      <td>...</td>\n",
       "      <td>...</td>\n",
       "      <td>...</td>\n",
       "      <td>...</td>\n",
       "      <td>...</td>\n",
       "      <td>...</td>\n",
       "      <td>...</td>\n",
       "      <td>...</td>\n",
       "    </tr>\n",
       "    <tr>\n",
       "      <th>509</th>\n",
       "      <td>chr22</td>\n",
       "      <td>46097925</td>\n",
       "      <td>46113928</td>\n",
       "      <td>46103479</td>\n",
       "      <td>46104589</td>\n",
       "      <td>+</td>\n",
       "      <td>2</td>\n",
       "      <td>46085996</td>\n",
       "      <td>46113928</td>\n",
       "      <td>27932.0</td>\n",
       "      <td>...</td>\n",
       "      <td>LOC124905135</td>\n",
       "      <td>XM_047441694.1</td>\n",
       "      <td>hsa-let-7a-3</td>\n",
       "      <td>chr22</td>\n",
       "      <td>46112749</td>\n",
       "      <td>46112822</td>\n",
       "      <td>miRNA_primary_transcript</td>\n",
       "      <td>+</td>\n",
       "      <td>Alias=MI0000062</td>\n",
       "      <td>protein-coding gene</td>\n",
       "    </tr>\n",
       "    <tr>\n",
       "      <th>510</th>\n",
       "      <td>chr22</td>\n",
       "      <td>46097925</td>\n",
       "      <td>46113928</td>\n",
       "      <td>46103479</td>\n",
       "      <td>46104589</td>\n",
       "      <td>+</td>\n",
       "      <td>2</td>\n",
       "      <td>46085996</td>\n",
       "      <td>46113928</td>\n",
       "      <td>27932.0</td>\n",
       "      <td>...</td>\n",
       "      <td>LOC124905135</td>\n",
       "      <td>XM_047441694.1</td>\n",
       "      <td>hsa-mir-4763</td>\n",
       "      <td>chr22</td>\n",
       "      <td>46113566</td>\n",
       "      <td>46113657</td>\n",
       "      <td>miRNA_primary_transcript</td>\n",
       "      <td>+</td>\n",
       "      <td>Alias=MI0017404</td>\n",
       "      <td>protein-coding gene</td>\n",
       "    </tr>\n",
       "    <tr>\n",
       "      <th>511</th>\n",
       "      <td>chr22</td>\n",
       "      <td>46097925</td>\n",
       "      <td>46113928</td>\n",
       "      <td>46103479</td>\n",
       "      <td>46104589</td>\n",
       "      <td>+</td>\n",
       "      <td>2</td>\n",
       "      <td>46085996</td>\n",
       "      <td>46113928</td>\n",
       "      <td>27932.0</td>\n",
       "      <td>...</td>\n",
       "      <td>LOC124905135</td>\n",
       "      <td>XM_047441694.1</td>\n",
       "      <td>hsa-let-7b</td>\n",
       "      <td>chr22</td>\n",
       "      <td>46113686</td>\n",
       "      <td>46113768</td>\n",
       "      <td>miRNA_primary_transcript</td>\n",
       "      <td>+</td>\n",
       "      <td>Alias=MI0000063</td>\n",
       "      <td>protein-coding gene</td>\n",
       "    </tr>\n",
       "    <tr>\n",
       "      <th>512</th>\n",
       "      <td>chr22</td>\n",
       "      <td>46086166</td>\n",
       "      <td>46095238</td>\n",
       "      <td>46097919</td>\n",
       "      <td>46097919</td>\n",
       "      <td>+</td>\n",
       "      <td>3</td>\n",
       "      <td>46086166</td>\n",
       "      <td>46097919</td>\n",
       "      <td>11753.0</td>\n",
       "      <td>...</td>\n",
       "      <td>LOC112268288</td>\n",
       "      <td>XR_002958733.2</td>\n",
       "      <td>hsa-mir-3619</td>\n",
       "      <td>chr22</td>\n",
       "      <td>46091044</td>\n",
       "      <td>46091126</td>\n",
       "      <td>miRNA_primary_transcript</td>\n",
       "      <td>+</td>\n",
       "      <td>Alias=MI0016009</td>\n",
       "      <td>non-coding gene</td>\n",
       "    </tr>\n",
       "    <tr>\n",
       "      <th>513</th>\n",
       "      <td>chr22</td>\n",
       "      <td>46086166</td>\n",
       "      <td>46095563</td>\n",
       "      <td>46097919</td>\n",
       "      <td>46097919</td>\n",
       "      <td>+</td>\n",
       "      <td>3</td>\n",
       "      <td>46086166</td>\n",
       "      <td>46097919</td>\n",
       "      <td>11753.0</td>\n",
       "      <td>...</td>\n",
       "      <td>LOC112268288</td>\n",
       "      <td>XR_002958732.2</td>\n",
       "      <td>hsa-mir-3619</td>\n",
       "      <td>chr22</td>\n",
       "      <td>46091044</td>\n",
       "      <td>46091126</td>\n",
       "      <td>miRNA_primary_transcript</td>\n",
       "      <td>+</td>\n",
       "      <td>Alias=MI0016009</td>\n",
       "      <td>non-coding gene</td>\n",
       "    </tr>\n",
       "  </tbody>\n",
       "</table>\n",
       "<p>514 rows × 21 columns</p>\n",
       "</div>"
      ],
      "text/plain": [
       "    hostgene_chrom  hostgene_exonStarts  hostgene_exonEnds  hostgene_cdsStart  \\\n",
       "0             chr1            175953957          175972080          175971939   \n",
       "1             chr1            175953957          175972080          175971939   \n",
       "2             chr1            175953957          175972080          175971939   \n",
       "3             chr1            175953957          175972080          175971939   \n",
       "4             chr1            175953957          175972080          175971939   \n",
       "..             ...                  ...                ...                ...   \n",
       "509          chr22             46097925           46113928           46103479   \n",
       "510          chr22             46097925           46113928           46103479   \n",
       "511          chr22             46097925           46113928           46103479   \n",
       "512          chr22             46086166           46095238           46097919   \n",
       "513          chr22             46086166           46095563           46097919   \n",
       "\n",
       "     hostgene_cdsEnd hostgene_strand  hostgene_exonCounts  hostgene_txStarts  \\\n",
       "0          176149067               -                   13          175953957   \n",
       "1          176149067               -                   13          175953957   \n",
       "2          176175951               -                   17          175953957   \n",
       "3          176175951               -                   16          175953957   \n",
       "4          176206978               -                   20          175953957   \n",
       "..               ...             ...                  ...                ...   \n",
       "509         46104589               +                    2           46085996   \n",
       "510         46104589               +                    2           46085996   \n",
       "511         46104589               +                    2           46085996   \n",
       "512         46097919               +                    3           46086166   \n",
       "513         46097919               +                    3           46086166   \n",
       "\n",
       "     hostgene_txEnds  pre_mRNA_length  ...  hostgene_Name hostgene_NCBI_ID  \\\n",
       "0          176162971         209014.0  ...           COP1   XM_047427799.1   \n",
       "1          176175979         222022.0  ...           COP1   XM_017002080.3   \n",
       "2          176184692         230735.0  ...           COP1   XM_017002071.2   \n",
       "3          176184692         230735.0  ...           COP1   XM_017002073.2   \n",
       "4          176207286         253329.0  ...           COP1   XM_017002059.3   \n",
       "..               ...              ...  ...            ...              ...   \n",
       "509         46113928          27932.0  ...   LOC124905135   XM_047441694.1   \n",
       "510         46113928          27932.0  ...   LOC124905135   XM_047441694.1   \n",
       "511         46113928          27932.0  ...   LOC124905135   XM_047441694.1   \n",
       "512         46097919          11753.0  ...   LOC112268288   XR_002958733.2   \n",
       "513         46097919          11753.0  ...   LOC112268288   XR_002958732.2   \n",
       "\n",
       "         miR_name miR_chrom miR_exonStarts  miR_exonEnds  \\\n",
       "0    hsa-mir-1843      chr1      175968370     175968479   \n",
       "1    hsa-mir-1843      chr1      175968370     175968479   \n",
       "2    hsa-mir-1843      chr1      175968370     175968479   \n",
       "3    hsa-mir-1843      chr1      175968370     175968479   \n",
       "4    hsa-mir-1843      chr1      175968370     175968479   \n",
       "..            ...       ...            ...           ...   \n",
       "509  hsa-let-7a-3     chr22       46112749      46112822   \n",
       "510  hsa-mir-4763     chr22       46113566      46113657   \n",
       "511    hsa-let-7b     chr22       46113686      46113768   \n",
       "512  hsa-mir-3619     chr22       46091044      46091126   \n",
       "513  hsa-mir-3619     chr22       46091044      46091126   \n",
       "\n",
       "                     miR_type miR_strand           miR_ID            gene_type  \n",
       "0    miRNA_primary_transcript          -  Alias=MI0032314  protein-coding gene  \n",
       "1    miRNA_primary_transcript          -  Alias=MI0032314  protein-coding gene  \n",
       "2    miRNA_primary_transcript          -  Alias=MI0032314  protein-coding gene  \n",
       "3    miRNA_primary_transcript          -  Alias=MI0032314  protein-coding gene  \n",
       "4    miRNA_primary_transcript          -  Alias=MI0032314  protein-coding gene  \n",
       "..                        ...        ...              ...                  ...  \n",
       "509  miRNA_primary_transcript          +  Alias=MI0000062  protein-coding gene  \n",
       "510  miRNA_primary_transcript          +  Alias=MI0017404  protein-coding gene  \n",
       "511  miRNA_primary_transcript          +  Alias=MI0000063  protein-coding gene  \n",
       "512  miRNA_primary_transcript          +  Alias=MI0016009      non-coding gene  \n",
       "513  miRNA_primary_transcript          +  Alias=MI0016009      non-coding gene  \n",
       "\n",
       "[514 rows x 21 columns]"
      ]
     },
     "execution_count": 9,
     "metadata": {},
     "output_type": "execute_result"
    }
   ],
   "source": [
    "finalized_human_exonic_miR.df"
   ]
  },
  {
   "cell_type": "code",
   "execution_count": 10,
   "id": "6d1cb709-af37-4c55-8246-8d793322a634",
   "metadata": {},
   "outputs": [],
   "source": [
    "finalized_human_exonic_miR.select_coding()#### select protein-coding genes"
   ]
  },
  {
   "cell_type": "code",
   "execution_count": 11,
   "id": "81e591d7-7a27-4eb5-85e3-bb3ad93ef41d",
   "metadata": {},
   "outputs": [
    {
     "name": "stderr",
     "output_type": "stream",
     "text": [
      "<string>:54: SettingWithCopyWarning: \n",
      "A value is trying to be set on a copy of a slice from a DataFrame.\n",
      "Try using .loc[row_indexer,col_indexer] = value instead\n",
      "\n",
      "See the caveats in the documentation: https://pandas.pydata.org/pandas-docs/stable/user_guide/indexing.html#returning-a-view-versus-a-copy\n"
     ]
    }
   ],
   "source": [
    "finalized_human_exonic_miR.add_region()\n",
    "### add a new column called region, which will contain information of location of microRNAs such as 5'UTR,3'UTR,CDS"
   ]
  },
  {
   "cell_type": "code",
   "execution_count": 12,
   "id": "0fdde9de-a3eb-46f9-b723-0b38c72cb9d4",
   "metadata": {},
   "outputs": [],
   "source": [
    "finalized_human_exonic_miR.select(['hostgene_NCBI_ID','hostgene_Name','hostgene_strand','hostgene_exonCounts','miR_name', \n",
    "                                   'miR_strand','region',\"pre_mRNA_length\",'mature_host_mRNA_Length','gene_type'])"
   ]
  },
  {
   "cell_type": "code",
   "execution_count": 13,
   "id": "c77a4afc-233c-4fd8-826c-e3ba46e7aee7",
   "metadata": {},
   "outputs": [
    {
     "data": {
      "text/html": [
       "<div>\n",
       "<style scoped>\n",
       "    .dataframe tbody tr th:only-of-type {\n",
       "        vertical-align: middle;\n",
       "    }\n",
       "\n",
       "    .dataframe tbody tr th {\n",
       "        vertical-align: top;\n",
       "    }\n",
       "\n",
       "    .dataframe thead th {\n",
       "        text-align: right;\n",
       "    }\n",
       "</style>\n",
       "<table border=\"1\" class=\"dataframe\">\n",
       "  <thead>\n",
       "    <tr style=\"text-align: right;\">\n",
       "      <th></th>\n",
       "      <th>hostgene_NCBI_ID</th>\n",
       "      <th>hostgene_Name</th>\n",
       "      <th>hostgene_strand</th>\n",
       "      <th>hostgene_exonCounts</th>\n",
       "      <th>miR_name</th>\n",
       "      <th>miR_strand</th>\n",
       "      <th>region</th>\n",
       "      <th>pre_mRNA_length</th>\n",
       "      <th>mature_host_mRNA_Length</th>\n",
       "      <th>gene_type</th>\n",
       "    </tr>\n",
       "  </thead>\n",
       "  <tbody>\n",
       "    <tr>\n",
       "      <th>0</th>\n",
       "      <td>XM_047427799.1</td>\n",
       "      <td>COP1</td>\n",
       "      <td>-</td>\n",
       "      <td>13</td>\n",
       "      <td>hsa-mir-1843</td>\n",
       "      <td>-</td>\n",
       "      <td>3'UTR</td>\n",
       "      <td>209014.0</td>\n",
       "      <td>19460</td>\n",
       "      <td>protein-coding gene</td>\n",
       "    </tr>\n",
       "    <tr>\n",
       "      <th>1</th>\n",
       "      <td>XM_017002080.3</td>\n",
       "      <td>COP1</td>\n",
       "      <td>-</td>\n",
       "      <td>13</td>\n",
       "      <td>hsa-mir-1843</td>\n",
       "      <td>-</td>\n",
       "      <td>3'UTR</td>\n",
       "      <td>222022.0</td>\n",
       "      <td>19427</td>\n",
       "      <td>protein-coding gene</td>\n",
       "    </tr>\n",
       "    <tr>\n",
       "      <th>2</th>\n",
       "      <td>XM_017002071.2</td>\n",
       "      <td>COP1</td>\n",
       "      <td>-</td>\n",
       "      <td>17</td>\n",
       "      <td>hsa-mir-1843</td>\n",
       "      <td>-</td>\n",
       "      <td>3'UTR</td>\n",
       "      <td>230735.0</td>\n",
       "      <td>19706</td>\n",
       "      <td>protein-coding gene</td>\n",
       "    </tr>\n",
       "    <tr>\n",
       "      <th>3</th>\n",
       "      <td>XM_017002073.2</td>\n",
       "      <td>COP1</td>\n",
       "      <td>-</td>\n",
       "      <td>16</td>\n",
       "      <td>hsa-mir-1843</td>\n",
       "      <td>-</td>\n",
       "      <td>3'UTR</td>\n",
       "      <td>230735.0</td>\n",
       "      <td>19646</td>\n",
       "      <td>protein-coding gene</td>\n",
       "    </tr>\n",
       "    <tr>\n",
       "      <th>4</th>\n",
       "      <td>XM_017002059.3</td>\n",
       "      <td>COP1</td>\n",
       "      <td>-</td>\n",
       "      <td>20</td>\n",
       "      <td>hsa-mir-1843</td>\n",
       "      <td>-</td>\n",
       "      <td>3'UTR</td>\n",
       "      <td>253329.0</td>\n",
       "      <td>20618</td>\n",
       "      <td>protein-coding gene</td>\n",
       "    </tr>\n",
       "  </tbody>\n",
       "</table>\n",
       "</div>"
      ],
      "text/plain": [
       "  hostgene_NCBI_ID hostgene_Name hostgene_strand  hostgene_exonCounts  \\\n",
       "0   XM_047427799.1          COP1               -                   13   \n",
       "1   XM_017002080.3          COP1               -                   13   \n",
       "2   XM_017002071.2          COP1               -                   17   \n",
       "3   XM_017002073.2          COP1               -                   16   \n",
       "4   XM_017002059.3          COP1               -                   20   \n",
       "\n",
       "       miR_name miR_strand region  pre_mRNA_length  mature_host_mRNA_Length  \\\n",
       "0  hsa-mir-1843          -  3'UTR         209014.0                    19460   \n",
       "1  hsa-mir-1843          -  3'UTR         222022.0                    19427   \n",
       "2  hsa-mir-1843          -  3'UTR         230735.0                    19706   \n",
       "3  hsa-mir-1843          -  3'UTR         230735.0                    19646   \n",
       "4  hsa-mir-1843          -  3'UTR         253329.0                    20618   \n",
       "\n",
       "             gene_type  \n",
       "0  protein-coding gene  \n",
       "1  protein-coding gene  \n",
       "2  protein-coding gene  \n",
       "3  protein-coding gene  \n",
       "4  protein-coding gene  "
      ]
     },
     "execution_count": 13,
     "metadata": {},
     "output_type": "execute_result"
    }
   ],
   "source": [
    "finalized_human_exonic_miR.df.head()"
   ]
  },
  {
   "cell_type": "code",
   "execution_count": 14,
   "id": "e61b2fee-8549-4b02-a6a3-3eb5d8faf805",
   "metadata": {},
   "outputs": [
    {
     "data": {
      "text/plain": [
       "(356, 10)"
      ]
     },
     "execution_count": 14,
     "metadata": {},
     "output_type": "execute_result"
    }
   ],
   "source": [
    "finalized_human_exonic_miR.df.shape"
   ]
  },
  {
   "cell_type": "code",
   "execution_count": 15,
   "id": "9e6a9b25-e18c-405d-9b9f-1af45eb7d491",
   "metadata": {},
   "outputs": [],
   "source": [
    "finalized_human_exonic_miR.df.to_excel(f'{excel_file_path}/human_exonic_miR_list(protein_coding_host_genes)_NCBI.xlsx',index=False)\n",
    "finalized_human_exonic_miR.df.to_csv(f'{csv_file_path}/human_exonic_miR_list(protein_coding_host_genes)_NCBI.csv',index=False)"
   ]
  },
  {
   "cell_type": "code",
   "execution_count": 16,
   "id": "a8294638-ddcd-4d74-abf7-1a580f6e8b52",
   "metadata": {},
   "outputs": [],
   "source": [
    "finalized_human_exonic_miR_new=finalized_human_exonic_miR.df.drop_duplicates(subset=['miR_name'])"
   ]
  },
  {
   "cell_type": "code",
   "execution_count": 17,
   "id": "f817b375-0376-41b4-bd8c-b4a00a38c4ba",
   "metadata": {},
   "outputs": [],
   "source": [
    "##### save unique list is shown below:\n",
    "finalized_human_exonic_miR_new.to_csv(f'{csv_file_path}/human_exonic_miR_list(protein_coding_host_genes)_NCBI_unique.csv',index=False)\n",
    "finalized_human_exonic_miR_new.to_excel(f'{excel_file_path}/human_exonic_miR_list(protein_coding_host_genes)_NCBI_unique.xlsx',index=False)"
   ]
  },
  {
   "cell_type": "markdown",
   "id": "86dd2ca4-5f8d-4c9a-a9fa-bd12fa879d28",
   "metadata": {},
   "source": [
    "### Plotting\n"
   ]
  },
  {
   "cell_type": "code",
   "execution_count": 18,
   "id": "a48b64fd-63f1-4046-a854-62470f19a72c",
   "metadata": {},
   "outputs": [],
   "source": [
    "human_exonicmiR_coding_df=Regions(f'{csv_file_path}/human_exonic_miR_list(protein_coding_host_genes)_NCBI_unique.csv')"
   ]
  },
  {
   "cell_type": "code",
   "execution_count": 19,
   "id": "cb40da68-1ff8-4cb2-90c0-7edb0addcc18",
   "metadata": {},
   "outputs": [
    {
     "data": {
      "text/plain": [
       "(118, 10)"
      ]
     },
     "execution_count": 19,
     "metadata": {},
     "output_type": "execute_result"
    }
   ],
   "source": [
    "human_exonicmiR_coding_df.df.shape"
   ]
  },
  {
   "cell_type": "code",
   "execution_count": 20,
   "id": "55bca7ec-ae4e-497e-9780-7b6569943b91",
   "metadata": {},
   "outputs": [],
   "source": [
    "human_exonic_miR_region=human_exonicmiR_coding_df.df.groupby(human_exonicmiR_coding_df.df['region']).size().reset_index(name='Human')"
   ]
  },
  {
   "cell_type": "code",
   "execution_count": 21,
   "id": "c9f3dfa8-fbc2-4442-80a7-0c2d4fa0f38e",
   "metadata": {},
   "outputs": [
    {
     "data": {
      "text/html": [
       "<div>\n",
       "<style scoped>\n",
       "    .dataframe tbody tr th:only-of-type {\n",
       "        vertical-align: middle;\n",
       "    }\n",
       "\n",
       "    .dataframe tbody tr th {\n",
       "        vertical-align: top;\n",
       "    }\n",
       "\n",
       "    .dataframe thead th {\n",
       "        text-align: right;\n",
       "    }\n",
       "</style>\n",
       "<table border=\"1\" class=\"dataframe\">\n",
       "  <thead>\n",
       "    <tr style=\"text-align: right;\">\n",
       "      <th></th>\n",
       "      <th>region</th>\n",
       "      <th>Human</th>\n",
       "    </tr>\n",
       "  </thead>\n",
       "  <tbody>\n",
       "    <tr>\n",
       "      <th>0</th>\n",
       "      <td>3'UTR</td>\n",
       "      <td>58</td>\n",
       "    </tr>\n",
       "    <tr>\n",
       "      <th>1</th>\n",
       "      <td>5'UTR</td>\n",
       "      <td>30</td>\n",
       "    </tr>\n",
       "    <tr>\n",
       "      <th>2</th>\n",
       "      <td>CDS</td>\n",
       "      <td>25</td>\n",
       "    </tr>\n",
       "    <tr>\n",
       "      <th>3</th>\n",
       "      <td>Span from CDS and 3'UTR</td>\n",
       "      <td>4</td>\n",
       "    </tr>\n",
       "    <tr>\n",
       "      <th>4</th>\n",
       "      <td>Span from CDS and 5'UTR</td>\n",
       "      <td>1</td>\n",
       "    </tr>\n",
       "  </tbody>\n",
       "</table>\n",
       "</div>"
      ],
      "text/plain": [
       "                    region  Human\n",
       "0                    3'UTR     58\n",
       "1                    5'UTR     30\n",
       "2                      CDS     25\n",
       "3  Span from CDS and 3'UTR      4\n",
       "4  Span from CDS and 5'UTR      1"
      ]
     },
     "execution_count": 21,
     "metadata": {},
     "output_type": "execute_result"
    }
   ],
   "source": [
    "human_exonic_miR_region"
   ]
  },
  {
   "cell_type": "code",
   "execution_count": 22,
   "id": "22d73a3e-5d48-40d2-b4aa-4cd062d07ad0",
   "metadata": {},
   "outputs": [],
   "source": [
    "hg_exonic_3_UTR= human_exonic_miR_region[human_exonic_miR_region['region']=='3\\'UTR'].sum()\n",
    "hg_exonic_5_UTR= human_exonic_miR_region[human_exonic_miR_region['region']=='5\\'UTR'].sum()\n",
    "hg_exonic_CDS=human_exonic_miR_region[human_exonic_miR_region['region']=='CDS'].sum()\n",
    "hg_exonic_3_CDS_UTR=human_exonic_miR_region[human_exonic_miR_region['region']=='Span from CDS and 3\\'UTR'].sum()\n",
    "hg_exonic_5_CDS_UTR=human_exonic_miR_region[human_exonic_miR_region['region']=='Span from CDS and 5\\'UTR'].sum()"
   ]
  },
  {
   "cell_type": "code",
   "execution_count": 23,
   "id": "1f6f8c04-1e27-4862-91dd-6089a49cc1cc",
   "metadata": {},
   "outputs": [
    {
     "data": {
      "image/png": "[encoded data removed]",
      "text/plain": [
       "<Figure size 1500x800 with 1 Axes>"
      ]
     },
     "metadata": {},
     "output_type": "display_data"
    }
   ],
   "source": [
    "labels = ['3\\'UTR', '5\\'UTR', 'CDS','Span from CDS and 3\\'UTR','Span from CDS and 5\\'UTR']\n",
    "sizes = [hg_exonic_3_UTR['Human'], hg_exonic_5_UTR['Human'],hg_exonic_CDS['Human'],hg_exonic_3_CDS_UTR['Human'],hg_exonic_5_CDS_UTR['Human']]\n",
    "colors = ['red', 'skyblue', 'green','lightgreen', 'lightcoral']\n",
    "plt.figure(figsize=(15, 8)) \n",
    "plt.pie(sizes, labels=labels, colors=colors, autopct='%1.1f%%')\n",
    "plt.axis('equal')  # Equal aspect ratio ensures that pie is drawn as a circle\n",
    "plt.title('Distribution of human exonic miRNA across different regions')\n",
    "plt.savefig(f'{current_dir}/Pie_charts/Distribution of human exonic miRNA across different regions of the gene.eps')\n",
    "plt.show()"
   ]
  },
  {
   "cell_type": "code",
   "execution_count": 24,
   "id": "7b0f77b6-4208-4758-87ae-2b3047d748fd",
   "metadata": {},
   "outputs": [
    {
     "data": {
      "text/plain": [
       "Index(['hostgene_NCBI_ID', 'hostgene_Name', 'hostgene_strand',\n",
       "       'hostgene_exonCounts', 'miR_name', 'miR_strand', 'region',\n",
       "       'pre_mRNA_length', 'mature_host_mRNA_Length', 'gene_type'],\n",
       "      dtype='object')"
      ]
     },
     "execution_count": 24,
     "metadata": {},
     "output_type": "execute_result"
    }
   ],
   "source": [
    "human_exonicmiR_coding_df.df.columns"
   ]
  },
  {
   "cell_type": "code",
   "execution_count": 25,
   "id": "0a979cce-5968-4225-b330-8529253ea657",
   "metadata": {},
   "outputs": [],
   "source": [
    "human_exonicmiR_coding_df.df.drop(columns=['hostgene_exonCounts',\n",
    "       'pre_mRNA_length', 'mature_host_mRNA_Length']).to_excel(f'{current_dir}/MS_tables/human_exonic_miRNAs_protein_coding(Regions).xlsx',index=False)"
   ]
  },
  {
   "cell_type": "code",
   "execution_count": null,
   "id": "9fd6bc9f-3ebc-455c-bd4a-aaab4d051dd9",
   "metadata": {},
   "outputs": [],
   "source": []
  }
 ],
 "metadata": {
  "kernelspec": {
   "display_name": "Python 3 (ipykernel)",
   "language": "python",
   "name": "python3"
  },
  "language_info": {
   "codemirror_mode": {
    "name": "ipython",
    "version": 3
   },
   "file_extension": ".py",
   "mimetype": "text/x-python",
   "name": "python",
   "nbconvert_exporter": "python",
   "pygments_lexer": "ipython3",
   "version": "3.9.13"
  }
 },
 "nbformat": 4,
 "nbformat_minor": 5
}
