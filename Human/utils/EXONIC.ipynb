{
 "cells": [
  {
   "cell_type": "code",
   "execution_count": 1,
   "id": "ae7b2d99-50a4-4148-a69a-6ea7f3fc0d74",
   "metadata": {},
   "outputs": [],
   "source": [
    "#### This script will determine the regions of exonic miRNAs (e.g. 3'UTR,5'UTR, etc).\n",
    "import pandas as pd\n",
    "\n",
    "class EXONIC_MIR:\n",
    "    \n",
    "    def __init__(self, csv_file):\n",
    "        self.df = pd.read_csv(csv_file)\n",
    "            \n",
    "    def select_coding(self, columns=['name']):\n",
    "        \"\"\"Select certain columns. In this case, I want to select protein-coding genes\"\"\"\n",
    "        self.df=self.df.loc[self.df['gene_type']==\"protein-coding gene\"]\n",
    "    \n",
    "    def select_noncoding(self, columns=['name']):\n",
    "        \"\"\"Select certain columns. In this case, I want to select protein-coding genes\"\"\"\n",
    "        self.df=self.df.loc[self.df['gene_type']!=\"non-coding gene\"]\n",
    "        \n",
    "    def select(self, columns=['name']):\n",
    "        \"\"\"Select certain columns\"\"\"\n",
    "        self.df=self.df[columns].copy()\n",
    "        \n",
    "class Regions(EXONIC_MIR):\n",
    "    \"\"\"This class will determine the region of exonic miRNAs in a host gene\"\"\"\n",
    "    \n",
    "    def __init__(self, csv_file):\n",
    "        super().__init__(csv_file)\n",
    "            \n",
    "    def determine_region(self, row):\n",
    "        \"\"\"Determine region based on strand and positions\"\"\"\n",
    "        if row['miR_strand'] == \"+\":\n",
    "            if row['miR_exonEnds'] < row['hostgene_cdsStart']:\n",
    "                return \"5'UTR\"\n",
    "            elif row['miR_exonStarts'] > row['hostgene_cdsStart'] and row['miR_exonEnds'] < row['hostgene_cdsEnd']:\n",
    "                return 'CDS'\n",
    "            elif row['miR_exonStarts'] > row['hostgene_cdsEnd']:\n",
    "                return \"3'UTR\"\n",
    "            elif row['miR_exonStarts'] < row['hostgene_cdsEnd'] and row['miR_exonEnds'] > row['hostgene_cdsEnd']:\n",
    "                return 'Span from CDS and 3\\'UTR'\n",
    "            else:\n",
    "                return 'Span from CDS and 5\\'UTR'\n",
    "        elif row['miR_strand'] == \"-\":\n",
    "            if row['miR_exonEnds'] < row['hostgene_cdsStart']:\n",
    "                return \"3'UTR\"\n",
    "            elif row['miR_exonStarts'] > row['hostgene_cdsEnd']:\n",
    "                return \"5'UTR\"\n",
    "            elif row['miR_exonStarts'] < row['hostgene_cdsStart']:\n",
    "                return 'Span from CDS and 3\\'UTR'\n",
    "            else:\n",
    "                return 'CDS'\n",
    "        else:\n",
    "            return 'undefined'\n",
    "    \n",
    "    def add_region(self):\n",
    "        \"\"\"Add 'region' column to the DataFrame\"\"\"\n",
    "        self.df['region'] = self.df.apply(self.determine_region, axis=1)\n",
    "        \n",
    "#     def finalize(self):\n",
    "#         self.df.columns=self.df.columns.str.title()  "
   ]
  },
  {
   "cell_type": "code",
   "execution_count": null,
   "id": "4b1d3564-baeb-4e3d-ba30-20ef121e7660",
   "metadata": {},
   "outputs": [],
   "source": []
  }
 ],
 "metadata": {
  "kernelspec": {
   "display_name": "Python 3 (ipykernel)",
   "language": "python",
   "name": "python3"
  },
  "language_info": {
   "codemirror_mode": {
    "name": "ipython",
    "version": 3
   },
   "file_extension": ".py",
   "mimetype": "text/x-python",
   "name": "python",
   "nbconvert_exporter": "python",
   "pygments_lexer": "ipython3",
   "version": "3.10.9"
  }
 },
 "nbformat": 4,
 "nbformat_minor": 5
}
