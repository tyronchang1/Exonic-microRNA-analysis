{
 "cells": [
  {
   "cell_type": "markdown",
   "id": "9c4ab187-dc38-48dd-b830-40a8c17a4bf9",
   "metadata": {},
   "source": [
    "### Intragenic Exonic sense vs antinsense"
   ]
  },
  {
   "cell_type": "code",
   "execution_count": 1,
   "id": "88c0cdb0-47e8-4c37-80e6-6f1390817d01",
   "metadata": {},
   "outputs": [],
   "source": [
    "import pandas as pd\n",
    "import matplotlib.pyplot as plt\n",
    "import os\n",
    "current_dir=os.getcwd()"
   ]
  },
  {
   "cell_type": "code",
   "execution_count": 2,
   "id": "b5eb3249-be59-443a-8a97-b116933c365b",
   "metadata": {},
   "outputs": [],
   "source": [
    "exonic_intragenic_columns=['hostgene_chrom', 'hostgene_exonStarts', 'hostgene_exonEnds', 'hostgene_cdsStart', 'hostgene_cdsEnd'\n",
    "         , 'hostgene_strand','hostgene_exonCounts','hostgene_txStarts','hostgene_txEnds','mature_host_mRNA_Length',\n",
    "       'hostgene_Name', 'hostgene_NCBI_ID','miR_chrom', 'miR_exonStarts', 'miR_exonEnds', 'miR_type'\n",
    "         , 'miR_Name',\n",
    "       'miR_strand', 'miR_ID']"
   ]
  },
  {
   "cell_type": "code",
   "execution_count": 3,
   "id": "9d35f66d-0a61-41eb-951b-b90dcb948e57",
   "metadata": {},
   "outputs": [],
   "source": [
    "\"\"\" This command will get exonic miRNAs on the same strand as host genes. \n",
    "However,miRNAs partially overlapped with the exons will be included.\"\"\"\n",
    "##mouse_exonic_miR_intragenic_NCBI.tsv is generated from bedtools_nonexonic_miR.sh\n",
    "Mouse_exonicmiR_intragenic=pd.read_csv(f\"{current_dir}/Mouse_tsv_file/mouse_exonic_miR_intragenic_NCBI.tsv\", sep=\"\\t\",\n",
    "                                      header=None,names=exonic_intragenic_columns)"
   ]
  },
  {
   "cell_type": "code",
   "execution_count": 4,
   "id": "b3e148c7-286c-4a23-97c3-600d01985787",
   "metadata": {},
   "outputs": [
    {
     "data": {
      "text/plain": [
       "(1331, 19)"
      ]
     },
     "execution_count": 4,
     "metadata": {},
     "output_type": "execute_result"
    }
   ],
   "source": [
    "Mouse_exonicmiR_intragenic.shape"
   ]
  },
  {
   "cell_type": "code",
   "execution_count": 5,
   "id": "02ba47e5-b653-41cb-994b-53c5061044f8",
   "metadata": {},
   "outputs": [],
   "source": [
    "\"\"\" This command will get exonic miRNAs on the opposite strand as host genes. \n",
    "However,miRNAs partially overlapped with the exons will be included.\"\"\"\n",
    "##human_exonic_miR_intragenic_NCBI.tsv is generated from bedtools_nonexonic_miR.sh\n",
    "Mouse_exonicmiR_antisense=pd.read_csv(f\"{current_dir}/Mouse_tsv_file/mouse_exonic_miR_opposite_NCBI.tsv\", sep=\"\\t\",\n",
    "                                      header=None,names=exonic_intragenic_columns)"
   ]
  },
  {
   "cell_type": "code",
   "execution_count": 6,
   "id": "6630c60c-9bbd-4a4d-81d9-cbe2a8acf0c1",
   "metadata": {},
   "outputs": [],
   "source": [
    "Mouse_exonicmiR_intragenic=Mouse_exonicmiR_intragenic.loc[Mouse_exonicmiR_intragenic['miR_type']==\"miRNA_primary_transcript\"]"
   ]
  },
  {
   "cell_type": "code",
   "execution_count": 7,
   "id": "5f2a15a7-d2b3-482c-a78b-04e6c9a5a035",
   "metadata": {},
   "outputs": [],
   "source": [
    "Mouse_exonicmiR_intragenic=Mouse_exonicmiR_intragenic.drop_duplicates(subset=[\"miR_Name\"])"
   ]
  },
  {
   "cell_type": "code",
   "execution_count": 8,
   "id": "1af68e2b-727d-48b5-980d-789e0007fb9f",
   "metadata": {},
   "outputs": [],
   "source": [
    "Mouse_exonicmiR_intragenic[\"miR_Name\"]=Mouse_exonicmiR_intragenic[\"miR_Name\"].str.replace(\"Name=\", \"\")"
   ]
  },
  {
   "cell_type": "code",
   "execution_count": 9,
   "id": "d4e2df02-6d8f-4921-9e13-a0cdd4bed790",
   "metadata": {},
   "outputs": [],
   "source": [
    "Mouse_exonicmiR_intragenic[\"host_gene_region\"]=\"exons\""
   ]
  },
  {
   "cell_type": "code",
   "execution_count": 10,
   "id": "5cb5787e-afd9-4120-9ee6-8f035ecba458",
   "metadata": {},
   "outputs": [
    {
     "data": {
      "text/html": [
       "<div>\n",
       "<style scoped>\n",
       "    .dataframe tbody tr th:only-of-type {\n",
       "        vertical-align: middle;\n",
       "    }\n",
       "\n",
       "    .dataframe tbody tr th {\n",
       "        vertical-align: top;\n",
       "    }\n",
       "\n",
       "    .dataframe thead th {\n",
       "        text-align: right;\n",
       "    }\n",
       "</style>\n",
       "<table border=\"1\" class=\"dataframe\">\n",
       "  <thead>\n",
       "    <tr style=\"text-align: right;\">\n",
       "      <th></th>\n",
       "      <th>hostgene_chrom</th>\n",
       "      <th>hostgene_exonStarts</th>\n",
       "      <th>hostgene_exonEnds</th>\n",
       "      <th>hostgene_cdsStart</th>\n",
       "      <th>hostgene_cdsEnd</th>\n",
       "      <th>hostgene_strand</th>\n",
       "      <th>hostgene_exonCounts</th>\n",
       "      <th>hostgene_txStarts</th>\n",
       "      <th>hostgene_txEnds</th>\n",
       "      <th>mature_host_mRNA_Length</th>\n",
       "      <th>hostgene_Name</th>\n",
       "      <th>hostgene_NCBI_ID</th>\n",
       "      <th>miR_chrom</th>\n",
       "      <th>miR_exonStarts</th>\n",
       "      <th>miR_exonEnds</th>\n",
       "      <th>miR_type</th>\n",
       "      <th>miR_Name</th>\n",
       "      <th>miR_strand</th>\n",
       "      <th>miR_ID</th>\n",
       "      <th>host_gene_region</th>\n",
       "    </tr>\n",
       "  </thead>\n",
       "  <tbody>\n",
       "    <tr>\n",
       "      <th>0</th>\n",
       "      <td>chr1</td>\n",
       "      <td>195033822</td>\n",
       "      <td>195037908</td>\n",
       "      <td>195037908</td>\n",
       "      <td>195037908</td>\n",
       "      <td>+</td>\n",
       "      <td>8</td>\n",
       "      <td>195017398</td>\n",
       "      <td>195037908</td>\n",
       "      <td>5195</td>\n",
       "      <td>A330023F24Rik</td>\n",
       "      <td>NR_015566.2</td>\n",
       "      <td>chr1</td>\n",
       "      <td>195037040</td>\n",
       "      <td>195037120</td>\n",
       "      <td>miRNA_primary_transcript</td>\n",
       "      <td>mmu-mir-29b-2</td>\n",
       "      <td>+</td>\n",
       "      <td>Alias=MI0000712</td>\n",
       "      <td>exons</td>\n",
       "    </tr>\n",
       "    <tr>\n",
       "      <th>3</th>\n",
       "      <td>chr1</td>\n",
       "      <td>195033822</td>\n",
       "      <td>195037908</td>\n",
       "      <td>195037908</td>\n",
       "      <td>195037908</td>\n",
       "      <td>+</td>\n",
       "      <td>8</td>\n",
       "      <td>195017398</td>\n",
       "      <td>195037908</td>\n",
       "      <td>5195</td>\n",
       "      <td>A330023F24Rik</td>\n",
       "      <td>NR_015566.2</td>\n",
       "      <td>chr1</td>\n",
       "      <td>195037547</td>\n",
       "      <td>195037634</td>\n",
       "      <td>miRNA_primary_transcript</td>\n",
       "      <td>mmu-mir-29c</td>\n",
       "      <td>+</td>\n",
       "      <td>Alias=MI0000577</td>\n",
       "      <td>exons</td>\n",
       "    </tr>\n",
       "    <tr>\n",
       "      <th>6</th>\n",
       "      <td>chr1</td>\n",
       "      <td>20682712</td>\n",
       "      <td>20682958</td>\n",
       "      <td>20682958</td>\n",
       "      <td>20682958</td>\n",
       "      <td>+</td>\n",
       "      <td>3</td>\n",
       "      <td>20669881</td>\n",
       "      <td>20682958</td>\n",
       "      <td>521</td>\n",
       "      <td>Lincmd1</td>\n",
       "      <td>NR_131249.1</td>\n",
       "      <td>chr1</td>\n",
       "      <td>20682769</td>\n",
       "      <td>20682887</td>\n",
       "      <td>miRNA_primary_transcript</td>\n",
       "      <td>mmu-mir-133b</td>\n",
       "      <td>+</td>\n",
       "      <td>Alias=MI0000821</td>\n",
       "      <td>exons</td>\n",
       "    </tr>\n",
       "    <tr>\n",
       "      <th>9</th>\n",
       "      <td>chr1</td>\n",
       "      <td>86351980</td>\n",
       "      <td>86352127</td>\n",
       "      <td>86352127</td>\n",
       "      <td>86352127</td>\n",
       "      <td>-</td>\n",
       "      <td>1</td>\n",
       "      <td>86351980</td>\n",
       "      <td>86352127</td>\n",
       "      <td>147</td>\n",
       "      <td>Gm24148</td>\n",
       "      <td>NR_106184.1</td>\n",
       "      <td>chr1</td>\n",
       "      <td>86351981</td>\n",
       "      <td>86352127</td>\n",
       "      <td>miRNA_primary_transcript</td>\n",
       "      <td>mmu-mir-3535</td>\n",
       "      <td>-</td>\n",
       "      <td>Alias=MI0026036</td>\n",
       "      <td>exons</td>\n",
       "    </tr>\n",
       "    <tr>\n",
       "      <th>11</th>\n",
       "      <td>chr1</td>\n",
       "      <td>93274604</td>\n",
       "      <td>93274718</td>\n",
       "      <td>93274104</td>\n",
       "      <td>93296278</td>\n",
       "      <td>+</td>\n",
       "      <td>31</td>\n",
       "      <td>93235795</td>\n",
       "      <td>93301065</td>\n",
       "      <td>9228</td>\n",
       "      <td>Sned1</td>\n",
       "      <td>XM_030252567.1</td>\n",
       "      <td>chr1</td>\n",
       "      <td>93274549</td>\n",
       "      <td>93274610</td>\n",
       "      <td>miRNA_primary_transcript</td>\n",
       "      <td>mmu-mir-6901</td>\n",
       "      <td>+</td>\n",
       "      <td>Alias=MI0022748</td>\n",
       "      <td>exons</td>\n",
       "    </tr>\n",
       "    <tr>\n",
       "      <th>...</th>\n",
       "      <td>...</td>\n",
       "      <td>...</td>\n",
       "      <td>...</td>\n",
       "      <td>...</td>\n",
       "      <td>...</td>\n",
       "      <td>...</td>\n",
       "      <td>...</td>\n",
       "      <td>...</td>\n",
       "      <td>...</td>\n",
       "      <td>...</td>\n",
       "      <td>...</td>\n",
       "      <td>...</td>\n",
       "      <td>...</td>\n",
       "      <td>...</td>\n",
       "      <td>...</td>\n",
       "      <td>...</td>\n",
       "      <td>...</td>\n",
       "      <td>...</td>\n",
       "      <td>...</td>\n",
       "      <td>...</td>\n",
       "    </tr>\n",
       "    <tr>\n",
       "      <th>1311</th>\n",
       "      <td>chr19</td>\n",
       "      <td>6914078</td>\n",
       "      <td>6914292</td>\n",
       "      <td>6911750</td>\n",
       "      <td>6914091</td>\n",
       "      <td>-</td>\n",
       "      <td>6</td>\n",
       "      <td>6910976</td>\n",
       "      <td>6921709</td>\n",
       "      <td>1903</td>\n",
       "      <td>Esrra</td>\n",
       "      <td>XM_017318209.2</td>\n",
       "      <td>chr19</td>\n",
       "      <td>6914196</td>\n",
       "      <td>6914286</td>\n",
       "      <td>miRNA_primary_transcript</td>\n",
       "      <td>mmu-mir-6990</td>\n",
       "      <td>-</td>\n",
       "      <td>Alias=MI0022838</td>\n",
       "      <td>exons</td>\n",
       "    </tr>\n",
       "    <tr>\n",
       "      <th>1317</th>\n",
       "      <td>chr19</td>\n",
       "      <td>7421913</td>\n",
       "      <td>7425908</td>\n",
       "      <td>7417778</td>\n",
       "      <td>7423106</td>\n",
       "      <td>+</td>\n",
       "      <td>4</td>\n",
       "      <td>7417757</td>\n",
       "      <td>7425908</td>\n",
       "      <td>5040</td>\n",
       "      <td>2700081O15Rik</td>\n",
       "      <td>XM_011247115.3</td>\n",
       "      <td>chr19</td>\n",
       "      <td>7422573</td>\n",
       "      <td>7422642</td>\n",
       "      <td>miRNA_primary_transcript</td>\n",
       "      <td>mmu-mir-6991</td>\n",
       "      <td>+</td>\n",
       "      <td>Alias=MI0022839</td>\n",
       "      <td>exons</td>\n",
       "    </tr>\n",
       "    <tr>\n",
       "      <th>1320</th>\n",
       "      <td>chr19</td>\n",
       "      <td>8888386</td>\n",
       "      <td>8888770</td>\n",
       "      <td>8888770</td>\n",
       "      <td>8888770</td>\n",
       "      <td>-</td>\n",
       "      <td>1</td>\n",
       "      <td>8888386</td>\n",
       "      <td>8888770</td>\n",
       "      <td>384</td>\n",
       "      <td>5730408K05Rik</td>\n",
       "      <td>NR_027866.1</td>\n",
       "      <td>chr19</td>\n",
       "      <td>8888699</td>\n",
       "      <td>8888774</td>\n",
       "      <td>miRNA_primary_transcript</td>\n",
       "      <td>mmu-mir-5136</td>\n",
       "      <td>-</td>\n",
       "      <td>Alias=MI0018048</td>\n",
       "      <td>exons</td>\n",
       "    </tr>\n",
       "    <tr>\n",
       "      <th>1322</th>\n",
       "      <td>chr19</td>\n",
       "      <td>40894563</td>\n",
       "      <td>40894786</td>\n",
       "      <td>40911628</td>\n",
       "      <td>40916065</td>\n",
       "      <td>+</td>\n",
       "      <td>5</td>\n",
       "      <td>40894563</td>\n",
       "      <td>40917942</td>\n",
       "      <td>6972</td>\n",
       "      <td>Zfp518a</td>\n",
       "      <td>XM_030251088.1</td>\n",
       "      <td>chr19</td>\n",
       "      <td>40894703</td>\n",
       "      <td>40894789</td>\n",
       "      <td>miRNA_primary_transcript</td>\n",
       "      <td>mmu-mir-8092</td>\n",
       "      <td>+</td>\n",
       "      <td>Alias=MI0026019</td>\n",
       "      <td>exons</td>\n",
       "    </tr>\n",
       "    <tr>\n",
       "      <th>1328</th>\n",
       "      <td>chr19</td>\n",
       "      <td>60774329</td>\n",
       "      <td>60774385</td>\n",
       "      <td>60774385</td>\n",
       "      <td>60774385</td>\n",
       "      <td>-</td>\n",
       "      <td>1</td>\n",
       "      <td>60774329</td>\n",
       "      <td>60774385</td>\n",
       "      <td>56</td>\n",
       "      <td>Snora19</td>\n",
       "      <td>NR_034047.1</td>\n",
       "      <td>chr19</td>\n",
       "      <td>60774329</td>\n",
       "      <td>60774397</td>\n",
       "      <td>miRNA_primary_transcript</td>\n",
       "      <td>mmu-mir-3084-2</td>\n",
       "      <td>-</td>\n",
       "      <td>Alias=MI0020958</td>\n",
       "      <td>exons</td>\n",
       "    </tr>\n",
       "  </tbody>\n",
       "</table>\n",
       "<p>237 rows × 20 columns</p>\n",
       "</div>"
      ],
      "text/plain": [
       "     hostgene_chrom  hostgene_exonStarts  hostgene_exonEnds  \\\n",
       "0              chr1            195033822          195037908   \n",
       "3              chr1            195033822          195037908   \n",
       "6              chr1             20682712           20682958   \n",
       "9              chr1             86351980           86352127   \n",
       "11             chr1             93274604           93274718   \n",
       "...             ...                  ...                ...   \n",
       "1311          chr19              6914078            6914292   \n",
       "1317          chr19              7421913            7425908   \n",
       "1320          chr19              8888386            8888770   \n",
       "1322          chr19             40894563           40894786   \n",
       "1328          chr19             60774329           60774385   \n",
       "\n",
       "      hostgene_cdsStart  hostgene_cdsEnd hostgene_strand  hostgene_exonCounts  \\\n",
       "0             195037908        195037908               +                    8   \n",
       "3             195037908        195037908               +                    8   \n",
       "6              20682958         20682958               +                    3   \n",
       "9              86352127         86352127               -                    1   \n",
       "11             93274104         93296278               +                   31   \n",
       "...                 ...              ...             ...                  ...   \n",
       "1311            6911750          6914091               -                    6   \n",
       "1317            7417778          7423106               +                    4   \n",
       "1320            8888770          8888770               -                    1   \n",
       "1322           40911628         40916065               +                    5   \n",
       "1328           60774385         60774385               -                    1   \n",
       "\n",
       "      hostgene_txStarts  hostgene_txEnds  mature_host_mRNA_Length  \\\n",
       "0             195017398        195037908                     5195   \n",
       "3             195017398        195037908                     5195   \n",
       "6              20669881         20682958                      521   \n",
       "9              86351980         86352127                      147   \n",
       "11             93235795         93301065                     9228   \n",
       "...                 ...              ...                      ...   \n",
       "1311            6910976          6921709                     1903   \n",
       "1317            7417757          7425908                     5040   \n",
       "1320            8888386          8888770                      384   \n",
       "1322           40894563         40917942                     6972   \n",
       "1328           60774329         60774385                       56   \n",
       "\n",
       "      hostgene_Name hostgene_NCBI_ID miR_chrom  miR_exonStarts  miR_exonEnds  \\\n",
       "0     A330023F24Rik      NR_015566.2      chr1       195037040     195037120   \n",
       "3     A330023F24Rik      NR_015566.2      chr1       195037547     195037634   \n",
       "6           Lincmd1      NR_131249.1      chr1        20682769      20682887   \n",
       "9           Gm24148      NR_106184.1      chr1        86351981      86352127   \n",
       "11            Sned1   XM_030252567.1      chr1        93274549      93274610   \n",
       "...             ...              ...       ...             ...           ...   \n",
       "1311          Esrra   XM_017318209.2     chr19         6914196       6914286   \n",
       "1317  2700081O15Rik   XM_011247115.3     chr19         7422573       7422642   \n",
       "1320  5730408K05Rik      NR_027866.1     chr19         8888699       8888774   \n",
       "1322        Zfp518a   XM_030251088.1     chr19        40894703      40894789   \n",
       "1328        Snora19      NR_034047.1     chr19        60774329      60774397   \n",
       "\n",
       "                      miR_type        miR_Name miR_strand           miR_ID  \\\n",
       "0     miRNA_primary_transcript   mmu-mir-29b-2          +  Alias=MI0000712   \n",
       "3     miRNA_primary_transcript     mmu-mir-29c          +  Alias=MI0000577   \n",
       "6     miRNA_primary_transcript    mmu-mir-133b          +  Alias=MI0000821   \n",
       "9     miRNA_primary_transcript    mmu-mir-3535          -  Alias=MI0026036   \n",
       "11    miRNA_primary_transcript    mmu-mir-6901          +  Alias=MI0022748   \n",
       "...                        ...             ...        ...              ...   \n",
       "1311  miRNA_primary_transcript    mmu-mir-6990          -  Alias=MI0022838   \n",
       "1317  miRNA_primary_transcript    mmu-mir-6991          +  Alias=MI0022839   \n",
       "1320  miRNA_primary_transcript    mmu-mir-5136          -  Alias=MI0018048   \n",
       "1322  miRNA_primary_transcript    mmu-mir-8092          +  Alias=MI0026019   \n",
       "1328  miRNA_primary_transcript  mmu-mir-3084-2          -  Alias=MI0020958   \n",
       "\n",
       "     host_gene_region  \n",
       "0               exons  \n",
       "3               exons  \n",
       "6               exons  \n",
       "9               exons  \n",
       "11              exons  \n",
       "...               ...  \n",
       "1311            exons  \n",
       "1317            exons  \n",
       "1320            exons  \n",
       "1322            exons  \n",
       "1328            exons  \n",
       "\n",
       "[237 rows x 20 columns]"
      ]
     },
     "execution_count": 10,
     "metadata": {},
     "output_type": "execute_result"
    }
   ],
   "source": [
    "Mouse_exonicmiR_intragenic"
   ]
  },
  {
   "cell_type": "code",
   "execution_count": 12,
   "id": "692bee0d-d2d8-42c6-a514-8b203a55b55e",
   "metadata": {},
   "outputs": [],
   "source": [
    "Mouse_exonicmiR_antisense=Mouse_exonicmiR_antisense.loc[Mouse_exonicmiR_antisense['miR_type']==\"miRNA_primary_transcript\"]"
   ]
  },
  {
   "cell_type": "code",
   "execution_count": 14,
   "id": "af175e03-da02-4263-94d1-4c00e2df8847",
   "metadata": {},
   "outputs": [],
   "source": [
    "Mouse_exonicmiR_antisense=Mouse_exonicmiR_antisense.drop_duplicates(subset=[\"miR_Name\"])"
   ]
  },
  {
   "cell_type": "code",
   "execution_count": 15,
   "id": "1407aeb8-cd81-4333-a3b7-e16a66e37047",
   "metadata": {},
   "outputs": [],
   "source": [
    "Mouse_exonicmiR_antisense[\"miR_Name\"]=Mouse_exonicmiR_antisense[\"miR_Name\"].str.replace(\"Name=\", \"\")"
   ]
  },
  {
   "cell_type": "code",
   "execution_count": 16,
   "id": "434e5feb-fe77-450a-8323-379efeac49db",
   "metadata": {},
   "outputs": [],
   "source": [
    "Mouse_exonicmiR_antisense[\"host_gene_region\"]=\"exons\""
   ]
  },
  {
   "cell_type": "code",
   "execution_count": 17,
   "id": "cb74e553-2f85-43f2-92a0-a6a708dcc204",
   "metadata": {},
   "outputs": [
    {
     "data": {
      "text/plain": [
       "(73, 20)"
      ]
     },
     "execution_count": 17,
     "metadata": {},
     "output_type": "execute_result"
    }
   ],
   "source": [
    "Mouse_exonicmiR_antisense.shape"
   ]
  },
  {
   "cell_type": "code",
   "execution_count": 18,
   "id": "1e016573-a76a-4cc9-acbe-17c39f2cd467",
   "metadata": {},
   "outputs": [
    {
     "data": {
      "text/html": [
       "<div>\n",
       "<style scoped>\n",
       "    .dataframe tbody tr th:only-of-type {\n",
       "        vertical-align: middle;\n",
       "    }\n",
       "\n",
       "    .dataframe tbody tr th {\n",
       "        vertical-align: top;\n",
       "    }\n",
       "\n",
       "    .dataframe thead th {\n",
       "        text-align: right;\n",
       "    }\n",
       "</style>\n",
       "<table border=\"1\" class=\"dataframe\">\n",
       "  <thead>\n",
       "    <tr style=\"text-align: right;\">\n",
       "      <th></th>\n",
       "      <th>hostgene_chrom</th>\n",
       "      <th>hostgene_exonStarts</th>\n",
       "      <th>hostgene_exonEnds</th>\n",
       "      <th>hostgene_cdsStart</th>\n",
       "      <th>hostgene_cdsEnd</th>\n",
       "      <th>hostgene_strand</th>\n",
       "      <th>hostgene_exonCounts</th>\n",
       "      <th>hostgene_txStarts</th>\n",
       "      <th>hostgene_txEnds</th>\n",
       "      <th>mature_host_mRNA_Length</th>\n",
       "      <th>hostgene_Name</th>\n",
       "      <th>hostgene_NCBI_ID</th>\n",
       "      <th>miR_chrom</th>\n",
       "      <th>miR_exonStarts</th>\n",
       "      <th>miR_exonEnds</th>\n",
       "      <th>miR_type</th>\n",
       "      <th>miR_Name</th>\n",
       "      <th>miR_strand</th>\n",
       "      <th>miR_ID</th>\n",
       "      <th>host_gene_region</th>\n",
       "    </tr>\n",
       "  </thead>\n",
       "  <tbody>\n",
       "    <tr>\n",
       "      <th>0</th>\n",
       "      <td>chr1</td>\n",
       "      <td>84695452</td>\n",
       "      <td>84696221</td>\n",
       "      <td>84370763</td>\n",
       "      <td>84695728</td>\n",
       "      <td>-</td>\n",
       "      <td>13</td>\n",
       "      <td>84369838</td>\n",
       "      <td>84696221</td>\n",
       "      <td>3632</td>\n",
       "      <td>Dner</td>\n",
       "      <td>NM_152915.1</td>\n",
       "      <td>chr1</td>\n",
       "      <td>84695839</td>\n",
       "      <td>84695915</td>\n",
       "      <td>miRNA_primary_transcript</td>\n",
       "      <td>mmu-mir-5126</td>\n",
       "      <td>+</td>\n",
       "      <td>Alias=MI0018038</td>\n",
       "      <td>exons</td>\n",
       "    </tr>\n",
       "    <tr>\n",
       "      <th>2</th>\n",
       "      <td>chr1</td>\n",
       "      <td>118952775</td>\n",
       "      <td>118961165</td>\n",
       "      <td>118961165</td>\n",
       "      <td>118961165</td>\n",
       "      <td>-</td>\n",
       "      <td>2</td>\n",
       "      <td>118945048</td>\n",
       "      <td>118961165</td>\n",
       "      <td>15024</td>\n",
       "      <td>Gm51642</td>\n",
       "      <td>XR_003947959.1</td>\n",
       "      <td>chr1</td>\n",
       "      <td>118954220</td>\n",
       "      <td>118954300</td>\n",
       "      <td>miRNA_primary_transcript</td>\n",
       "      <td>mmu-mir-6346</td>\n",
       "      <td>+</td>\n",
       "      <td>Alias=MI0021874</td>\n",
       "      <td>exons</td>\n",
       "    </tr>\n",
       "    <tr>\n",
       "      <th>4</th>\n",
       "      <td>chr2</td>\n",
       "      <td>173701021</td>\n",
       "      <td>173702186</td>\n",
       "      <td>173695127</td>\n",
       "      <td>173701119</td>\n",
       "      <td>+</td>\n",
       "      <td>6</td>\n",
       "      <td>173659835</td>\n",
       "      <td>173702186</td>\n",
       "      <td>1840</td>\n",
       "      <td>Rab22a</td>\n",
       "      <td>XM_017316603.2</td>\n",
       "      <td>chr2</td>\n",
       "      <td>173701030</td>\n",
       "      <td>173701148</td>\n",
       "      <td>miRNA_primary_transcript</td>\n",
       "      <td>mmu-mir-6340</td>\n",
       "      <td>-</td>\n",
       "      <td>Alias=MI0021868</td>\n",
       "      <td>exons</td>\n",
       "    </tr>\n",
       "    <tr>\n",
       "      <th>8</th>\n",
       "      <td>chr2</td>\n",
       "      <td>29845093</td>\n",
       "      <td>29845843</td>\n",
       "      <td>29871041</td>\n",
       "      <td>29881948</td>\n",
       "      <td>+</td>\n",
       "      <td>14</td>\n",
       "      <td>29845093</td>\n",
       "      <td>29882833</td>\n",
       "      <td>3436</td>\n",
       "      <td>Cercam</td>\n",
       "      <td>XM_006498476.4</td>\n",
       "      <td>chr2</td>\n",
       "      <td>29845631</td>\n",
       "      <td>29845727</td>\n",
       "      <td>miRNA_primary_transcript</td>\n",
       "      <td>mmu-mir-219a-2</td>\n",
       "      <td>-</td>\n",
       "      <td>Alias=MI0000741</td>\n",
       "      <td>exons</td>\n",
       "    </tr>\n",
       "    <tr>\n",
       "      <th>11</th>\n",
       "      <td>chr2</td>\n",
       "      <td>32045968</td>\n",
       "      <td>32051219</td>\n",
       "      <td>32083954</td>\n",
       "      <td>32083954</td>\n",
       "      <td>-</td>\n",
       "      <td>4</td>\n",
       "      <td>32045968</td>\n",
       "      <td>32083954</td>\n",
       "      <td>7360</td>\n",
       "      <td>Fam78a</td>\n",
       "      <td>XR_003952794.1</td>\n",
       "      <td>chr2</td>\n",
       "      <td>32050946</td>\n",
       "      <td>32051008</td>\n",
       "      <td>miRNA_primary_transcript</td>\n",
       "      <td>mmu-mir-7674</td>\n",
       "      <td>+</td>\n",
       "      <td>Alias=MI0025015</td>\n",
       "      <td>exons</td>\n",
       "    </tr>\n",
       "    <tr>\n",
       "      <th>...</th>\n",
       "      <td>...</td>\n",
       "      <td>...</td>\n",
       "      <td>...</td>\n",
       "      <td>...</td>\n",
       "      <td>...</td>\n",
       "      <td>...</td>\n",
       "      <td>...</td>\n",
       "      <td>...</td>\n",
       "      <td>...</td>\n",
       "      <td>...</td>\n",
       "      <td>...</td>\n",
       "      <td>...</td>\n",
       "      <td>...</td>\n",
       "      <td>...</td>\n",
       "      <td>...</td>\n",
       "      <td>...</td>\n",
       "      <td>...</td>\n",
       "      <td>...</td>\n",
       "      <td>...</td>\n",
       "      <td>...</td>\n",
       "    </tr>\n",
       "    <tr>\n",
       "      <th>338</th>\n",
       "      <td>chr17</td>\n",
       "      <td>25830509</td>\n",
       "      <td>25831843</td>\n",
       "      <td>25829071</td>\n",
       "      <td>25830590</td>\n",
       "      <td>+</td>\n",
       "      <td>9</td>\n",
       "      <td>25829042</td>\n",
       "      <td>25831843</td>\n",
       "      <td>2092</td>\n",
       "      <td>Jmjd8</td>\n",
       "      <td>NM_028101.5</td>\n",
       "      <td>chr17</td>\n",
       "      <td>25831365</td>\n",
       "      <td>25831428</td>\n",
       "      <td>miRNA_primary_transcript</td>\n",
       "      <td>mmu-mir-3082</td>\n",
       "      <td>-</td>\n",
       "      <td>Alias=MI0014045</td>\n",
       "      <td>exons</td>\n",
       "    </tr>\n",
       "    <tr>\n",
       "      <th>341</th>\n",
       "      <td>chr17</td>\n",
       "      <td>26948059</td>\n",
       "      <td>26948116</td>\n",
       "      <td>26948116</td>\n",
       "      <td>26948116</td>\n",
       "      <td>+</td>\n",
       "      <td>1</td>\n",
       "      <td>26948059</td>\n",
       "      <td>26948116</td>\n",
       "      <td>57</td>\n",
       "      <td>Gm51291</td>\n",
       "      <td>NR_162790.1</td>\n",
       "      <td>chr17</td>\n",
       "      <td>26948056</td>\n",
       "      <td>26948119</td>\n",
       "      <td>miRNA_primary_transcript</td>\n",
       "      <td>mmu-mir-3083</td>\n",
       "      <td>-</td>\n",
       "      <td>Alias=MI0014046</td>\n",
       "      <td>exons</td>\n",
       "    </tr>\n",
       "    <tr>\n",
       "      <th>344</th>\n",
       "      <td>chr18</td>\n",
       "      <td>11839273</td>\n",
       "      <td>11840533</td>\n",
       "      <td>11839805</td>\n",
       "      <td>11944601</td>\n",
       "      <td>+</td>\n",
       "      <td>9</td>\n",
       "      <td>11839273</td>\n",
       "      <td>11945627</td>\n",
       "      <td>3265</td>\n",
       "      <td>Cables1</td>\n",
       "      <td>NM_022021.2</td>\n",
       "      <td>chr18</td>\n",
       "      <td>11840361</td>\n",
       "      <td>11840438</td>\n",
       "      <td>miRNA_primary_transcript</td>\n",
       "      <td>mmu-mir-1901</td>\n",
       "      <td>-</td>\n",
       "      <td>Alias=MI0008328</td>\n",
       "      <td>exons</td>\n",
       "    </tr>\n",
       "    <tr>\n",
       "      <th>348</th>\n",
       "      <td>chr18</td>\n",
       "      <td>70516793</td>\n",
       "      <td>70516996</td>\n",
       "      <td>70508913</td>\n",
       "      <td>70523379</td>\n",
       "      <td>-</td>\n",
       "      <td>10</td>\n",
       "      <td>70508679</td>\n",
       "      <td>70530321</td>\n",
       "      <td>3564</td>\n",
       "      <td>Poli</td>\n",
       "      <td>NM_001289515.1</td>\n",
       "      <td>chr18</td>\n",
       "      <td>70516786</td>\n",
       "      <td>70516889</td>\n",
       "      <td>miRNA_primary_transcript</td>\n",
       "      <td>mmu-mir-6357</td>\n",
       "      <td>+</td>\n",
       "      <td>Alias=MI0021885</td>\n",
       "      <td>exons</td>\n",
       "    </tr>\n",
       "    <tr>\n",
       "      <th>374</th>\n",
       "      <td>chr18</td>\n",
       "      <td>34759246</td>\n",
       "      <td>34760977</td>\n",
       "      <td>34760977</td>\n",
       "      <td>34760977</td>\n",
       "      <td>-</td>\n",
       "      <td>2</td>\n",
       "      <td>34758944</td>\n",
       "      <td>34760977</td>\n",
       "      <td>1905</td>\n",
       "      <td>Gm3561</td>\n",
       "      <td>XR_001782441.2</td>\n",
       "      <td>chr18</td>\n",
       "      <td>34759519</td>\n",
       "      <td>34759597</td>\n",
       "      <td>miRNA_primary_transcript</td>\n",
       "      <td>mmu-mir-12191</td>\n",
       "      <td>+</td>\n",
       "      <td>Alias=MI0040633</td>\n",
       "      <td>exons</td>\n",
       "    </tr>\n",
       "  </tbody>\n",
       "</table>\n",
       "<p>73 rows × 20 columns</p>\n",
       "</div>"
      ],
      "text/plain": [
       "    hostgene_chrom  hostgene_exonStarts  hostgene_exonEnds  hostgene_cdsStart  \\\n",
       "0             chr1             84695452           84696221           84370763   \n",
       "2             chr1            118952775          118961165          118961165   \n",
       "4             chr2            173701021          173702186          173695127   \n",
       "8             chr2             29845093           29845843           29871041   \n",
       "11            chr2             32045968           32051219           32083954   \n",
       "..             ...                  ...                ...                ...   \n",
       "338          chr17             25830509           25831843           25829071   \n",
       "341          chr17             26948059           26948116           26948116   \n",
       "344          chr18             11839273           11840533           11839805   \n",
       "348          chr18             70516793           70516996           70508913   \n",
       "374          chr18             34759246           34760977           34760977   \n",
       "\n",
       "     hostgene_cdsEnd hostgene_strand  hostgene_exonCounts  hostgene_txStarts  \\\n",
       "0           84695728               -                   13           84369838   \n",
       "2          118961165               -                    2          118945048   \n",
       "4          173701119               +                    6          173659835   \n",
       "8           29881948               +                   14           29845093   \n",
       "11          32083954               -                    4           32045968   \n",
       "..               ...             ...                  ...                ...   \n",
       "338         25830590               +                    9           25829042   \n",
       "341         26948116               +                    1           26948059   \n",
       "344         11944601               +                    9           11839273   \n",
       "348         70523379               -                   10           70508679   \n",
       "374         34760977               -                    2           34758944   \n",
       "\n",
       "     hostgene_txEnds  mature_host_mRNA_Length hostgene_Name hostgene_NCBI_ID  \\\n",
       "0           84696221                     3632          Dner      NM_152915.1   \n",
       "2          118961165                    15024       Gm51642   XR_003947959.1   \n",
       "4          173702186                     1840        Rab22a   XM_017316603.2   \n",
       "8           29882833                     3436        Cercam   XM_006498476.4   \n",
       "11          32083954                     7360        Fam78a   XR_003952794.1   \n",
       "..               ...                      ...           ...              ...   \n",
       "338         25831843                     2092         Jmjd8      NM_028101.5   \n",
       "341         26948116                       57       Gm51291      NR_162790.1   \n",
       "344         11945627                     3265       Cables1      NM_022021.2   \n",
       "348         70530321                     3564          Poli   NM_001289515.1   \n",
       "374         34760977                     1905        Gm3561   XR_001782441.2   \n",
       "\n",
       "    miR_chrom  miR_exonStarts  miR_exonEnds                  miR_type  \\\n",
       "0        chr1        84695839      84695915  miRNA_primary_transcript   \n",
       "2        chr1       118954220     118954300  miRNA_primary_transcript   \n",
       "4        chr2       173701030     173701148  miRNA_primary_transcript   \n",
       "8        chr2        29845631      29845727  miRNA_primary_transcript   \n",
       "11       chr2        32050946      32051008  miRNA_primary_transcript   \n",
       "..        ...             ...           ...                       ...   \n",
       "338     chr17        25831365      25831428  miRNA_primary_transcript   \n",
       "341     chr17        26948056      26948119  miRNA_primary_transcript   \n",
       "344     chr18        11840361      11840438  miRNA_primary_transcript   \n",
       "348     chr18        70516786      70516889  miRNA_primary_transcript   \n",
       "374     chr18        34759519      34759597  miRNA_primary_transcript   \n",
       "\n",
       "           miR_Name miR_strand           miR_ID host_gene_region  \n",
       "0      mmu-mir-5126          +  Alias=MI0018038            exons  \n",
       "2      mmu-mir-6346          +  Alias=MI0021874            exons  \n",
       "4      mmu-mir-6340          -  Alias=MI0021868            exons  \n",
       "8    mmu-mir-219a-2          -  Alias=MI0000741            exons  \n",
       "11     mmu-mir-7674          +  Alias=MI0025015            exons  \n",
       "..              ...        ...              ...              ...  \n",
       "338    mmu-mir-3082          -  Alias=MI0014045            exons  \n",
       "341    mmu-mir-3083          -  Alias=MI0014046            exons  \n",
       "344    mmu-mir-1901          -  Alias=MI0008328            exons  \n",
       "348    mmu-mir-6357          +  Alias=MI0021885            exons  \n",
       "374   mmu-mir-12191          +  Alias=MI0040633            exons  \n",
       "\n",
       "[73 rows x 20 columns]"
      ]
     },
     "execution_count": 18,
     "metadata": {},
     "output_type": "execute_result"
    }
   ],
   "source": [
    "Mouse_exonicmiR_antisense"
   ]
  },
  {
   "cell_type": "code",
   "execution_count": 19,
   "id": "54fd66ba-3a61-4825-8347-5f070abb9eee",
   "metadata": {},
   "outputs": [],
   "source": [
    "Mouse_exonicmiR_intragenic=pd.concat([Mouse_exonicmiR_intragenic,Mouse_exonicmiR_antisense],axis=0)"
   ]
  },
  {
   "cell_type": "code",
   "execution_count": 20,
   "id": "cf64b17a-11cc-445d-a929-76fe7893f989",
   "metadata": {},
   "outputs": [
    {
     "data": {
      "text/plain": [
       "(310, 20)"
      ]
     },
     "execution_count": 20,
     "metadata": {},
     "output_type": "execute_result"
    }
   ],
   "source": [
    "#### This file has all miRNAs are only partially or fully overlapped with the exons of the hostgenes.\n",
    "### Sense and antisense ones are included here.\n",
    "Mouse_exonicmiR_intragenic.shape"
   ]
  },
  {
   "cell_type": "markdown",
   "id": "b949f3d9-63c3-441f-acaf-d4bae4ba19c0",
   "metadata": {},
   "source": [
    "### Intronic_antisense"
   ]
  },
  {
   "cell_type": "code",
   "execution_count": 21,
   "id": "d3330a7a-791b-4472-a743-83b6751e1751",
   "metadata": {},
   "outputs": [],
   "source": [
    "intronic_intragenic_columns=['hostgene_chrom', 'hostgene_txStarts', 'hostgene_txEnds', 'hostgene_cdsStart', 'hostgene_cdsEnd'\n",
    "         , 'hostgene_strand','hostgene_Name', 'hostgene_NCBI_ID','miR_chrom', 'miR_exonStarts', 'miR_exonEnds', 'miR_type'\n",
    "         , 'miR_Name','miR_strand', 'miR_ID']"
   ]
  },
  {
   "cell_type": "code",
   "execution_count": 22,
   "id": "e0eadc99-d7ed-4454-b2a7-5ea2bb382a15",
   "metadata": {},
   "outputs": [
    {
     "data": {
      "text/plain": [
       "15"
      ]
     },
     "execution_count": 22,
     "metadata": {},
     "output_type": "execute_result"
    }
   ],
   "source": [
    "len(intronic_intragenic_columns)"
   ]
  },
  {
   "cell_type": "code",
   "execution_count": 23,
   "id": "0517b2bb-60eb-49d3-9028-d8ffc63eac75",
   "metadata": {},
   "outputs": [],
   "source": [
    "Mouse_intronicmiR_intragenic=pd.read_csv(f\"{current_dir}/Mouse_tsv_file/mouse_intronic_miR_intragenic_NCBI.tsv\", sep=\"\\t\",\n",
    "                                      header=None,names=intronic_intragenic_columns)"
   ]
  },
  {
   "cell_type": "code",
   "execution_count": 24,
   "id": "c2dee11a-e156-46d7-a6a8-5b082612bcd5",
   "metadata": {},
   "outputs": [],
   "source": [
    "Mouse_intronicmiR_antisense=pd.read_csv(f\"{current_dir}/Mouse_tsv_file/mouse_intronic_opposite_miR_NCBI.tsv\", sep=\"\\t\",\n",
    "                                      header=None,names=intronic_intragenic_columns)"
   ]
  },
  {
   "cell_type": "code",
   "execution_count": 25,
   "id": "5266cb18-8114-46d6-9675-e058ec73a369",
   "metadata": {},
   "outputs": [],
   "source": [
    "Mouse_intronicmiR_intragenic=Mouse_intronicmiR_intragenic.loc[Mouse_intronicmiR_intragenic['miR_type']==\"miRNA_primary_transcript\"]"
   ]
  },
  {
   "cell_type": "code",
   "execution_count": 26,
   "id": "fbf3f6fe-adb7-4639-a6df-919fa45a6a3a",
   "metadata": {},
   "outputs": [],
   "source": [
    "Mouse_intronicmiR_intragenic=Mouse_intronicmiR_intragenic.drop_duplicates(subset=[\"miR_Name\"])"
   ]
  },
  {
   "cell_type": "code",
   "execution_count": 27,
   "id": "74fa307b-09d7-49ed-aed4-c0c4fa3cd6e3",
   "metadata": {},
   "outputs": [
    {
     "data": {
      "text/plain": [
       "(675, 15)"
      ]
     },
     "execution_count": 27,
     "metadata": {},
     "output_type": "execute_result"
    }
   ],
   "source": [
    "Mouse_intronicmiR_intragenic.shape"
   ]
  },
  {
   "cell_type": "code",
   "execution_count": 28,
   "id": "f26d54fa-495a-4709-8822-25ac445611ce",
   "metadata": {},
   "outputs": [],
   "source": [
    "Mouse_intronicmiR_intragenic[\"miR_Name\"]=Mouse_intronicmiR_intragenic[\"miR_Name\"].str.replace(\"Name=\", \"\")"
   ]
  },
  {
   "cell_type": "code",
   "execution_count": 29,
   "id": "cae6941b-13a4-44fd-b5f8-7bc56a730b34",
   "metadata": {},
   "outputs": [],
   "source": [
    "Mouse_intronicmiR_intragenic[\"host_gene_region\"]= \"introns\""
   ]
  },
  {
   "cell_type": "code",
   "execution_count": 30,
   "id": "fe70bc8a-5226-4cb6-a58a-3034d5532e2d",
   "metadata": {},
   "outputs": [],
   "source": [
    "Mouse_intronicmiR_antisense=Mouse_intronicmiR_antisense.loc[Mouse_intronicmiR_antisense['miR_type']==\"miRNA_primary_transcript\"]"
   ]
  },
  {
   "cell_type": "code",
   "execution_count": 31,
   "id": "96d65e3c-d806-4fac-a967-05097196c36a",
   "metadata": {},
   "outputs": [],
   "source": [
    "Mouse_intronicmiR_antisense=Mouse_intronicmiR_antisense.drop_duplicates(subset=[\"miR_Name\"])"
   ]
  },
  {
   "cell_type": "code",
   "execution_count": 32,
   "id": "1e80f46b-04b7-4c83-8eec-b42df7b9604f",
   "metadata": {},
   "outputs": [],
   "source": [
    "Mouse_intronicmiR_antisense[\"miR_Name\"]=Mouse_intronicmiR_antisense[\"miR_Name\"].str.replace(\"Name=\", \"\")"
   ]
  },
  {
   "cell_type": "code",
   "execution_count": 33,
   "id": "6b7f1441-0980-43d9-b97b-8675d8fff3af",
   "metadata": {},
   "outputs": [],
   "source": [
    "Mouse_intronicmiR_antisense[\"host_gene_region\"]=\"introns\""
   ]
  },
  {
   "cell_type": "code",
   "execution_count": 34,
   "id": "8da16b30-f48e-47ed-8764-019eb428d8e6",
   "metadata": {},
   "outputs": [
    {
     "data": {
      "text/plain": [
       "(101, 16)"
      ]
     },
     "execution_count": 34,
     "metadata": {},
     "output_type": "execute_result"
    }
   ],
   "source": [
    "Mouse_intronicmiR_antisense.shape"
   ]
  },
  {
   "cell_type": "code",
   "execution_count": 35,
   "id": "286cf20e-3a2d-40ea-9bab-fac730f93a6f",
   "metadata": {},
   "outputs": [],
   "source": [
    "Mouse_intronicmiR_intragenic=pd.concat([Mouse_intronicmiR_intragenic, Mouse_intronicmiR_antisense],axis=0)"
   ]
  },
  {
   "cell_type": "markdown",
   "id": "c7a04e6b-8d71-47d3-9892-278730e161ed",
   "metadata": {},
   "source": [
    "### Merge exonic and intronic intragenic files and determine the transcriptional direction of miRNAs relative to the hostgenes"
   ]
  },
  {
   "cell_type": "code",
   "execution_count": 36,
   "id": "329741ab-120d-413a-a2f2-6dbe617c92e6",
   "metadata": {},
   "outputs": [
    {
     "data": {
      "text/plain": [
       "Index(['hostgene_chrom', 'hostgene_exonStarts', 'hostgene_exonEnds',\n",
       "       'hostgene_cdsStart', 'hostgene_cdsEnd', 'hostgene_strand',\n",
       "       'hostgene_exonCounts', 'hostgene_txStarts', 'hostgene_txEnds',\n",
       "       'mature_host_mRNA_Length', 'hostgene_Name', 'hostgene_NCBI_ID',\n",
       "       'miR_chrom', 'miR_exonStarts', 'miR_exonEnds', 'miR_type', 'miR_Name',\n",
       "       'miR_strand', 'miR_ID', 'host_gene_region'],\n",
       "      dtype='object')"
      ]
     },
     "execution_count": 36,
     "metadata": {},
     "output_type": "execute_result"
    }
   ],
   "source": [
    "Mouse_exonicmiR_intragenic.columns"
   ]
  },
  {
   "cell_type": "code",
   "execution_count": 37,
   "id": "7c473a4f-e78c-459e-b76f-19ceab8847b6",
   "metadata": {},
   "outputs": [],
   "source": [
    "Mouse_exonicmiR_intragenic=Mouse_exonicmiR_intragenic[['hostgene_NCBI_ID', 'hostgene_Name','hostgene_strand',\n",
    "      'miR_type', 'miR_Name', 'miR_ID','miR_strand','host_gene_region']]"
   ]
  },
  {
   "cell_type": "code",
   "execution_count": 38,
   "id": "1edf7627-e4f7-433b-8025-309105bfba3c",
   "metadata": {},
   "outputs": [
    {
     "data": {
      "text/plain": [
       "Index(['hostgene_chrom', 'hostgene_txStarts', 'hostgene_txEnds',\n",
       "       'hostgene_cdsStart', 'hostgene_cdsEnd', 'hostgene_strand',\n",
       "       'hostgene_Name', 'hostgene_NCBI_ID', 'miR_chrom', 'miR_exonStarts',\n",
       "       'miR_exonEnds', 'miR_type', 'miR_Name', 'miR_strand', 'miR_ID',\n",
       "       'host_gene_region'],\n",
       "      dtype='object')"
      ]
     },
     "execution_count": 38,
     "metadata": {},
     "output_type": "execute_result"
    }
   ],
   "source": [
    "Mouse_intronicmiR_intragenic.columns"
   ]
  },
  {
   "cell_type": "code",
   "execution_count": 39,
   "id": "ad5feb83-b4c3-42e0-b6c9-e4621cfaeaba",
   "metadata": {},
   "outputs": [],
   "source": [
    "Mouse_intronicmiR_intragenic=Mouse_intronicmiR_intragenic[['hostgene_NCBI_ID', 'hostgene_Name','hostgene_strand',\n",
    "      'miR_type', 'miR_Name', 'miR_ID','miR_strand','host_gene_region']]"
   ]
  },
  {
   "cell_type": "code",
   "execution_count": 40,
   "id": "9158c2fd-3c48-431b-9c03-09f8386ef74c",
   "metadata": {},
   "outputs": [],
   "source": [
    "Mouse_intragenic_df=pd.concat([Mouse_exonicmiR_intragenic,Mouse_intronicmiR_intragenic], axis=0)"
   ]
  },
  {
   "cell_type": "code",
   "execution_count": 41,
   "id": "c9d83b6d-d01e-44e5-8857-ef433828d7b4",
   "metadata": {},
   "outputs": [
    {
     "data": {
      "text/plain": [
       "(1086, 8)"
      ]
     },
     "execution_count": 41,
     "metadata": {},
     "output_type": "execute_result"
    }
   ],
   "source": [
    "Mouse_intragenic_df.shape"
   ]
  },
  {
   "cell_type": "code",
   "execution_count": 42,
   "id": "240573a6-2bd3-462c-aea6-934147e22291",
   "metadata": {},
   "outputs": [
    {
     "data": {
      "text/plain": [
       "(776, 8)"
      ]
     },
     "execution_count": 42,
     "metadata": {},
     "output_type": "execute_result"
    }
   ],
   "source": [
    "Mouse_intronicmiR_intragenic.shape"
   ]
  },
  {
   "cell_type": "code",
   "execution_count": 43,
   "id": "94dd49f5-9b67-45fe-8bc9-2b7f526cefbd",
   "metadata": {},
   "outputs": [
    {
     "data": {
      "text/plain": [
       "(310, 8)"
      ]
     },
     "execution_count": 43,
     "metadata": {},
     "output_type": "execute_result"
    }
   ],
   "source": [
    "Mouse_exonicmiR_intragenic.shape"
   ]
  },
  {
   "cell_type": "code",
   "execution_count": 44,
   "id": "a5301ffc-9d64-4015-ad8e-968837e58040",
   "metadata": {},
   "outputs": [],
   "source": [
    "Mouse_intragenic_df=Mouse_intragenic_df.drop_duplicates(subset=[\"miR_Name\"])"
   ]
  },
  {
   "cell_type": "code",
   "execution_count": 45,
   "id": "ec2445a4-829d-4152-a325-8f5250c87d9d",
   "metadata": {},
   "outputs": [
    {
     "data": {
      "text/plain": [
       "(968, 8)"
      ]
     },
     "execution_count": 45,
     "metadata": {},
     "output_type": "execute_result"
    }
   ],
   "source": [
    "####Remove any duplicated intragenic miRNAs\n",
    "Mouse_intragenic_df.shape"
   ]
  },
  {
   "cell_type": "code",
   "execution_count": 46,
   "id": "8f950563-b035-4b8c-b974-5f3c398c17fd",
   "metadata": {},
   "outputs": [],
   "source": [
    "def transcription_direction(df,transcription_direction,hostgene_strand,miRNA_strand):\n",
    "    \"\"\"This function will assign transcription direction of miRNAs relative to their host genes\"\"\"\n",
    "    df[transcription_direction] = df.apply(lambda row: \"sense (+)\" if row[hostgene_strand] == row[miRNA_strand] else \"antisense (-)\", axis=1)\n",
    "    return df"
   ]
  },
  {
   "cell_type": "code",
   "execution_count": 47,
   "id": "b8e4700b-31ff-476a-9029-9af8bb21932b",
   "metadata": {},
   "outputs": [
    {
     "data": {
      "text/html": [
       "<div>\n",
       "<style scoped>\n",
       "    .dataframe tbody tr th:only-of-type {\n",
       "        vertical-align: middle;\n",
       "    }\n",
       "\n",
       "    .dataframe tbody tr th {\n",
       "        vertical-align: top;\n",
       "    }\n",
       "\n",
       "    .dataframe thead th {\n",
       "        text-align: right;\n",
       "    }\n",
       "</style>\n",
       "<table border=\"1\" class=\"dataframe\">\n",
       "  <thead>\n",
       "    <tr style=\"text-align: right;\">\n",
       "      <th></th>\n",
       "      <th>hostgene_NCBI_ID</th>\n",
       "      <th>hostgene_Name</th>\n",
       "      <th>hostgene_strand</th>\n",
       "      <th>miR_type</th>\n",
       "      <th>miR_Name</th>\n",
       "      <th>miR_ID</th>\n",
       "      <th>miR_strand</th>\n",
       "      <th>host_gene_region</th>\n",
       "      <th>transcription_direction_relative_to_the_host_gene</th>\n",
       "    </tr>\n",
       "  </thead>\n",
       "  <tbody>\n",
       "    <tr>\n",
       "      <th>0</th>\n",
       "      <td>NR_015566.2</td>\n",
       "      <td>A330023F24Rik</td>\n",
       "      <td>+</td>\n",
       "      <td>miRNA_primary_transcript</td>\n",
       "      <td>mmu-mir-29b-2</td>\n",
       "      <td>Alias=MI0000712</td>\n",
       "      <td>+</td>\n",
       "      <td>exons</td>\n",
       "      <td>sense (+)</td>\n",
       "    </tr>\n",
       "    <tr>\n",
       "      <th>3</th>\n",
       "      <td>NR_015566.2</td>\n",
       "      <td>A330023F24Rik</td>\n",
       "      <td>+</td>\n",
       "      <td>miRNA_primary_transcript</td>\n",
       "      <td>mmu-mir-29c</td>\n",
       "      <td>Alias=MI0000577</td>\n",
       "      <td>+</td>\n",
       "      <td>exons</td>\n",
       "      <td>sense (+)</td>\n",
       "    </tr>\n",
       "    <tr>\n",
       "      <th>6</th>\n",
       "      <td>NR_131249.1</td>\n",
       "      <td>Lincmd1</td>\n",
       "      <td>+</td>\n",
       "      <td>miRNA_primary_transcript</td>\n",
       "      <td>mmu-mir-133b</td>\n",
       "      <td>Alias=MI0000821</td>\n",
       "      <td>+</td>\n",
       "      <td>exons</td>\n",
       "      <td>sense (+)</td>\n",
       "    </tr>\n",
       "    <tr>\n",
       "      <th>9</th>\n",
       "      <td>NR_106184.1</td>\n",
       "      <td>Gm24148</td>\n",
       "      <td>-</td>\n",
       "      <td>miRNA_primary_transcript</td>\n",
       "      <td>mmu-mir-3535</td>\n",
       "      <td>Alias=MI0026036</td>\n",
       "      <td>-</td>\n",
       "      <td>exons</td>\n",
       "      <td>sense (+)</td>\n",
       "    </tr>\n",
       "    <tr>\n",
       "      <th>11</th>\n",
       "      <td>XM_030252567.1</td>\n",
       "      <td>Sned1</td>\n",
       "      <td>+</td>\n",
       "      <td>miRNA_primary_transcript</td>\n",
       "      <td>mmu-mir-6901</td>\n",
       "      <td>Alias=MI0022748</td>\n",
       "      <td>+</td>\n",
       "      <td>exons</td>\n",
       "      <td>sense (+)</td>\n",
       "    </tr>\n",
       "    <tr>\n",
       "      <th>...</th>\n",
       "      <td>...</td>\n",
       "      <td>...</td>\n",
       "      <td>...</td>\n",
       "      <td>...</td>\n",
       "      <td>...</td>\n",
       "      <td>...</td>\n",
       "      <td>...</td>\n",
       "      <td>...</td>\n",
       "      <td>...</td>\n",
       "    </tr>\n",
       "    <tr>\n",
       "      <th>12958</th>\n",
       "      <td>NM_021525.2</td>\n",
       "      <td>Rcl1</td>\n",
       "      <td>+</td>\n",
       "      <td>miRNA_primary_transcript</td>\n",
       "      <td>mmu-mir-101b</td>\n",
       "      <td>Alias=MI0000649</td>\n",
       "      <td>+</td>\n",
       "      <td>introns</td>\n",
       "      <td>sense (+)</td>\n",
       "    </tr>\n",
       "    <tr>\n",
       "      <th>12967</th>\n",
       "      <td>XM_011247247.3</td>\n",
       "      <td>Kif20b</td>\n",
       "      <td>+</td>\n",
       "      <td>miRNA_primary_transcript</td>\n",
       "      <td>mmu-mir-1950</td>\n",
       "      <td>Alias=MI0009941</td>\n",
       "      <td>+</td>\n",
       "      <td>introns</td>\n",
       "      <td>sense (+)</td>\n",
       "    </tr>\n",
       "    <tr>\n",
       "      <th>12987</th>\n",
       "      <td>XR_386718.4</td>\n",
       "      <td>Gm34347</td>\n",
       "      <td>+</td>\n",
       "      <td>miRNA_primary_transcript</td>\n",
       "      <td>mmu-mir-3085</td>\n",
       "      <td>Alias=MI0014048</td>\n",
       "      <td>-</td>\n",
       "      <td>introns</td>\n",
       "      <td>antisense (-)</td>\n",
       "    </tr>\n",
       "    <tr>\n",
       "      <th>12990</th>\n",
       "      <td>XR_386763.4</td>\n",
       "      <td>Gm36493</td>\n",
       "      <td>+</td>\n",
       "      <td>miRNA_primary_transcript</td>\n",
       "      <td>mmu-mir-146b</td>\n",
       "      <td>Alias=MI0004665</td>\n",
       "      <td>+</td>\n",
       "      <td>introns</td>\n",
       "      <td>sense (+)</td>\n",
       "    </tr>\n",
       "    <tr>\n",
       "      <th>12999</th>\n",
       "      <td>NM_027559.2</td>\n",
       "      <td>Cfap43</td>\n",
       "      <td>-</td>\n",
       "      <td>miRNA_primary_transcript</td>\n",
       "      <td>mmu-mir-8090</td>\n",
       "      <td>Alias=MI0026017</td>\n",
       "      <td>-</td>\n",
       "      <td>introns</td>\n",
       "      <td>sense (+)</td>\n",
       "    </tr>\n",
       "  </tbody>\n",
       "</table>\n",
       "<p>968 rows × 9 columns</p>\n",
       "</div>"
      ],
      "text/plain": [
       "      hostgene_NCBI_ID  hostgene_Name hostgene_strand  \\\n",
       "0          NR_015566.2  A330023F24Rik               +   \n",
       "3          NR_015566.2  A330023F24Rik               +   \n",
       "6          NR_131249.1        Lincmd1               +   \n",
       "9          NR_106184.1        Gm24148               -   \n",
       "11      XM_030252567.1          Sned1               +   \n",
       "...                ...            ...             ...   \n",
       "12958      NM_021525.2           Rcl1               +   \n",
       "12967   XM_011247247.3         Kif20b               +   \n",
       "12987      XR_386718.4        Gm34347               +   \n",
       "12990      XR_386763.4        Gm36493               +   \n",
       "12999      NM_027559.2         Cfap43               -   \n",
       "\n",
       "                       miR_type       miR_Name           miR_ID miR_strand  \\\n",
       "0      miRNA_primary_transcript  mmu-mir-29b-2  Alias=MI0000712          +   \n",
       "3      miRNA_primary_transcript    mmu-mir-29c  Alias=MI0000577          +   \n",
       "6      miRNA_primary_transcript   mmu-mir-133b  Alias=MI0000821          +   \n",
       "9      miRNA_primary_transcript   mmu-mir-3535  Alias=MI0026036          -   \n",
       "11     miRNA_primary_transcript   mmu-mir-6901  Alias=MI0022748          +   \n",
       "...                         ...            ...              ...        ...   \n",
       "12958  miRNA_primary_transcript   mmu-mir-101b  Alias=MI0000649          +   \n",
       "12967  miRNA_primary_transcript   mmu-mir-1950  Alias=MI0009941          +   \n",
       "12987  miRNA_primary_transcript   mmu-mir-3085  Alias=MI0014048          -   \n",
       "12990  miRNA_primary_transcript   mmu-mir-146b  Alias=MI0004665          +   \n",
       "12999  miRNA_primary_transcript   mmu-mir-8090  Alias=MI0026017          -   \n",
       "\n",
       "      host_gene_region transcription_direction_relative_to_the_host_gene  \n",
       "0                exons                                         sense (+)  \n",
       "3                exons                                         sense (+)  \n",
       "6                exons                                         sense (+)  \n",
       "9                exons                                         sense (+)  \n",
       "11               exons                                         sense (+)  \n",
       "...                ...                                               ...  \n",
       "12958          introns                                         sense (+)  \n",
       "12967          introns                                         sense (+)  \n",
       "12987          introns                                     antisense (-)  \n",
       "12990          introns                                         sense (+)  \n",
       "12999          introns                                         sense (+)  \n",
       "\n",
       "[968 rows x 9 columns]"
      ]
     },
     "execution_count": 47,
     "metadata": {},
     "output_type": "execute_result"
    }
   ],
   "source": [
    "transcription_direction(Mouse_intragenic_df,\"transcription_direction_relative_to_the_host_gene\",\n",
    "                        \"hostgene_strand\",\"miR_strand\")"
   ]
  },
  {
   "cell_type": "markdown",
   "id": "615ebead-2cea-4d40-80b5-b76d05641dda",
   "metadata": {},
   "source": [
    "### Plot the pie charts"
   ]
  },
  {
   "cell_type": "code",
   "execution_count": 48,
   "id": "ae2d61ef-9c2c-46b4-a2a0-8ae32b2a0aeb",
   "metadata": {},
   "outputs": [],
   "source": [
    "mm_intramiR_loci=Mouse_intragenic_df.groupby(Mouse_intragenic_df[\"transcription_direction_relative_to_the_host_gene\"]).size().reset_index(name='Count')"
   ]
  },
  {
   "cell_type": "code",
   "execution_count": 49,
   "id": "80ea5d3c-8da4-447e-8975-07e7fe4e043b",
   "metadata": {},
   "outputs": [
    {
     "data": {
      "text/html": [
       "<div>\n",
       "<style scoped>\n",
       "    .dataframe tbody tr th:only-of-type {\n",
       "        vertical-align: middle;\n",
       "    }\n",
       "\n",
       "    .dataframe tbody tr th {\n",
       "        vertical-align: top;\n",
       "    }\n",
       "\n",
       "    .dataframe thead th {\n",
       "        text-align: right;\n",
       "    }\n",
       "</style>\n",
       "<table border=\"1\" class=\"dataframe\">\n",
       "  <thead>\n",
       "    <tr style=\"text-align: right;\">\n",
       "      <th></th>\n",
       "      <th>transcription_direction_relative_to_the_host_gene</th>\n",
       "      <th>Count</th>\n",
       "    </tr>\n",
       "  </thead>\n",
       "  <tbody>\n",
       "    <tr>\n",
       "      <th>0</th>\n",
       "      <td>antisense (-)</td>\n",
       "      <td>146</td>\n",
       "    </tr>\n",
       "    <tr>\n",
       "      <th>1</th>\n",
       "      <td>sense (+)</td>\n",
       "      <td>822</td>\n",
       "    </tr>\n",
       "  </tbody>\n",
       "</table>\n",
       "</div>"
      ],
      "text/plain": [
       "  transcription_direction_relative_to_the_host_gene  Count\n",
       "0                                     antisense (-)    146\n",
       "1                                         sense (+)    822"
      ]
     },
     "execution_count": 49,
     "metadata": {},
     "output_type": "execute_result"
    }
   ],
   "source": [
    "mm_intramiR_loci"
   ]
  },
  {
   "cell_type": "code",
   "execution_count": 50,
   "id": "9a8b086a-ad25-4614-98d1-d2264022b70f",
   "metadata": {},
   "outputs": [],
   "source": [
    "mm_intramiR_sense=mm_intramiR_loci[mm_intramiR_loci[\"transcription_direction_relative_to_the_host_gene\"]=='sense (+)'].sum()\n",
    "mm_intramiR_antisense=mm_intramiR_loci[mm_intramiR_loci[\"transcription_direction_relative_to_the_host_gene\"]=='antisense (-)'].sum()"
   ]
  },
  {
   "cell_type": "code",
   "execution_count": 51,
   "id": "c4bfa73b-d2da-4cdc-86d3-c65e663ff0b1",
   "metadata": {},
   "outputs": [
    {
     "data": {
      "image/png": "[encoded data removed]",
      "text/plain": [
       "<Figure size 1500x800 with 1 Axes>"
      ]
     },
     "metadata": {},
     "output_type": "display_data"
    }
   ],
   "source": [
    "#Mouse miR loci distribution pie Chart\n",
    "labels = ['Sense intragenic miRNAs(+)', 'Antisense intragenic miRNAs(-)']\n",
    "sizes = [mm_intramiR_sense['Count'], mm_intramiR_antisense['Count']]\n",
    "colors = ['lightcoral','skyblue']\n",
    "plt.figure(figsize=(15, 8)) \n",
    "plt.pie(sizes, labels=labels, colors=colors, autopct='%1.1f%%')\n",
    "plt.axis('equal')  # Equal aspect ratio ensures that pie is drawn as a circle\n",
    "plt.title('Distribution of mouse intragenic miRNome regarding transctiption directions')\n",
    "plt.savefig(f'{current_dir}/Pie_charts/Distribution of mouse intragenic miRNome.eps')\n",
    "plt.show()"
   ]
  },
  {
   "cell_type": "code",
   "execution_count": 52,
   "id": "8bd8d0b1-f287-4a9e-8e25-a9e1ffc44652",
   "metadata": {},
   "outputs": [],
   "source": [
    "Mouse_intragenic_df.drop(columns=['host_gene_region']).to_excel(f'{current_dir}/MS_tables/mouse_sense_and_antisense_miRs.xlsx', index=False)"
   ]
  },
  {
   "cell_type": "code",
   "execution_count": null,
   "id": "0eb5f3e6-cb47-4178-9af4-f0bd79421a91",
   "metadata": {},
   "outputs": [],
   "source": []
  }
 ],
 "metadata": {
  "kernelspec": {
   "display_name": "Python 3 (ipykernel)",
   "language": "python",
   "name": "python3"
  },
  "language_info": {
   "codemirror_mode": {
    "name": "ipython",
    "version": 3
   },
   "file_extension": ".py",
   "mimetype": "text/x-python",
   "name": "python",
   "nbconvert_exporter": "python",
   "pygments_lexer": "ipython3",
   "version": "3.9.13"
  }
 },
 "nbformat": 4,
 "nbformat_minor": 5
}
