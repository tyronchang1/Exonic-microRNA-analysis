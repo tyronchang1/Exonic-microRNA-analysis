{
 "cells": [
  {
   "cell_type": "markdown",
   "id": "6aa62e23-ed4c-4bd4-8d93-1cd6b5be183c",
   "metadata": {},
   "source": [
    "## Step#2\n",
    "### This step is to organize your exonic microRNA files\n",
    "* we only want to have the primary miRNA name and their host genes\n",
    "(Run this section of code after running bedtools_mouse_exonic_miR.sh)"
   ]
  },
  {
   "cell_type": "markdown",
   "id": "2a582a85-4c0e-4bb1-b52f-9ca6d3ab675a",
   "metadata": {},
   "source": [
    "## Organize the output file(exonic miRs)\n",
    "* Asssign gene types (noncoding vs protein-coding genes).\n",
    "* Map the regions of exonic micrornas (5'UTR, 3'UTR, CDS).\n",
    "* Map all the locations of miRs (exonic, intronic, no host mRNA, span intron-exon.)"
   ]
  },
  {
   "cell_type": "markdown",
   "id": "7d03a864-40c3-4f4e-9634-6d1a9e054357",
   "metadata": {},
   "source": [
    "### Mouse"
   ]
  },
  {
   "cell_type": "code",
   "execution_count": 1,
   "id": "d3883f62-671a-470e-af0e-fb6afdde4fd7",
   "metadata": {},
   "outputs": [],
   "source": [
    "#bedtools will generate the overlapped exonic miR files--->mouse_exonic_miR_NCBI.tsv\n",
    "import pandas as pd\n",
    "import os\n",
    "import re\n",
    "columns=['hostgene_chrom', 'hostgene_exonStarts', 'hostgene_exonEnds', 'hostgene_cdsStart', 'hostgene_cdsEnd'\n",
    "         , 'hostgene_strand','hostgene_exonCounts','hostgene_txStarts','hostgene_txEnds','mature_host_mRNA_Length',\n",
    "       'hostgene_Name', 'hostgene_NCBI_ID','miR_chrom', 'miR_exonStarts', 'miR_exonEnds', 'miR_type'\n",
    "         , 'miR_Name',\n",
    "       'miR_strand', 'miR_ID']"
   ]
  },
  {
   "cell_type": "code",
   "execution_count": 2,
   "id": "f9c2a63a-0590-4b8e-bc1f-5299ca984be6",
   "metadata": {},
   "outputs": [],
   "source": [
    "current_dir=os.getcwd() # Get current directory"
   ]
  },
  {
   "cell_type": "code",
   "execution_count": 3,
   "id": "983fdc9f-8d74-4253-a01d-a61580ebdad1",
   "metadata": {},
   "outputs": [],
   "source": [
    "# Organize and finalize the exonic microRNA files from the bedtools result\n",
    "\n",
    "mouse_exonicmiR_df=pd.read_csv(f'{current_dir}/Mouse_tsv_file/mouse_exonic_miR_NCBI.tsv', sep='\\t', header=None, names=columns)"
   ]
  },
  {
   "cell_type": "code",
   "execution_count": 4,
   "id": "db963639-c0e7-4e89-b45e-bf6b100aa7d8",
   "metadata": {},
   "outputs": [
    {
     "data": {
      "text/html": [
       "<div>\n",
       "<style scoped>\n",
       "    .dataframe tbody tr th:only-of-type {\n",
       "        vertical-align: middle;\n",
       "    }\n",
       "\n",
       "    .dataframe tbody tr th {\n",
       "        vertical-align: top;\n",
       "    }\n",
       "\n",
       "    .dataframe thead th {\n",
       "        text-align: right;\n",
       "    }\n",
       "</style>\n",
       "<table border=\"1\" class=\"dataframe\">\n",
       "  <thead>\n",
       "    <tr style=\"text-align: right;\">\n",
       "      <th></th>\n",
       "      <th>hostgene_chrom</th>\n",
       "      <th>hostgene_exonStarts</th>\n",
       "      <th>hostgene_exonEnds</th>\n",
       "      <th>hostgene_cdsStart</th>\n",
       "      <th>hostgene_cdsEnd</th>\n",
       "      <th>hostgene_strand</th>\n",
       "      <th>hostgene_exonCounts</th>\n",
       "      <th>hostgene_txStarts</th>\n",
       "      <th>hostgene_txEnds</th>\n",
       "      <th>mature_host_mRNA_Length</th>\n",
       "      <th>hostgene_Name</th>\n",
       "      <th>hostgene_NCBI_ID</th>\n",
       "      <th>miR_chrom</th>\n",
       "      <th>miR_exonStarts</th>\n",
       "      <th>miR_exonEnds</th>\n",
       "      <th>miR_type</th>\n",
       "      <th>miR_Name</th>\n",
       "      <th>miR_strand</th>\n",
       "      <th>miR_ID</th>\n",
       "    </tr>\n",
       "  </thead>\n",
       "  <tbody>\n",
       "    <tr>\n",
       "      <th>0</th>\n",
       "      <td>chr1</td>\n",
       "      <td>195033822</td>\n",
       "      <td>195037908</td>\n",
       "      <td>195037908</td>\n",
       "      <td>195037908</td>\n",
       "      <td>+</td>\n",
       "      <td>8</td>\n",
       "      <td>195017398</td>\n",
       "      <td>195037908</td>\n",
       "      <td>5195</td>\n",
       "      <td>A330023F24Rik</td>\n",
       "      <td>NR_015566.2</td>\n",
       "      <td>chr1</td>\n",
       "      <td>195037040</td>\n",
       "      <td>195037120</td>\n",
       "      <td>miRNA_primary_transcript</td>\n",
       "      <td>Name=mmu-mir-29b-2</td>\n",
       "      <td>+</td>\n",
       "      <td>Alias=MI0000712</td>\n",
       "    </tr>\n",
       "    <tr>\n",
       "      <th>1</th>\n",
       "      <td>chr1</td>\n",
       "      <td>195033822</td>\n",
       "      <td>195037908</td>\n",
       "      <td>195037908</td>\n",
       "      <td>195037908</td>\n",
       "      <td>+</td>\n",
       "      <td>8</td>\n",
       "      <td>195017398</td>\n",
       "      <td>195037908</td>\n",
       "      <td>5195</td>\n",
       "      <td>A330023F24Rik</td>\n",
       "      <td>NR_015566.2</td>\n",
       "      <td>chr1</td>\n",
       "      <td>195037050</td>\n",
       "      <td>195037074</td>\n",
       "      <td>miRNA</td>\n",
       "      <td>Name=mmu-miR-29b-2-5p</td>\n",
       "      <td>+</td>\n",
       "      <td>Alias=MIMAT0017063</td>\n",
       "    </tr>\n",
       "    <tr>\n",
       "      <th>2</th>\n",
       "      <td>chr1</td>\n",
       "      <td>195033822</td>\n",
       "      <td>195037908</td>\n",
       "      <td>195037908</td>\n",
       "      <td>195037908</td>\n",
       "      <td>+</td>\n",
       "      <td>8</td>\n",
       "      <td>195017398</td>\n",
       "      <td>195037908</td>\n",
       "      <td>5195</td>\n",
       "      <td>A330023F24Rik</td>\n",
       "      <td>NR_015566.2</td>\n",
       "      <td>chr1</td>\n",
       "      <td>195037091</td>\n",
       "      <td>195037113</td>\n",
       "      <td>miRNA</td>\n",
       "      <td>Name=mmu-miR-29b-3p</td>\n",
       "      <td>+</td>\n",
       "      <td>Alias=MIMAT0000127</td>\n",
       "    </tr>\n",
       "    <tr>\n",
       "      <th>3</th>\n",
       "      <td>chr1</td>\n",
       "      <td>195033822</td>\n",
       "      <td>195037908</td>\n",
       "      <td>195037908</td>\n",
       "      <td>195037908</td>\n",
       "      <td>+</td>\n",
       "      <td>8</td>\n",
       "      <td>195017398</td>\n",
       "      <td>195037908</td>\n",
       "      <td>5195</td>\n",
       "      <td>A330023F24Rik</td>\n",
       "      <td>NR_015566.2</td>\n",
       "      <td>chr1</td>\n",
       "      <td>195037547</td>\n",
       "      <td>195037634</td>\n",
       "      <td>miRNA_primary_transcript</td>\n",
       "      <td>Name=mmu-mir-29c</td>\n",
       "      <td>+</td>\n",
       "      <td>Alias=MI0000577</td>\n",
       "    </tr>\n",
       "    <tr>\n",
       "      <th>4</th>\n",
       "      <td>chr1</td>\n",
       "      <td>195033822</td>\n",
       "      <td>195037908</td>\n",
       "      <td>195037908</td>\n",
       "      <td>195037908</td>\n",
       "      <td>+</td>\n",
       "      <td>8</td>\n",
       "      <td>195017398</td>\n",
       "      <td>195037908</td>\n",
       "      <td>5195</td>\n",
       "      <td>A330023F24Rik</td>\n",
       "      <td>NR_015566.2</td>\n",
       "      <td>chr1</td>\n",
       "      <td>195037562</td>\n",
       "      <td>195037583</td>\n",
       "      <td>miRNA</td>\n",
       "      <td>Name=mmu-miR-29c-5p</td>\n",
       "      <td>+</td>\n",
       "      <td>Alias=MIMAT0004632</td>\n",
       "    </tr>\n",
       "  </tbody>\n",
       "</table>\n",
       "</div>"
      ],
      "text/plain": [
       "  hostgene_chrom  hostgene_exonStarts  hostgene_exonEnds  hostgene_cdsStart  \\\n",
       "0           chr1            195033822          195037908          195037908   \n",
       "1           chr1            195033822          195037908          195037908   \n",
       "2           chr1            195033822          195037908          195037908   \n",
       "3           chr1            195033822          195037908          195037908   \n",
       "4           chr1            195033822          195037908          195037908   \n",
       "\n",
       "   hostgene_cdsEnd hostgene_strand  hostgene_exonCounts  hostgene_txStarts  \\\n",
       "0        195037908               +                    8          195017398   \n",
       "1        195037908               +                    8          195017398   \n",
       "2        195037908               +                    8          195017398   \n",
       "3        195037908               +                    8          195017398   \n",
       "4        195037908               +                    8          195017398   \n",
       "\n",
       "   hostgene_txEnds  mature_host_mRNA_Length  hostgene_Name hostgene_NCBI_ID  \\\n",
       "0        195037908                     5195  A330023F24Rik      NR_015566.2   \n",
       "1        195037908                     5195  A330023F24Rik      NR_015566.2   \n",
       "2        195037908                     5195  A330023F24Rik      NR_015566.2   \n",
       "3        195037908                     5195  A330023F24Rik      NR_015566.2   \n",
       "4        195037908                     5195  A330023F24Rik      NR_015566.2   \n",
       "\n",
       "  miR_chrom  miR_exonStarts  miR_exonEnds                  miR_type  \\\n",
       "0      chr1       195037040     195037120  miRNA_primary_transcript   \n",
       "1      chr1       195037050     195037074                     miRNA   \n",
       "2      chr1       195037091     195037113                     miRNA   \n",
       "3      chr1       195037547     195037634  miRNA_primary_transcript   \n",
       "4      chr1       195037562     195037583                     miRNA   \n",
       "\n",
       "                miR_Name miR_strand              miR_ID  \n",
       "0     Name=mmu-mir-29b-2          +     Alias=MI0000712  \n",
       "1  Name=mmu-miR-29b-2-5p          +  Alias=MIMAT0017063  \n",
       "2    Name=mmu-miR-29b-3p          +  Alias=MIMAT0000127  \n",
       "3       Name=mmu-mir-29c          +     Alias=MI0000577  \n",
       "4    Name=mmu-miR-29c-5p          +  Alias=MIMAT0004632  "
      ]
     },
     "execution_count": 4,
     "metadata": {},
     "output_type": "execute_result"
    }
   ],
   "source": [
    "mouse_exonicmiR_df.head()"
   ]
  },
  {
   "cell_type": "code",
   "execution_count": 5,
   "id": "206db703-d73d-46e8-9c33-fd99ec599cea",
   "metadata": {},
   "outputs": [],
   "source": [
    "### Extract only primary miR transcript\n",
    "mouse_exonicmiR_df=mouse_exonicmiR_df.loc[mouse_exonicmiR_df['miR_type']==\"miRNA_primary_transcript\"]"
   ]
  },
  {
   "cell_type": "code",
   "execution_count": 6,
   "id": "d9a9535b-7b9f-47ab-bcd7-c287405f96be",
   "metadata": {},
   "outputs": [
    {
     "data": {
      "text/plain": [
       "(339, 19)"
      ]
     },
     "execution_count": 6,
     "metadata": {},
     "output_type": "execute_result"
    }
   ],
   "source": [
    "mouse_exonicmiR_df.shape"
   ]
  },
  {
   "cell_type": "code",
   "execution_count": 7,
   "id": "a675648b-7efc-48c9-90af-4ba6058c67c3",
   "metadata": {},
   "outputs": [],
   "source": [
    "#Change string values in the columns of exonic miR files\n",
    "\n",
    "# Reset the index\n",
    "mouse_exonicmiR_df = mouse_exonicmiR_df.reset_index(drop=True)\n",
    "\n",
    "# Create a new DataFrame with the updated \"miR_name\" column by remove \"Name=\" from each box\n",
    "new_df = pd.DataFrame({\"miR_name\": mouse_exonicmiR_df[\"miR_Name\"].str.replace(\"Name=\", \"\")})\n",
    "\n",
    "# Concatenate the new DataFrame with the remaining columns from the original DataFrame\n",
    "mouse_exonicmiR_df.insert(12,\"miR_name\", new_df['miR_name'])\n",
    "mouse_exonicmiR_df.drop(columns=[\"miR_Name\"],inplace=True)"
   ]
  },
  {
   "cell_type": "code",
   "execution_count": 8,
   "id": "ae9dea79-96a6-4565-b0d8-c21460cc8885",
   "metadata": {},
   "outputs": [
    {
     "data": {
      "text/html": [
       "<div>\n",
       "<style scoped>\n",
       "    .dataframe tbody tr th:only-of-type {\n",
       "        vertical-align: middle;\n",
       "    }\n",
       "\n",
       "    .dataframe tbody tr th {\n",
       "        vertical-align: top;\n",
       "    }\n",
       "\n",
       "    .dataframe thead th {\n",
       "        text-align: right;\n",
       "    }\n",
       "</style>\n",
       "<table border=\"1\" class=\"dataframe\">\n",
       "  <thead>\n",
       "    <tr style=\"text-align: right;\">\n",
       "      <th></th>\n",
       "      <th>hostgene_chrom</th>\n",
       "      <th>hostgene_exonStarts</th>\n",
       "      <th>hostgene_exonEnds</th>\n",
       "      <th>hostgene_cdsStart</th>\n",
       "      <th>hostgene_cdsEnd</th>\n",
       "      <th>hostgene_strand</th>\n",
       "      <th>hostgene_exonCounts</th>\n",
       "      <th>hostgene_txStarts</th>\n",
       "      <th>hostgene_txEnds</th>\n",
       "      <th>mature_host_mRNA_Length</th>\n",
       "      <th>hostgene_Name</th>\n",
       "      <th>hostgene_NCBI_ID</th>\n",
       "      <th>miR_name</th>\n",
       "      <th>miR_chrom</th>\n",
       "      <th>miR_exonStarts</th>\n",
       "      <th>miR_exonEnds</th>\n",
       "      <th>miR_type</th>\n",
       "      <th>miR_strand</th>\n",
       "      <th>miR_ID</th>\n",
       "    </tr>\n",
       "  </thead>\n",
       "  <tbody>\n",
       "    <tr>\n",
       "      <th>0</th>\n",
       "      <td>chr1</td>\n",
       "      <td>195033822</td>\n",
       "      <td>195037908</td>\n",
       "      <td>195037908</td>\n",
       "      <td>195037908</td>\n",
       "      <td>+</td>\n",
       "      <td>8</td>\n",
       "      <td>195017398</td>\n",
       "      <td>195037908</td>\n",
       "      <td>5195</td>\n",
       "      <td>A330023F24Rik</td>\n",
       "      <td>NR_015566.2</td>\n",
       "      <td>mmu-mir-29b-2</td>\n",
       "      <td>chr1</td>\n",
       "      <td>195037040</td>\n",
       "      <td>195037120</td>\n",
       "      <td>miRNA_primary_transcript</td>\n",
       "      <td>+</td>\n",
       "      <td>Alias=MI0000712</td>\n",
       "    </tr>\n",
       "    <tr>\n",
       "      <th>1</th>\n",
       "      <td>chr1</td>\n",
       "      <td>195033822</td>\n",
       "      <td>195037908</td>\n",
       "      <td>195037908</td>\n",
       "      <td>195037908</td>\n",
       "      <td>+</td>\n",
       "      <td>8</td>\n",
       "      <td>195017398</td>\n",
       "      <td>195037908</td>\n",
       "      <td>5195</td>\n",
       "      <td>A330023F24Rik</td>\n",
       "      <td>NR_015566.2</td>\n",
       "      <td>mmu-mir-29c</td>\n",
       "      <td>chr1</td>\n",
       "      <td>195037547</td>\n",
       "      <td>195037634</td>\n",
       "      <td>miRNA_primary_transcript</td>\n",
       "      <td>+</td>\n",
       "      <td>Alias=MI0000577</td>\n",
       "    </tr>\n",
       "    <tr>\n",
       "      <th>2</th>\n",
       "      <td>chr1</td>\n",
       "      <td>20682712</td>\n",
       "      <td>20682958</td>\n",
       "      <td>20682958</td>\n",
       "      <td>20682958</td>\n",
       "      <td>+</td>\n",
       "      <td>3</td>\n",
       "      <td>20669881</td>\n",
       "      <td>20682958</td>\n",
       "      <td>521</td>\n",
       "      <td>Lincmd1</td>\n",
       "      <td>NR_131249.1</td>\n",
       "      <td>mmu-mir-133b</td>\n",
       "      <td>chr1</td>\n",
       "      <td>20682769</td>\n",
       "      <td>20682887</td>\n",
       "      <td>miRNA_primary_transcript</td>\n",
       "      <td>+</td>\n",
       "      <td>Alias=MI0000821</td>\n",
       "    </tr>\n",
       "    <tr>\n",
       "      <th>3</th>\n",
       "      <td>chr1</td>\n",
       "      <td>86351980</td>\n",
       "      <td>86352127</td>\n",
       "      <td>86352127</td>\n",
       "      <td>86352127</td>\n",
       "      <td>-</td>\n",
       "      <td>1</td>\n",
       "      <td>86351980</td>\n",
       "      <td>86352127</td>\n",
       "      <td>147</td>\n",
       "      <td>Gm24148</td>\n",
       "      <td>NR_106184.1</td>\n",
       "      <td>mmu-mir-3535</td>\n",
       "      <td>chr1</td>\n",
       "      <td>86351981</td>\n",
       "      <td>86352127</td>\n",
       "      <td>miRNA_primary_transcript</td>\n",
       "      <td>-</td>\n",
       "      <td>Alias=MI0026036</td>\n",
       "    </tr>\n",
       "    <tr>\n",
       "      <th>4</th>\n",
       "      <td>chr1</td>\n",
       "      <td>134946233</td>\n",
       "      <td>134946299</td>\n",
       "      <td>134946299</td>\n",
       "      <td>134946299</td>\n",
       "      <td>-</td>\n",
       "      <td>1</td>\n",
       "      <td>134946233</td>\n",
       "      <td>134946299</td>\n",
       "      <td>66</td>\n",
       "      <td>Gm51265</td>\n",
       "      <td>NR_162775.1</td>\n",
       "      <td>mmu-mir-5104b</td>\n",
       "      <td>chr1</td>\n",
       "      <td>134946234</td>\n",
       "      <td>134946299</td>\n",
       "      <td>miRNA_primary_transcript</td>\n",
       "      <td>-</td>\n",
       "      <td>Alias=MI0040615</td>\n",
       "    </tr>\n",
       "  </tbody>\n",
       "</table>\n",
       "</div>"
      ],
      "text/plain": [
       "  hostgene_chrom  hostgene_exonStarts  hostgene_exonEnds  hostgene_cdsStart  \\\n",
       "0           chr1            195033822          195037908          195037908   \n",
       "1           chr1            195033822          195037908          195037908   \n",
       "2           chr1             20682712           20682958           20682958   \n",
       "3           chr1             86351980           86352127           86352127   \n",
       "4           chr1            134946233          134946299          134946299   \n",
       "\n",
       "   hostgene_cdsEnd hostgene_strand  hostgene_exonCounts  hostgene_txStarts  \\\n",
       "0        195037908               +                    8          195017398   \n",
       "1        195037908               +                    8          195017398   \n",
       "2         20682958               +                    3           20669881   \n",
       "3         86352127               -                    1           86351980   \n",
       "4        134946299               -                    1          134946233   \n",
       "\n",
       "   hostgene_txEnds  mature_host_mRNA_Length  hostgene_Name hostgene_NCBI_ID  \\\n",
       "0        195037908                     5195  A330023F24Rik      NR_015566.2   \n",
       "1        195037908                     5195  A330023F24Rik      NR_015566.2   \n",
       "2         20682958                      521        Lincmd1      NR_131249.1   \n",
       "3         86352127                      147        Gm24148      NR_106184.1   \n",
       "4        134946299                       66        Gm51265      NR_162775.1   \n",
       "\n",
       "        miR_name miR_chrom  miR_exonStarts  miR_exonEnds  \\\n",
       "0  mmu-mir-29b-2      chr1       195037040     195037120   \n",
       "1    mmu-mir-29c      chr1       195037547     195037634   \n",
       "2   mmu-mir-133b      chr1        20682769      20682887   \n",
       "3   mmu-mir-3535      chr1        86351981      86352127   \n",
       "4  mmu-mir-5104b      chr1       134946234     134946299   \n",
       "\n",
       "                   miR_type miR_strand           miR_ID  \n",
       "0  miRNA_primary_transcript          +  Alias=MI0000712  \n",
       "1  miRNA_primary_transcript          +  Alias=MI0000577  \n",
       "2  miRNA_primary_transcript          +  Alias=MI0000821  \n",
       "3  miRNA_primary_transcript          -  Alias=MI0026036  \n",
       "4  miRNA_primary_transcript          -  Alias=MI0040615  "
      ]
     },
     "execution_count": 8,
     "metadata": {},
     "output_type": "execute_result"
    }
   ],
   "source": [
    "mouse_exonicmiR_df.head()"
   ]
  },
  {
   "cell_type": "code",
   "execution_count": 9,
   "id": "c611c0f0-57be-4b18-a381-d9d9965650de",
   "metadata": {},
   "outputs": [
    {
     "data": {
      "text/plain": [
       "(339, 19)"
      ]
     },
     "execution_count": 9,
     "metadata": {},
     "output_type": "execute_result"
    }
   ],
   "source": [
    "mouse_exonicmiR_df.shape"
   ]
  },
  {
   "cell_type": "code",
   "execution_count": 10,
   "id": "39149195-a17a-445a-8452-badbfb299caa",
   "metadata": {},
   "outputs": [],
   "source": [
    "csv_file_path=f'{current_dir}/Mouse_csv_file'"
   ]
  },
  {
   "cell_type": "code",
   "execution_count": 28,
   "id": "66b0aa85-09b3-409b-8f9a-ffcde2b6be68",
   "metadata": {},
   "outputs": [],
   "source": [
    "#save the mouse exonic data (tsv) file as a csv file\n",
    "mouse_exonicmiR_df.to_csv(f'{csv_file_path}/mouse_exonic_miR_NCBI.csv',index=False)\n",
    "#convert to csv file"
   ]
  },
  {
   "cell_type": "markdown",
   "id": "671c472f-e1d6-464a-a36d-b0caa40fea04",
   "metadata": {},
   "source": [
    "## Before you run bedtools_intronic_miRs.sh, reshape the dataframe first and map intronic miRNA with the following steps\n",
    "\n",
    "The reason for reshaping the dataframe are the following:\n",
    "* We need to use txStart, txEnd coordinates instead of exon coordinates to find intronic miRNAs. \n",
    "* The finalized tsv files will be \"mouse_all_genes_no_miR_df_TX_loc_NCBI.tsv\".\n",
    "* We will use this new tsv file to overlap the coordinates of miR to map all the intronic miRNAs.\n",
    "* Remember the new file has txStart and txEnd locations instead of exon locations.\n",
    "* bedtools_intronic_miRs.sh will also map the rest of miRNAs that don't have mRNA host genes."
   ]
  },
  {
   "cell_type": "code",
   "execution_count": 12,
   "id": "311575d2-9bba-4b3c-b02a-17883506376c",
   "metadata": {},
   "outputs": [
    {
     "name": "stdout",
     "output_type": "stream",
     "text": [
      "importing Jupyter notebook from /Users/tyronchang/Desktop/exonic-microrna-analysis/github3/Mouse/utils/Data.ipynb\n"
     ]
    }
   ],
   "source": [
    "import import_ipynb\n",
    "from utils.Data import MOUSE"
   ]
  },
  {
   "cell_type": "markdown",
   "id": "5ed660f9-1718-4772-b59c-75833b8d0ea2",
   "metadata": {},
   "source": [
    "### First do the same steps that you did for exonic miRNAs to reshape the dataframe\n",
    "* ##### You don't have to use exon coordinates of the host genes "
   ]
  },
  {
   "cell_type": "code",
   "execution_count": 14,
   "id": "bac897f2-d9b0-4b14-9153-cff529d21656",
   "metadata": {},
   "outputs": [],
   "source": [
    "mouse=MOUSE(f'{current_dir}/UCSC_data_Mouse/mouse_genes_020324_NCBI.csv')#mouse gene coordinates tables"
   ]
  },
  {
   "cell_type": "code",
   "execution_count": 16,
   "id": "763f5ce3-11cf-45f7-a0c2-a884074ec6ab",
   "metadata": {},
   "outputs": [
    {
     "data": {
      "text/plain": [
       "Index(['#\"bin\"', 'name', 'chrom', 'strand', 'txStart', 'txEnd', 'cdsStart',\n",
       "       'cdsEnd', 'exonCount', 'exonStarts', 'exonEnds', 'score', 'name2',\n",
       "       'cdsStartStat', 'cdsEndStat', 'exonFrames'],\n",
       "      dtype='object')"
      ]
     },
     "execution_count": 16,
     "metadata": {},
     "output_type": "execute_result"
    }
   ],
   "source": [
    "mouse.df.columns"
   ]
  },
  {
   "cell_type": "code",
   "execution_count": 17,
   "id": "7cafed66-2bee-43ce-a672-7a770716988d",
   "metadata": {},
   "outputs": [],
   "source": [
    "\"\"\"This function reorganize and clean the columns by doing the following:\"\"\"\n",
    "mouse.col_preprocess()\n",
    "# mouse.df.columns=gene.df.columns.str.replace(\"#\",\"\") \n",
    "### Get rid of \"#\" symbols in the column names.\n",
    "# gene.df.columns=gene.df.columns.str.replace('\"',\"\")\n",
    "### Remove '' in the column names."
   ]
  },
  {
   "cell_type": "code",
   "execution_count": 18,
   "id": "b0328d3e-ef50-4ef4-a5bb-b83cffd66258",
   "metadata": {},
   "outputs": [],
   "source": [
    "mouse.drop()### drop 'bin' column"
   ]
  },
  {
   "cell_type": "code",
   "execution_count": 19,
   "id": "8e90750b-132c-4f62-a473-ce063a1c6ac8",
   "metadata": {},
   "outputs": [],
   "source": [
    "mouse.df.rename(columns={'name2':'gene_name'},inplace=True)\n",
    "### Replace the column name"
   ]
  },
  {
   "cell_type": "code",
   "execution_count": 20,
   "id": "6da663d1-2d91-4992-9e87-c1c27224c267",
   "metadata": {},
   "outputs": [],
   "source": [
    "# Function to calculate mature mRNA length\n",
    "def calculate_mrna_length(row):\n",
    "    starts = list(map(int, row['exonStarts'].split(',')[:-1]))\n",
    "    ends = list(map(int, row['exonEnds'].split(',')[:-1]))\n",
    "    lengths = [end - start for start, end in zip(starts, ends)]\n",
    "    return sum(lengths)\n",
    "\n",
    "# Apply the function to each row and create a new column for mRNA length\n",
    "mouse.df['mature_mRNA_Length'] = mouse.df.apply(calculate_mrna_length, axis=1)"
   ]
  },
  {
   "cell_type": "code",
   "execution_count": 21,
   "id": "19d9c973-4e6c-4b76-9849-7a2c4386a9d1",
   "metadata": {},
   "outputs": [],
   "source": [
    "#### This dataframe has all the transctiption starts and ends coordinates\n",
    "mouse_gene_df_tx=mouse.select(['chrom','txStart','txEnd','cdsStart','cdsEnd','strand',\n",
    "                        'gene_name','name'])"
   ]
  },
  {
   "cell_type": "code",
   "execution_count": 22,
   "id": "e57e4806-5131-4792-baca-8784a80f775c",
   "metadata": {},
   "outputs": [],
   "source": [
    "mouse_gene_df_tx.rename(columns={'gene_name':'Name','name':'ID'},inplace=True)"
   ]
  },
  {
   "cell_type": "code",
   "execution_count": 23,
   "id": "35b6216b-56c9-4154-af85-ef41eb0258bb",
   "metadata": {},
   "outputs": [],
   "source": [
    "#Use the same regex again\n",
    "mouse_p=r'^Mir\\d+(-\\d+)*$|^Mir\\d+[a-z](-\\d+)*$|^Mir\\d+[a-z]([a-z]|\\d)*$(?<!hg)$|^Mirlet\\d[a-z]-*\\d*$(?<!hg)$'"
   ]
  },
  {
   "cell_type": "code",
   "execution_count": 24,
   "id": "c3fd8816-1e08-4674-8d5f-7a54a35f4428",
   "metadata": {},
   "outputs": [
    {
     "name": "stderr",
     "output_type": "stream",
     "text": [
      "/var/folders/hz/4x5ldhv54fscy_nw6y5dbf2m0000gn/T/ipykernel_13226/1308051937.py:2: UserWarning: This pattern is interpreted as a regular expression, and has match groups. To actually get the groups, use str.extract.\n",
      "  mouse_all_genes_no_miR_df_TX_loc=mouse_gene_df_tx.loc[~mouse_gene_df_tx['Name'].str.contains(\n"
     ]
    }
   ],
   "source": [
    "#### Unlike the previous file, this file has txStart and txEnd coordinates\n",
    "mouse_all_genes_no_miR_df_TX_loc=mouse_gene_df_tx.loc[~mouse_gene_df_tx['Name'].str.contains(\n",
    "mouse_p, flags=re.I,regex=True)]####Remove all miR from the data."
   ]
  },
  {
   "cell_type": "code",
   "execution_count": 25,
   "id": "b4b893d3-3af6-49c7-b8cb-99078ac4b9d0",
   "metadata": {},
   "outputs": [],
   "source": [
    "### this file has all the transcription starts and ends coordinates but no miRNAs\n",
    "mouse_all_genes_no_miR_df_TX_loc.to_csv(f'{current_dir}/Mouse_tsv_file/mouse_all_genes_no_miR_df_TX_loc_NCBI.tsv',sep='\\t',index=False)"
   ]
  },
  {
   "cell_type": "code",
   "execution_count": 26,
   "id": "ac010961-2c07-4f57-ba8f-fbeaa12d64d8",
   "metadata": {},
   "outputs": [],
   "source": [
    "#### Run bedtools_mouse_nonexonic_miR.sh and then bedtools_mouse_intronic_miR.sh"
   ]
  },
  {
   "cell_type": "code",
   "execution_count": 27,
   "id": "37f9a4f0-6e26-4806-82f6-3ce8fd99a89a",
   "metadata": {},
   "outputs": [],
   "source": [
    "##### use this file, bedtools_mouse_intronic_miR.sh, to find intronic miRNAs."
   ]
  },
  {
   "cell_type": "code",
   "execution_count": null,
   "id": "d25edeeb-59f0-4190-bc95-cee43a4035d1",
   "metadata": {},
   "outputs": [],
   "source": []
  },
  {
   "cell_type": "code",
   "execution_count": null,
   "id": "4af577d6-1a58-45ec-9bb1-e9caa623d6ce",
   "metadata": {},
   "outputs": [],
   "source": []
  }
 ],
 "metadata": {
  "kernelspec": {
   "display_name": "Python 3 (ipykernel)",
   "language": "python",
   "name": "python3"
  },
  "language_info": {
   "codemirror_mode": {
    "name": "ipython",
    "version": 3
   },
   "file_extension": ".py",
   "mimetype": "text/x-python",
   "name": "python",
   "nbconvert_exporter": "python",
   "pygments_lexer": "ipython3",
   "version": "3.9.13"
  }
 },
 "nbformat": 4,
 "nbformat_minor": 5
}
