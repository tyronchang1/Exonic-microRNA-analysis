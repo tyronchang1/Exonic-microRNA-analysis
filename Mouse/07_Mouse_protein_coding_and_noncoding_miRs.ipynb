{
 "cells": [
  {
   "cell_type": "markdown",
   "id": "d0dfe596-ebf3-461e-b79a-8e7433f6160e",
   "metadata": {},
   "source": [
    "## Bro if you drop duplicates they will keep the protein-coding ones with same cds and label them as non-coding genes"
   ]
  },
  {
   "cell_type": "markdown",
   "id": "b7841c31-673b-4479-8465-7e21d9625c76",
   "metadata": {},
   "source": [
    "### Coding intragenic genes(Intronic vs Exonic sense miRs)"
   ]
  },
  {
   "cell_type": "markdown",
   "id": "5d0ea271-6579-4da3-83a6-e449e7973bc3",
   "metadata": {},
   "source": [
    "### Exonic "
   ]
  },
  {
   "cell_type": "code",
   "execution_count": 1,
   "id": "a77cc13b-c7be-44ab-a008-23f648457b51",
   "metadata": {},
   "outputs": [
    {
     "name": "stdout",
     "output_type": "stream",
     "text": [
      "importing Jupyter notebook from /Users/tyronchang/Desktop/exonic-microrna-analysis/github3/Mouse/utils/EXONIC.ipynb\n"
     ]
    }
   ],
   "source": [
    "import import_ipynb\n",
    "import pandas as pd\n",
    "import os\n",
    "import matplotlib.pyplot as plt\n",
    "from utils.EXONIC import Regions"
   ]
  },
  {
   "cell_type": "code",
   "execution_count": 2,
   "id": "1a7ba360-7eeb-4011-9100-45a05a868891",
   "metadata": {},
   "outputs": [],
   "source": [
    "current_dir=os.getcwd()\n",
    "csv_file_path=f'{current_dir}/Mouse_csv_file'\n",
    "excel_file_path=f'{current_dir}/Mouse_excel_file'"
   ]
  },
  {
   "cell_type": "code",
   "execution_count": 3,
   "id": "c34dae9f-f518-4c32-9e0c-ea6de649db2a",
   "metadata": {},
   "outputs": [],
   "source": [
    "mouse_exonicmiR_df_new=pd.read_csv(f\"{current_dir}/Mouse_csv_file/mouse_exonic_miR(gene_type)_NCBI.csv\")"
   ]
  },
  {
   "cell_type": "code",
   "execution_count": 4,
   "id": "59c06d8a-9390-4ee2-b179-968323041eed",
   "metadata": {},
   "outputs": [],
   "source": [
    "### The unique list of miRNAs (proten-coding)\n",
    "mouse_exonicmiR_df_coding=Regions(f'{csv_file_path}/mouse_exonic_miR(gene_type)_NCBI.csv')\n",
    "mouse_exonicmiR_df_coding.select_coding()\n",
    "mouse_exonicmiR_df_coding.df.drop_duplicates(subset=['miR_name'],inplace=True)\n",
    "mouse_exonicmiR_df_coding.df.shape\n",
    "mouse_exonicmiR_df_coding=mouse_exonicmiR_df_coding.df\n"
   ]
  },
  {
   "cell_type": "code",
   "execution_count": 5,
   "id": "eb99af83-2b8d-4bd9-8c62-051b42a42886",
   "metadata": {},
   "outputs": [
    {
     "data": {
      "text/plain": [
       "(83, 21)"
      ]
     },
     "execution_count": 5,
     "metadata": {},
     "output_type": "execute_result"
    }
   ],
   "source": [
    "mouse_exonicmiR_df_coding.shape"
   ]
  },
  {
   "cell_type": "code",
   "execution_count": 6,
   "id": "484d56a9-8afd-4480-af13-bdef76f6f704",
   "metadata": {},
   "outputs": [
    {
     "data": {
      "text/plain": [
       "(90, 21)"
      ]
     },
     "execution_count": 6,
     "metadata": {},
     "output_type": "execute_result"
    }
   ],
   "source": [
    "### The unique list of miRNAs (non-coding)\n",
    "mouse_exonicmiR_df_noncoding=Regions(f'{csv_file_path}/mouse_exonic_miR(gene_type)_NCBI.csv')\n",
    "mouse_exonicmiR_df_noncoding.df.drop_duplicates(subset=['miR_name'],inplace=True)\n",
    "mouse_exonicmiR_df_noncoding.select_noncoding()\n",
    "mouse_exonicmiR_df_noncoding.df.shape"
   ]
  },
  {
   "cell_type": "code",
   "execution_count": 7,
   "id": "284d7cab-a3c1-437d-b486-78e2819f9fb3",
   "metadata": {},
   "outputs": [],
   "source": [
    "#\"Chpf2\",\"Dennd6b\",\"Clcn7\" are classified as protein-coding instead of non-coding genes\n",
    "mouse_exonicmiR_df_noncoding=mouse_exonicmiR_df_noncoding.df[~mouse_exonicmiR_df_noncoding.df[\"hostgene_Name\"].isin([\"Chpf2\",\"Dennd6b\",\"Clcn7\"])]     "
   ]
  },
  {
   "cell_type": "code",
   "execution_count": 8,
   "id": "f558aef6-b9c9-4e83-88c7-1ccc316e9d5c",
   "metadata": {},
   "outputs": [
    {
     "data": {
      "text/plain": [
       "(87, 21)"
      ]
     },
     "execution_count": 8,
     "metadata": {},
     "output_type": "execute_result"
    }
   ],
   "source": [
    "mouse_exonicmiR_df_noncoding.shape"
   ]
  },
  {
   "cell_type": "code",
   "execution_count": 9,
   "id": "6233e480-a22a-4ac6-b8b4-2bcdc36df88d",
   "metadata": {},
   "outputs": [],
   "source": [
    "mouse_exonicmiR_df_new=pd.concat([mouse_exonicmiR_df_coding, mouse_exonicmiR_df_noncoding],axis=0)"
   ]
  },
  {
   "cell_type": "code",
   "execution_count": 10,
   "id": "b5b3a12f-5cb1-4188-8686-a535d5a6d618",
   "metadata": {},
   "outputs": [
    {
     "data": {
      "text/plain": [
       "Index(['hostgene_chrom', 'hostgene_exonStarts', 'hostgene_exonEnds',\n",
       "       'hostgene_cdsStart', 'hostgene_cdsEnd', 'hostgene_strand',\n",
       "       'hostgene_exonCounts', 'hostgene_txStarts', 'hostgene_txEnds',\n",
       "       'pre_mRNA_length', 'mature_host_mRNA_Length', 'hostgene_Name',\n",
       "       'hostgene_NCBI_ID', 'miR_name', 'miR_chrom', 'miR_exonStarts',\n",
       "       'miR_exonEnds', 'miR_type', 'miR_strand', 'miR_ID', 'gene_type'],\n",
       "      dtype='object')"
      ]
     },
     "execution_count": 10,
     "metadata": {},
     "output_type": "execute_result"
    }
   ],
   "source": [
    "mouse_exonicmiR_df_new.columns"
   ]
  },
  {
   "cell_type": "code",
   "execution_count": 11,
   "id": "2201f9f5-c98f-48ee-9bfb-4234de022e8d",
   "metadata": {},
   "outputs": [
    {
     "data": {
      "text/plain": [
       "(170, 21)"
      ]
     },
     "execution_count": 11,
     "metadata": {},
     "output_type": "execute_result"
    }
   ],
   "source": [
    "mouse_exonicmiR_df_new.shape"
   ]
  },
  {
   "cell_type": "code",
   "execution_count": 12,
   "id": "681a14c0-fd82-435b-893b-833218da992e",
   "metadata": {},
   "outputs": [],
   "source": [
    "mouse_exonicmiR_df_new[\"host_gene_region\"]=\"exons\""
   ]
  },
  {
   "cell_type": "code",
   "execution_count": 13,
   "id": "7e6f9327-cee9-49ad-8cf2-12fb33044724",
   "metadata": {},
   "outputs": [],
   "source": [
    "mouse_intramiR_exonic_gene_type=mouse_exonicmiR_df_new[[ 'hostgene_NCBI_ID', 'hostgene_Name','hostgene_strand',\n",
    "       'miR_name', 'miR_type', 'miR_strand', 'miR_ID','gene_type','host_gene_region']]"
   ]
  },
  {
   "cell_type": "code",
   "execution_count": 14,
   "id": "1f4a6290-e35a-444c-bddf-f60e31d40c18",
   "metadata": {},
   "outputs": [
    {
     "data": {
      "text/html": [
       "<div>\n",
       "<style scoped>\n",
       "    .dataframe tbody tr th:only-of-type {\n",
       "        vertical-align: middle;\n",
       "    }\n",
       "\n",
       "    .dataframe tbody tr th {\n",
       "        vertical-align: top;\n",
       "    }\n",
       "\n",
       "    .dataframe thead th {\n",
       "        text-align: right;\n",
       "    }\n",
       "</style>\n",
       "<table border=\"1\" class=\"dataframe\">\n",
       "  <thead>\n",
       "    <tr style=\"text-align: right;\">\n",
       "      <th></th>\n",
       "      <th>hostgene_NCBI_ID</th>\n",
       "      <th>hostgene_Name</th>\n",
       "      <th>hostgene_strand</th>\n",
       "      <th>miR_name</th>\n",
       "      <th>miR_type</th>\n",
       "      <th>miR_strand</th>\n",
       "      <th>miR_ID</th>\n",
       "      <th>gene_type</th>\n",
       "      <th>host_gene_region</th>\n",
       "    </tr>\n",
       "  </thead>\n",
       "  <tbody>\n",
       "    <tr>\n",
       "      <th>10</th>\n",
       "      <td>XM_030248982.1</td>\n",
       "      <td>Strbp</td>\n",
       "      <td>-</td>\n",
       "      <td>mmu-mir-5128</td>\n",
       "      <td>miRNA_primary_transcript</td>\n",
       "      <td>-</td>\n",
       "      <td>Alias=MI0018040</td>\n",
       "      <td>protein-coding gene</td>\n",
       "      <td>exons</td>\n",
       "    </tr>\n",
       "    <tr>\n",
       "      <th>11</th>\n",
       "      <td>NM_010434.2</td>\n",
       "      <td>Hipk3</td>\n",
       "      <td>-</td>\n",
       "      <td>mmu-mir-1902</td>\n",
       "      <td>miRNA_primary_transcript</td>\n",
       "      <td>-</td>\n",
       "      <td>Alias=MI0008313</td>\n",
       "      <td>protein-coding gene</td>\n",
       "      <td>exons</td>\n",
       "    </tr>\n",
       "    <tr>\n",
       "      <th>13</th>\n",
       "      <td>XM_006500575.3</td>\n",
       "      <td>Lama5</td>\n",
       "      <td>-</td>\n",
       "      <td>mmu-mir-7005</td>\n",
       "      <td>miRNA_primary_transcript</td>\n",
       "      <td>-</td>\n",
       "      <td>Alias=MI0022854</td>\n",
       "      <td>protein-coding gene</td>\n",
       "      <td>exons</td>\n",
       "    </tr>\n",
       "    <tr>\n",
       "      <th>16</th>\n",
       "      <td>XM_011239023.3</td>\n",
       "      <td>Gad2</td>\n",
       "      <td>+</td>\n",
       "      <td>mmu-mir-3967</td>\n",
       "      <td>miRNA_primary_transcript</td>\n",
       "      <td>+</td>\n",
       "      <td>Alias=MI0016976</td>\n",
       "      <td>protein-coding gene</td>\n",
       "      <td>exons</td>\n",
       "    </tr>\n",
       "    <tr>\n",
       "      <th>17</th>\n",
       "      <td>XM_006498476.4</td>\n",
       "      <td>Cercam</td>\n",
       "      <td>+</td>\n",
       "      <td>mmu-mir-219b</td>\n",
       "      <td>miRNA_primary_transcript</td>\n",
       "      <td>+</td>\n",
       "      <td>Alias=MI0024990</td>\n",
       "      <td>protein-coding gene</td>\n",
       "      <td>exons</td>\n",
       "    </tr>\n",
       "    <tr>\n",
       "      <th>...</th>\n",
       "      <td>...</td>\n",
       "      <td>...</td>\n",
       "      <td>...</td>\n",
       "      <td>...</td>\n",
       "      <td>...</td>\n",
       "      <td>...</td>\n",
       "      <td>...</td>\n",
       "      <td>...</td>\n",
       "      <td>...</td>\n",
       "    </tr>\n",
       "    <tr>\n",
       "      <th>317</th>\n",
       "      <td>NR_162790.1</td>\n",
       "      <td>Gm51291</td>\n",
       "      <td>+</td>\n",
       "      <td>mmu-mir-3083b</td>\n",
       "      <td>miRNA_primary_transcript</td>\n",
       "      <td>+</td>\n",
       "      <td>Alias=MI0040630</td>\n",
       "      <td>non-coding gene</td>\n",
       "      <td>exons</td>\n",
       "    </tr>\n",
       "    <tr>\n",
       "      <th>318</th>\n",
       "      <td>NR_128569.1</td>\n",
       "      <td>Gm27740</td>\n",
       "      <td>-</td>\n",
       "      <td>mmu-mir-6967-2</td>\n",
       "      <td>miRNA_primary_transcript</td>\n",
       "      <td>-</td>\n",
       "      <td>Alias=MI0031752</td>\n",
       "      <td>non-coding gene</td>\n",
       "      <td>exons</td>\n",
       "    </tr>\n",
       "    <tr>\n",
       "      <th>320</th>\n",
       "      <td>NR_162791.1</td>\n",
       "      <td>Gm51284</td>\n",
       "      <td>-</td>\n",
       "      <td>mmu-mir-12189</td>\n",
       "      <td>miRNA_primary_transcript</td>\n",
       "      <td>-</td>\n",
       "      <td>Alias=MI0040631</td>\n",
       "      <td>non-coding gene</td>\n",
       "      <td>exons</td>\n",
       "    </tr>\n",
       "    <tr>\n",
       "      <th>321</th>\n",
       "      <td>NR_162792.1</td>\n",
       "      <td>Gm51270</td>\n",
       "      <td>-</td>\n",
       "      <td>mmu-mir-12190</td>\n",
       "      <td>miRNA_primary_transcript</td>\n",
       "      <td>-</td>\n",
       "      <td>Alias=MI0040632</td>\n",
       "      <td>non-coding gene</td>\n",
       "      <td>exons</td>\n",
       "    </tr>\n",
       "    <tr>\n",
       "      <th>332</th>\n",
       "      <td>NR_162795.1</td>\n",
       "      <td>Gm51271</td>\n",
       "      <td>-</td>\n",
       "      <td>mmu-mir-12192</td>\n",
       "      <td>miRNA_primary_transcript</td>\n",
       "      <td>-</td>\n",
       "      <td>Alias=MI0040635</td>\n",
       "      <td>non-coding gene</td>\n",
       "      <td>exons</td>\n",
       "    </tr>\n",
       "  </tbody>\n",
       "</table>\n",
       "<p>170 rows × 9 columns</p>\n",
       "</div>"
      ],
      "text/plain": [
       "    hostgene_NCBI_ID hostgene_Name hostgene_strand        miR_name  \\\n",
       "10    XM_030248982.1         Strbp               -    mmu-mir-5128   \n",
       "11       NM_010434.2         Hipk3               -    mmu-mir-1902   \n",
       "13    XM_006500575.3         Lama5               -    mmu-mir-7005   \n",
       "16    XM_011239023.3          Gad2               +    mmu-mir-3967   \n",
       "17    XM_006498476.4        Cercam               +    mmu-mir-219b   \n",
       "..               ...           ...             ...             ...   \n",
       "317      NR_162790.1       Gm51291               +   mmu-mir-3083b   \n",
       "318      NR_128569.1       Gm27740               -  mmu-mir-6967-2   \n",
       "320      NR_162791.1       Gm51284               -   mmu-mir-12189   \n",
       "321      NR_162792.1       Gm51270               -   mmu-mir-12190   \n",
       "332      NR_162795.1       Gm51271               -   mmu-mir-12192   \n",
       "\n",
       "                     miR_type miR_strand           miR_ID  \\\n",
       "10   miRNA_primary_transcript          -  Alias=MI0018040   \n",
       "11   miRNA_primary_transcript          -  Alias=MI0008313   \n",
       "13   miRNA_primary_transcript          -  Alias=MI0022854   \n",
       "16   miRNA_primary_transcript          +  Alias=MI0016976   \n",
       "17   miRNA_primary_transcript          +  Alias=MI0024990   \n",
       "..                        ...        ...              ...   \n",
       "317  miRNA_primary_transcript          +  Alias=MI0040630   \n",
       "318  miRNA_primary_transcript          -  Alias=MI0031752   \n",
       "320  miRNA_primary_transcript          -  Alias=MI0040631   \n",
       "321  miRNA_primary_transcript          -  Alias=MI0040632   \n",
       "332  miRNA_primary_transcript          -  Alias=MI0040635   \n",
       "\n",
       "               gene_type host_gene_region  \n",
       "10   protein-coding gene            exons  \n",
       "11   protein-coding gene            exons  \n",
       "13   protein-coding gene            exons  \n",
       "16   protein-coding gene            exons  \n",
       "17   protein-coding gene            exons  \n",
       "..                   ...              ...  \n",
       "317      non-coding gene            exons  \n",
       "318      non-coding gene            exons  \n",
       "320      non-coding gene            exons  \n",
       "321      non-coding gene            exons  \n",
       "332      non-coding gene            exons  \n",
       "\n",
       "[170 rows x 9 columns]"
      ]
     },
     "execution_count": 14,
     "metadata": {},
     "output_type": "execute_result"
    }
   ],
   "source": [
    "mouse_intramiR_exonic_gene_type"
   ]
  },
  {
   "cell_type": "code",
   "execution_count": 15,
   "id": "d578b6e8-28ba-433f-9757-f188415bd04a",
   "metadata": {},
   "outputs": [],
   "source": [
    "mouse_intramiR_exonic_gene_type.to_csv(f'{csv_file_path}/mouse_exonic_miR(gene_type)_NCBI_unique.csv',index=False)\n",
    "mouse_intramiR_exonic_gene_type.to_excel(f'{excel_file_path}/mouse_exonic_miR(gene_type)_NCBI_unique.xlsx',index=False)"
   ]
  },
  {
   "cell_type": "markdown",
   "id": "00562136-70e0-4694-a058-56f9871a32be",
   "metadata": {},
   "source": [
    "### Intronic "
   ]
  },
  {
   "cell_type": "code",
   "execution_count": 16,
   "id": "8c352a2e-8541-44ed-97ae-8ae71872c13d",
   "metadata": {},
   "outputs": [
    {
     "data": {
      "text/plain": [
       "(599, 17)"
      ]
     },
     "execution_count": 16,
     "metadata": {},
     "output_type": "execute_result"
    }
   ],
   "source": [
    "mouse_intronicmiR_df_gene_type=Regions(f'{csv_file_path}/mouse_intronic_miR(gene_type)_NCBI.csv')\n",
    "mouse_intronicmiR_df_gene_type.df.drop_duplicates(subset=['miR_name'],inplace=True)\n",
    "mouse_intronicmiR_df_gene_type.df.shape"
   ]
  },
  {
   "cell_type": "code",
   "execution_count": 17,
   "id": "b138964f-d392-4413-8f14-98eaaaebe5b4",
   "metadata": {},
   "outputs": [
    {
     "data": {
      "text/plain": [
       "Index(['hostgene_chrom', 'hostgene_TxStarts', 'hostgene_TxEnds',\n",
       "       'hostgene_cdsStart', 'hostgene_cdsEnd', 'pre_mRNA_length',\n",
       "       'hostgene_strand', 'hostgene_Name', 'hostgene_NCBI_ID', 'miR_chrom',\n",
       "       'miR_exonStarts', 'miR_exonEnds', 'miR_type', 'miR_name', 'miR_strand',\n",
       "       'miR_ID', 'gene_type'],\n",
       "      dtype='object')"
      ]
     },
     "execution_count": 17,
     "metadata": {},
     "output_type": "execute_result"
    }
   ],
   "source": [
    "mouse_intronicmiR_df_gene_type.df.columns"
   ]
  },
  {
   "cell_type": "code",
   "execution_count": 18,
   "id": "6fae2c6c-43a7-4565-b94b-17edf6172736",
   "metadata": {},
   "outputs": [],
   "source": [
    "mouse_intronicmiR_df_gene_type=mouse_intronicmiR_df_gene_type.df"
   ]
  },
  {
   "cell_type": "code",
   "execution_count": 19,
   "id": "131220d9-f73e-49cd-9ea4-e9f9ec5f03b2",
   "metadata": {},
   "outputs": [],
   "source": [
    "mouse_intronicmiR_df_gene_type[\"host_gene_region\"] = \"introns\""
   ]
  },
  {
   "cell_type": "code",
   "execution_count": 20,
   "id": "9d1a9bc1-2127-4d31-b513-6751b3563fa0",
   "metadata": {},
   "outputs": [
    {
     "data": {
      "text/html": [
       "<div>\n",
       "<style scoped>\n",
       "    .dataframe tbody tr th:only-of-type {\n",
       "        vertical-align: middle;\n",
       "    }\n",
       "\n",
       "    .dataframe tbody tr th {\n",
       "        vertical-align: top;\n",
       "    }\n",
       "\n",
       "    .dataframe thead th {\n",
       "        text-align: right;\n",
       "    }\n",
       "</style>\n",
       "<table border=\"1\" class=\"dataframe\">\n",
       "  <thead>\n",
       "    <tr style=\"text-align: right;\">\n",
       "      <th></th>\n",
       "      <th>hostgene_chrom</th>\n",
       "      <th>hostgene_TxStarts</th>\n",
       "      <th>hostgene_TxEnds</th>\n",
       "      <th>hostgene_cdsStart</th>\n",
       "      <th>hostgene_cdsEnd</th>\n",
       "      <th>pre_mRNA_length</th>\n",
       "      <th>hostgene_strand</th>\n",
       "      <th>hostgene_Name</th>\n",
       "      <th>hostgene_NCBI_ID</th>\n",
       "      <th>miR_chrom</th>\n",
       "      <th>miR_exonStarts</th>\n",
       "      <th>miR_exonEnds</th>\n",
       "      <th>miR_type</th>\n",
       "      <th>miR_name</th>\n",
       "      <th>miR_strand</th>\n",
       "      <th>miR_ID</th>\n",
       "      <th>gene_type</th>\n",
       "      <th>host_gene_region</th>\n",
       "    </tr>\n",
       "  </thead>\n",
       "  <tbody>\n",
       "    <tr>\n",
       "      <th>0</th>\n",
       "      <td>chr1</td>\n",
       "      <td>160219173</td>\n",
       "      <td>160792925</td>\n",
       "      <td>160224215</td>\n",
       "      <td>160740889</td>\n",
       "      <td>573752.0</td>\n",
       "      <td>-</td>\n",
       "      <td>Rabgap1l</td>\n",
       "      <td>XM_006496877.3</td>\n",
       "      <td>chr1</td>\n",
       "      <td>160295864</td>\n",
       "      <td>160295972</td>\n",
       "      <td>miRNA_primary_transcript</td>\n",
       "      <td>mmu-mir-1927</td>\n",
       "      <td>-</td>\n",
       "      <td>Alias=MI0009914</td>\n",
       "      <td>protein-coding gene</td>\n",
       "      <td>introns</td>\n",
       "    </tr>\n",
       "    <tr>\n",
       "      <th>5</th>\n",
       "      <td>chr1</td>\n",
       "      <td>33907887</td>\n",
       "      <td>34308652</td>\n",
       "      <td>33908271</td>\n",
       "      <td>34307592</td>\n",
       "      <td>400765.0</td>\n",
       "      <td>+</td>\n",
       "      <td>Dst</td>\n",
       "      <td>XM_006495682.3</td>\n",
       "      <td>chr1</td>\n",
       "      <td>34117359</td>\n",
       "      <td>34117431</td>\n",
       "      <td>miRNA_primary_transcript</td>\n",
       "      <td>mmu-mir-6896</td>\n",
       "      <td>+</td>\n",
       "      <td>Alias=MI0022743</td>\n",
       "      <td>protein-coding gene</td>\n",
       "      <td>introns</td>\n",
       "    </tr>\n",
       "    <tr>\n",
       "      <th>35</th>\n",
       "      <td>chr1</td>\n",
       "      <td>36140027</td>\n",
       "      <td>36244302</td>\n",
       "      <td>36144225</td>\n",
       "      <td>36244127</td>\n",
       "      <td>104275.0</td>\n",
       "      <td>-</td>\n",
       "      <td>Uggt1</td>\n",
       "      <td>NM_198899.2</td>\n",
       "      <td>chr1</td>\n",
       "      <td>36144252</td>\n",
       "      <td>36144313</td>\n",
       "      <td>miRNA_primary_transcript</td>\n",
       "      <td>mmu-mir-6897</td>\n",
       "      <td>-</td>\n",
       "      <td>Alias=MI0022744</td>\n",
       "      <td>protein-coding gene</td>\n",
       "      <td>introns</td>\n",
       "    </tr>\n",
       "    <tr>\n",
       "      <th>37</th>\n",
       "      <td>chr1</td>\n",
       "      <td>64029447</td>\n",
       "      <td>64121504</td>\n",
       "      <td>64035712</td>\n",
       "      <td>64121001</td>\n",
       "      <td>92057.0</td>\n",
       "      <td>-</td>\n",
       "      <td>Klf7</td>\n",
       "      <td>XM_006496351.3</td>\n",
       "      <td>chr1</td>\n",
       "      <td>64042438</td>\n",
       "      <td>64042501</td>\n",
       "      <td>miRNA_primary_transcript</td>\n",
       "      <td>mmu-mir-6899</td>\n",
       "      <td>-</td>\n",
       "      <td>Alias=MI0022746</td>\n",
       "      <td>protein-coding gene</td>\n",
       "      <td>introns</td>\n",
       "    </tr>\n",
       "    <tr>\n",
       "      <th>44</th>\n",
       "      <td>chr1</td>\n",
       "      <td>73618380</td>\n",
       "      <td>73864466</td>\n",
       "      <td>73864466</td>\n",
       "      <td>73864466</td>\n",
       "      <td>246086.0</td>\n",
       "      <td>-</td>\n",
       "      <td>6030407O03Rik</td>\n",
       "      <td>NR_045311.1</td>\n",
       "      <td>chr1</td>\n",
       "      <td>73855477</td>\n",
       "      <td>73855575</td>\n",
       "      <td>miRNA_primary_transcript</td>\n",
       "      <td>mmu-mir-6351</td>\n",
       "      <td>-</td>\n",
       "      <td>Alias=MI0021879</td>\n",
       "      <td>non-coding gene</td>\n",
       "      <td>introns</td>\n",
       "    </tr>\n",
       "    <tr>\n",
       "      <th>...</th>\n",
       "      <td>...</td>\n",
       "      <td>...</td>\n",
       "      <td>...</td>\n",
       "      <td>...</td>\n",
       "      <td>...</td>\n",
       "      <td>...</td>\n",
       "      <td>...</td>\n",
       "      <td>...</td>\n",
       "      <td>...</td>\n",
       "      <td>...</td>\n",
       "      <td>...</td>\n",
       "      <td>...</td>\n",
       "      <td>...</td>\n",
       "      <td>...</td>\n",
       "      <td>...</td>\n",
       "      <td>...</td>\n",
       "      <td>...</td>\n",
       "      <td>...</td>\n",
       "    </tr>\n",
       "    <tr>\n",
       "      <th>3987</th>\n",
       "      <td>chr19</td>\n",
       "      <td>24919628</td>\n",
       "      <td>24961663</td>\n",
       "      <td>24920592</td>\n",
       "      <td>24940816</td>\n",
       "      <td>42035.0</td>\n",
       "      <td>-</td>\n",
       "      <td>Cbwd1</td>\n",
       "      <td>XM_030250891.1</td>\n",
       "      <td>chr19</td>\n",
       "      <td>24942235</td>\n",
       "      <td>24942303</td>\n",
       "      <td>miRNA_primary_transcript</td>\n",
       "      <td>mmu-mir-3084-1</td>\n",
       "      <td>-</td>\n",
       "      <td>Alias=MI0014047</td>\n",
       "      <td>protein-coding gene</td>\n",
       "      <td>introns</td>\n",
       "    </tr>\n",
       "    <tr>\n",
       "      <th>3991</th>\n",
       "      <td>chr19</td>\n",
       "      <td>29101374</td>\n",
       "      <td>29143843</td>\n",
       "      <td>29101504</td>\n",
       "      <td>29143292</td>\n",
       "      <td>42469.0</td>\n",
       "      <td>+</td>\n",
       "      <td>Rcl1</td>\n",
       "      <td>NM_021525.2</td>\n",
       "      <td>chr19</td>\n",
       "      <td>29135279</td>\n",
       "      <td>29135375</td>\n",
       "      <td>miRNA_primary_transcript</td>\n",
       "      <td>mmu-mir-101b</td>\n",
       "      <td>+</td>\n",
       "      <td>Alias=MI0000649</td>\n",
       "      <td>protein-coding gene</td>\n",
       "      <td>introns</td>\n",
       "    </tr>\n",
       "    <tr>\n",
       "      <th>3994</th>\n",
       "      <td>chr19</td>\n",
       "      <td>34922334</td>\n",
       "      <td>34966133</td>\n",
       "      <td>34924625</td>\n",
       "      <td>34961312</td>\n",
       "      <td>43799.0</td>\n",
       "      <td>+</td>\n",
       "      <td>Kif20b</td>\n",
       "      <td>XM_011247247.3</td>\n",
       "      <td>chr19</td>\n",
       "      <td>34965396</td>\n",
       "      <td>34965469</td>\n",
       "      <td>miRNA_primary_transcript</td>\n",
       "      <td>mmu-mir-1950</td>\n",
       "      <td>+</td>\n",
       "      <td>Alias=MI0009941</td>\n",
       "      <td>protein-coding gene</td>\n",
       "      <td>introns</td>\n",
       "    </tr>\n",
       "    <tr>\n",
       "      <th>4004</th>\n",
       "      <td>chr19</td>\n",
       "      <td>46338759</td>\n",
       "      <td>46344131</td>\n",
       "      <td>46344131</td>\n",
       "      <td>46344131</td>\n",
       "      <td>5372.0</td>\n",
       "      <td>+</td>\n",
       "      <td>Gm36493</td>\n",
       "      <td>XR_386763.4</td>\n",
       "      <td>chr19</td>\n",
       "      <td>46342762</td>\n",
       "      <td>46342870</td>\n",
       "      <td>miRNA_primary_transcript</td>\n",
       "      <td>mmu-mir-146b</td>\n",
       "      <td>+</td>\n",
       "      <td>Alias=MI0004665</td>\n",
       "      <td>non-coding gene</td>\n",
       "      <td>introns</td>\n",
       "    </tr>\n",
       "    <tr>\n",
       "      <th>4007</th>\n",
       "      <td>chr19</td>\n",
       "      <td>47736856</td>\n",
       "      <td>47837361</td>\n",
       "      <td>47737720</td>\n",
       "      <td>47837327</td>\n",
       "      <td>100505.0</td>\n",
       "      <td>-</td>\n",
       "      <td>Cfap43</td>\n",
       "      <td>NM_027559.2</td>\n",
       "      <td>chr19</td>\n",
       "      <td>47755022</td>\n",
       "      <td>47755157</td>\n",
       "      <td>miRNA_primary_transcript</td>\n",
       "      <td>mmu-mir-8090</td>\n",
       "      <td>-</td>\n",
       "      <td>Alias=MI0026017</td>\n",
       "      <td>protein-coding gene</td>\n",
       "      <td>introns</td>\n",
       "    </tr>\n",
       "  </tbody>\n",
       "</table>\n",
       "<p>599 rows × 18 columns</p>\n",
       "</div>"
      ],
      "text/plain": [
       "     hostgene_chrom  hostgene_TxStarts  hostgene_TxEnds  hostgene_cdsStart  \\\n",
       "0              chr1          160219173        160792925          160224215   \n",
       "5              chr1           33907887         34308652           33908271   \n",
       "35             chr1           36140027         36244302           36144225   \n",
       "37             chr1           64029447         64121504           64035712   \n",
       "44             chr1           73618380         73864466           73864466   \n",
       "...             ...                ...              ...                ...   \n",
       "3987          chr19           24919628         24961663           24920592   \n",
       "3991          chr19           29101374         29143843           29101504   \n",
       "3994          chr19           34922334         34966133           34924625   \n",
       "4004          chr19           46338759         46344131           46344131   \n",
       "4007          chr19           47736856         47837361           47737720   \n",
       "\n",
       "      hostgene_cdsEnd  pre_mRNA_length hostgene_strand  hostgene_Name  \\\n",
       "0           160740889         573752.0               -       Rabgap1l   \n",
       "5            34307592         400765.0               +            Dst   \n",
       "35           36244127         104275.0               -          Uggt1   \n",
       "37           64121001          92057.0               -           Klf7   \n",
       "44           73864466         246086.0               -  6030407O03Rik   \n",
       "...               ...              ...             ...            ...   \n",
       "3987         24940816          42035.0               -          Cbwd1   \n",
       "3991         29143292          42469.0               +           Rcl1   \n",
       "3994         34961312          43799.0               +         Kif20b   \n",
       "4004         46344131           5372.0               +        Gm36493   \n",
       "4007         47837327         100505.0               -         Cfap43   \n",
       "\n",
       "     hostgene_NCBI_ID miR_chrom  miR_exonStarts  miR_exonEnds  \\\n",
       "0      XM_006496877.3      chr1       160295864     160295972   \n",
       "5      XM_006495682.3      chr1        34117359      34117431   \n",
       "35        NM_198899.2      chr1        36144252      36144313   \n",
       "37     XM_006496351.3      chr1        64042438      64042501   \n",
       "44        NR_045311.1      chr1        73855477      73855575   \n",
       "...               ...       ...             ...           ...   \n",
       "3987   XM_030250891.1     chr19        24942235      24942303   \n",
       "3991      NM_021525.2     chr19        29135279      29135375   \n",
       "3994   XM_011247247.3     chr19        34965396      34965469   \n",
       "4004      XR_386763.4     chr19        46342762      46342870   \n",
       "4007      NM_027559.2     chr19        47755022      47755157   \n",
       "\n",
       "                      miR_type        miR_name miR_strand           miR_ID  \\\n",
       "0     miRNA_primary_transcript    mmu-mir-1927          -  Alias=MI0009914   \n",
       "5     miRNA_primary_transcript    mmu-mir-6896          +  Alias=MI0022743   \n",
       "35    miRNA_primary_transcript    mmu-mir-6897          -  Alias=MI0022744   \n",
       "37    miRNA_primary_transcript    mmu-mir-6899          -  Alias=MI0022746   \n",
       "44    miRNA_primary_transcript    mmu-mir-6351          -  Alias=MI0021879   \n",
       "...                        ...             ...        ...              ...   \n",
       "3987  miRNA_primary_transcript  mmu-mir-3084-1          -  Alias=MI0014047   \n",
       "3991  miRNA_primary_transcript    mmu-mir-101b          +  Alias=MI0000649   \n",
       "3994  miRNA_primary_transcript    mmu-mir-1950          +  Alias=MI0009941   \n",
       "4004  miRNA_primary_transcript    mmu-mir-146b          +  Alias=MI0004665   \n",
       "4007  miRNA_primary_transcript    mmu-mir-8090          -  Alias=MI0026017   \n",
       "\n",
       "                gene_type host_gene_region  \n",
       "0     protein-coding gene          introns  \n",
       "5     protein-coding gene          introns  \n",
       "35    protein-coding gene          introns  \n",
       "37    protein-coding gene          introns  \n",
       "44        non-coding gene          introns  \n",
       "...                   ...              ...  \n",
       "3987  protein-coding gene          introns  \n",
       "3991  protein-coding gene          introns  \n",
       "3994  protein-coding gene          introns  \n",
       "4004      non-coding gene          introns  \n",
       "4007  protein-coding gene          introns  \n",
       "\n",
       "[599 rows x 18 columns]"
      ]
     },
     "execution_count": 20,
     "metadata": {},
     "output_type": "execute_result"
    }
   ],
   "source": [
    "mouse_intronicmiR_df_gene_type"
   ]
  },
  {
   "cell_type": "code",
   "execution_count": 21,
   "id": "0b3a9b4f-20a2-49c8-8b37-1408747490a4",
   "metadata": {},
   "outputs": [
    {
     "data": {
      "text/plain": [
       "Index(['hostgene_NCBI_ID', 'hostgene_Name', 'hostgene_strand', 'miR_name',\n",
       "       'miR_type', 'miR_strand', 'miR_ID', 'gene_type', 'host_gene_region'],\n",
       "      dtype='object')"
      ]
     },
     "execution_count": 21,
     "metadata": {},
     "output_type": "execute_result"
    }
   ],
   "source": [
    "mouse_intramiR_exonic_gene_type.columns"
   ]
  },
  {
   "cell_type": "code",
   "execution_count": 22,
   "id": "6e557ce6-7aa5-4f81-9963-3be481bbdf37",
   "metadata": {},
   "outputs": [
    {
     "data": {
      "text/plain": [
       "9"
      ]
     },
     "execution_count": 22,
     "metadata": {},
     "output_type": "execute_result"
    }
   ],
   "source": [
    "len(mouse_intramiR_exonic_gene_type.columns)"
   ]
  },
  {
   "cell_type": "code",
   "execution_count": 23,
   "id": "2c5b607d-2d65-4b4c-98f7-20f25a85d3bd",
   "metadata": {},
   "outputs": [
    {
     "data": {
      "text/html": [
       "<div>\n",
       "<style scoped>\n",
       "    .dataframe tbody tr th:only-of-type {\n",
       "        vertical-align: middle;\n",
       "    }\n",
       "\n",
       "    .dataframe tbody tr th {\n",
       "        vertical-align: top;\n",
       "    }\n",
       "\n",
       "    .dataframe thead th {\n",
       "        text-align: right;\n",
       "    }\n",
       "</style>\n",
       "<table border=\"1\" class=\"dataframe\">\n",
       "  <thead>\n",
       "    <tr style=\"text-align: right;\">\n",
       "      <th></th>\n",
       "      <th>hostgene_NCBI_ID</th>\n",
       "      <th>hostgene_Name</th>\n",
       "      <th>hostgene_strand</th>\n",
       "      <th>miR_name</th>\n",
       "      <th>miR_type</th>\n",
       "      <th>miR_strand</th>\n",
       "      <th>miR_ID</th>\n",
       "      <th>gene_type</th>\n",
       "      <th>host_gene_region</th>\n",
       "    </tr>\n",
       "  </thead>\n",
       "  <tbody>\n",
       "    <tr>\n",
       "      <th>10</th>\n",
       "      <td>XM_030248982.1</td>\n",
       "      <td>Strbp</td>\n",
       "      <td>-</td>\n",
       "      <td>mmu-mir-5128</td>\n",
       "      <td>miRNA_primary_transcript</td>\n",
       "      <td>-</td>\n",
       "      <td>Alias=MI0018040</td>\n",
       "      <td>protein-coding gene</td>\n",
       "      <td>exons</td>\n",
       "    </tr>\n",
       "    <tr>\n",
       "      <th>11</th>\n",
       "      <td>NM_010434.2</td>\n",
       "      <td>Hipk3</td>\n",
       "      <td>-</td>\n",
       "      <td>mmu-mir-1902</td>\n",
       "      <td>miRNA_primary_transcript</td>\n",
       "      <td>-</td>\n",
       "      <td>Alias=MI0008313</td>\n",
       "      <td>protein-coding gene</td>\n",
       "      <td>exons</td>\n",
       "    </tr>\n",
       "    <tr>\n",
       "      <th>13</th>\n",
       "      <td>XM_006500575.3</td>\n",
       "      <td>Lama5</td>\n",
       "      <td>-</td>\n",
       "      <td>mmu-mir-7005</td>\n",
       "      <td>miRNA_primary_transcript</td>\n",
       "      <td>-</td>\n",
       "      <td>Alias=MI0022854</td>\n",
       "      <td>protein-coding gene</td>\n",
       "      <td>exons</td>\n",
       "    </tr>\n",
       "    <tr>\n",
       "      <th>16</th>\n",
       "      <td>XM_011239023.3</td>\n",
       "      <td>Gad2</td>\n",
       "      <td>+</td>\n",
       "      <td>mmu-mir-3967</td>\n",
       "      <td>miRNA_primary_transcript</td>\n",
       "      <td>+</td>\n",
       "      <td>Alias=MI0016976</td>\n",
       "      <td>protein-coding gene</td>\n",
       "      <td>exons</td>\n",
       "    </tr>\n",
       "    <tr>\n",
       "      <th>17</th>\n",
       "      <td>XM_006498476.4</td>\n",
       "      <td>Cercam</td>\n",
       "      <td>+</td>\n",
       "      <td>mmu-mir-219b</td>\n",
       "      <td>miRNA_primary_transcript</td>\n",
       "      <td>+</td>\n",
       "      <td>Alias=MI0024990</td>\n",
       "      <td>protein-coding gene</td>\n",
       "      <td>exons</td>\n",
       "    </tr>\n",
       "    <tr>\n",
       "      <th>...</th>\n",
       "      <td>...</td>\n",
       "      <td>...</td>\n",
       "      <td>...</td>\n",
       "      <td>...</td>\n",
       "      <td>...</td>\n",
       "      <td>...</td>\n",
       "      <td>...</td>\n",
       "      <td>...</td>\n",
       "      <td>...</td>\n",
       "    </tr>\n",
       "    <tr>\n",
       "      <th>317</th>\n",
       "      <td>NR_162790.1</td>\n",
       "      <td>Gm51291</td>\n",
       "      <td>+</td>\n",
       "      <td>mmu-mir-3083b</td>\n",
       "      <td>miRNA_primary_transcript</td>\n",
       "      <td>+</td>\n",
       "      <td>Alias=MI0040630</td>\n",
       "      <td>non-coding gene</td>\n",
       "      <td>exons</td>\n",
       "    </tr>\n",
       "    <tr>\n",
       "      <th>318</th>\n",
       "      <td>NR_128569.1</td>\n",
       "      <td>Gm27740</td>\n",
       "      <td>-</td>\n",
       "      <td>mmu-mir-6967-2</td>\n",
       "      <td>miRNA_primary_transcript</td>\n",
       "      <td>-</td>\n",
       "      <td>Alias=MI0031752</td>\n",
       "      <td>non-coding gene</td>\n",
       "      <td>exons</td>\n",
       "    </tr>\n",
       "    <tr>\n",
       "      <th>320</th>\n",
       "      <td>NR_162791.1</td>\n",
       "      <td>Gm51284</td>\n",
       "      <td>-</td>\n",
       "      <td>mmu-mir-12189</td>\n",
       "      <td>miRNA_primary_transcript</td>\n",
       "      <td>-</td>\n",
       "      <td>Alias=MI0040631</td>\n",
       "      <td>non-coding gene</td>\n",
       "      <td>exons</td>\n",
       "    </tr>\n",
       "    <tr>\n",
       "      <th>321</th>\n",
       "      <td>NR_162792.1</td>\n",
       "      <td>Gm51270</td>\n",
       "      <td>-</td>\n",
       "      <td>mmu-mir-12190</td>\n",
       "      <td>miRNA_primary_transcript</td>\n",
       "      <td>-</td>\n",
       "      <td>Alias=MI0040632</td>\n",
       "      <td>non-coding gene</td>\n",
       "      <td>exons</td>\n",
       "    </tr>\n",
       "    <tr>\n",
       "      <th>332</th>\n",
       "      <td>NR_162795.1</td>\n",
       "      <td>Gm51271</td>\n",
       "      <td>-</td>\n",
       "      <td>mmu-mir-12192</td>\n",
       "      <td>miRNA_primary_transcript</td>\n",
       "      <td>-</td>\n",
       "      <td>Alias=MI0040635</td>\n",
       "      <td>non-coding gene</td>\n",
       "      <td>exons</td>\n",
       "    </tr>\n",
       "  </tbody>\n",
       "</table>\n",
       "<p>170 rows × 9 columns</p>\n",
       "</div>"
      ],
      "text/plain": [
       "    hostgene_NCBI_ID hostgene_Name hostgene_strand        miR_name  \\\n",
       "10    XM_030248982.1         Strbp               -    mmu-mir-5128   \n",
       "11       NM_010434.2         Hipk3               -    mmu-mir-1902   \n",
       "13    XM_006500575.3         Lama5               -    mmu-mir-7005   \n",
       "16    XM_011239023.3          Gad2               +    mmu-mir-3967   \n",
       "17    XM_006498476.4        Cercam               +    mmu-mir-219b   \n",
       "..               ...           ...             ...             ...   \n",
       "317      NR_162790.1       Gm51291               +   mmu-mir-3083b   \n",
       "318      NR_128569.1       Gm27740               -  mmu-mir-6967-2   \n",
       "320      NR_162791.1       Gm51284               -   mmu-mir-12189   \n",
       "321      NR_162792.1       Gm51270               -   mmu-mir-12190   \n",
       "332      NR_162795.1       Gm51271               -   mmu-mir-12192   \n",
       "\n",
       "                     miR_type miR_strand           miR_ID  \\\n",
       "10   miRNA_primary_transcript          -  Alias=MI0018040   \n",
       "11   miRNA_primary_transcript          -  Alias=MI0008313   \n",
       "13   miRNA_primary_transcript          -  Alias=MI0022854   \n",
       "16   miRNA_primary_transcript          +  Alias=MI0016976   \n",
       "17   miRNA_primary_transcript          +  Alias=MI0024990   \n",
       "..                        ...        ...              ...   \n",
       "317  miRNA_primary_transcript          +  Alias=MI0040630   \n",
       "318  miRNA_primary_transcript          -  Alias=MI0031752   \n",
       "320  miRNA_primary_transcript          -  Alias=MI0040631   \n",
       "321  miRNA_primary_transcript          -  Alias=MI0040632   \n",
       "332  miRNA_primary_transcript          -  Alias=MI0040635   \n",
       "\n",
       "               gene_type host_gene_region  \n",
       "10   protein-coding gene            exons  \n",
       "11   protein-coding gene            exons  \n",
       "13   protein-coding gene            exons  \n",
       "16   protein-coding gene            exons  \n",
       "17   protein-coding gene            exons  \n",
       "..                   ...              ...  \n",
       "317      non-coding gene            exons  \n",
       "318      non-coding gene            exons  \n",
       "320      non-coding gene            exons  \n",
       "321      non-coding gene            exons  \n",
       "332      non-coding gene            exons  \n",
       "\n",
       "[170 rows x 9 columns]"
      ]
     },
     "execution_count": 23,
     "metadata": {},
     "output_type": "execute_result"
    }
   ],
   "source": [
    "mouse_intramiR_exonic_gene_type"
   ]
  },
  {
   "cell_type": "code",
   "execution_count": 24,
   "id": "0ccac79f-c7e2-4bae-b7d2-110460b7b5e6",
   "metadata": {},
   "outputs": [
    {
     "data": {
      "text/plain": [
       "Index(['hostgene_chrom', 'hostgene_TxStarts', 'hostgene_TxEnds',\n",
       "       'hostgene_cdsStart', 'hostgene_cdsEnd', 'pre_mRNA_length',\n",
       "       'hostgene_strand', 'hostgene_Name', 'hostgene_NCBI_ID', 'miR_chrom',\n",
       "       'miR_exonStarts', 'miR_exonEnds', 'miR_type', 'miR_name', 'miR_strand',\n",
       "       'miR_ID', 'gene_type', 'host_gene_region'],\n",
       "      dtype='object')"
      ]
     },
     "execution_count": 24,
     "metadata": {},
     "output_type": "execute_result"
    }
   ],
   "source": [
    "mouse_intronicmiR_df_gene_type.columns"
   ]
  },
  {
   "cell_type": "code",
   "execution_count": 25,
   "id": "a65a3f22-a61e-4ec2-8483-8a92b076dbff",
   "metadata": {},
   "outputs": [],
   "source": [
    "mouse_intronicmiR_df_gene_type = mouse_intronicmiR_df_gene_type[\n",
    "    ['hostgene_NCBI_ID', 'hostgene_Name', 'hostgene_strand', \n",
    "     'miR_name', 'miR_type','miR_strand', 'miR_ID', 'gene_type', 'host_gene_region']\n",
    "]"
   ]
  },
  {
   "cell_type": "code",
   "execution_count": 26,
   "id": "d5ae14d3-7a6c-445f-82b3-2631882d9863",
   "metadata": {},
   "outputs": [
    {
     "data": {
      "text/plain": [
       "9"
      ]
     },
     "execution_count": 26,
     "metadata": {},
     "output_type": "execute_result"
    }
   ],
   "source": [
    "len(mouse_intronicmiR_df_gene_type.columns)"
   ]
  },
  {
   "cell_type": "code",
   "execution_count": 27,
   "id": "4dc050dd-f92d-4b8a-95e4-8984f5afcd0f",
   "metadata": {
    "scrolled": true
   },
   "outputs": [
    {
     "data": {
      "text/html": [
       "<div>\n",
       "<style scoped>\n",
       "    .dataframe tbody tr th:only-of-type {\n",
       "        vertical-align: middle;\n",
       "    }\n",
       "\n",
       "    .dataframe tbody tr th {\n",
       "        vertical-align: top;\n",
       "    }\n",
       "\n",
       "    .dataframe thead th {\n",
       "        text-align: right;\n",
       "    }\n",
       "</style>\n",
       "<table border=\"1\" class=\"dataframe\">\n",
       "  <thead>\n",
       "    <tr style=\"text-align: right;\">\n",
       "      <th></th>\n",
       "      <th>hostgene_NCBI_ID</th>\n",
       "      <th>hostgene_Name</th>\n",
       "      <th>hostgene_strand</th>\n",
       "      <th>miR_name</th>\n",
       "      <th>miR_type</th>\n",
       "      <th>miR_strand</th>\n",
       "      <th>miR_ID</th>\n",
       "      <th>gene_type</th>\n",
       "      <th>host_gene_region</th>\n",
       "    </tr>\n",
       "  </thead>\n",
       "  <tbody>\n",
       "    <tr>\n",
       "      <th>0</th>\n",
       "      <td>XM_006496877.3</td>\n",
       "      <td>Rabgap1l</td>\n",
       "      <td>-</td>\n",
       "      <td>mmu-mir-1927</td>\n",
       "      <td>miRNA_primary_transcript</td>\n",
       "      <td>-</td>\n",
       "      <td>Alias=MI0009914</td>\n",
       "      <td>protein-coding gene</td>\n",
       "      <td>introns</td>\n",
       "    </tr>\n",
       "    <tr>\n",
       "      <th>5</th>\n",
       "      <td>XM_006495682.3</td>\n",
       "      <td>Dst</td>\n",
       "      <td>+</td>\n",
       "      <td>mmu-mir-6896</td>\n",
       "      <td>miRNA_primary_transcript</td>\n",
       "      <td>+</td>\n",
       "      <td>Alias=MI0022743</td>\n",
       "      <td>protein-coding gene</td>\n",
       "      <td>introns</td>\n",
       "    </tr>\n",
       "    <tr>\n",
       "      <th>35</th>\n",
       "      <td>NM_198899.2</td>\n",
       "      <td>Uggt1</td>\n",
       "      <td>-</td>\n",
       "      <td>mmu-mir-6897</td>\n",
       "      <td>miRNA_primary_transcript</td>\n",
       "      <td>-</td>\n",
       "      <td>Alias=MI0022744</td>\n",
       "      <td>protein-coding gene</td>\n",
       "      <td>introns</td>\n",
       "    </tr>\n",
       "    <tr>\n",
       "      <th>37</th>\n",
       "      <td>XM_006496351.3</td>\n",
       "      <td>Klf7</td>\n",
       "      <td>-</td>\n",
       "      <td>mmu-mir-6899</td>\n",
       "      <td>miRNA_primary_transcript</td>\n",
       "      <td>-</td>\n",
       "      <td>Alias=MI0022746</td>\n",
       "      <td>protein-coding gene</td>\n",
       "      <td>introns</td>\n",
       "    </tr>\n",
       "    <tr>\n",
       "      <th>44</th>\n",
       "      <td>NR_045311.1</td>\n",
       "      <td>6030407O03Rik</td>\n",
       "      <td>-</td>\n",
       "      <td>mmu-mir-6351</td>\n",
       "      <td>miRNA_primary_transcript</td>\n",
       "      <td>-</td>\n",
       "      <td>Alias=MI0021879</td>\n",
       "      <td>non-coding gene</td>\n",
       "      <td>introns</td>\n",
       "    </tr>\n",
       "    <tr>\n",
       "      <th>...</th>\n",
       "      <td>...</td>\n",
       "      <td>...</td>\n",
       "      <td>...</td>\n",
       "      <td>...</td>\n",
       "      <td>...</td>\n",
       "      <td>...</td>\n",
       "      <td>...</td>\n",
       "      <td>...</td>\n",
       "      <td>...</td>\n",
       "    </tr>\n",
       "    <tr>\n",
       "      <th>3987</th>\n",
       "      <td>XM_030250891.1</td>\n",
       "      <td>Cbwd1</td>\n",
       "      <td>-</td>\n",
       "      <td>mmu-mir-3084-1</td>\n",
       "      <td>miRNA_primary_transcript</td>\n",
       "      <td>-</td>\n",
       "      <td>Alias=MI0014047</td>\n",
       "      <td>protein-coding gene</td>\n",
       "      <td>introns</td>\n",
       "    </tr>\n",
       "    <tr>\n",
       "      <th>3991</th>\n",
       "      <td>NM_021525.2</td>\n",
       "      <td>Rcl1</td>\n",
       "      <td>+</td>\n",
       "      <td>mmu-mir-101b</td>\n",
       "      <td>miRNA_primary_transcript</td>\n",
       "      <td>+</td>\n",
       "      <td>Alias=MI0000649</td>\n",
       "      <td>protein-coding gene</td>\n",
       "      <td>introns</td>\n",
       "    </tr>\n",
       "    <tr>\n",
       "      <th>3994</th>\n",
       "      <td>XM_011247247.3</td>\n",
       "      <td>Kif20b</td>\n",
       "      <td>+</td>\n",
       "      <td>mmu-mir-1950</td>\n",
       "      <td>miRNA_primary_transcript</td>\n",
       "      <td>+</td>\n",
       "      <td>Alias=MI0009941</td>\n",
       "      <td>protein-coding gene</td>\n",
       "      <td>introns</td>\n",
       "    </tr>\n",
       "    <tr>\n",
       "      <th>4004</th>\n",
       "      <td>XR_386763.4</td>\n",
       "      <td>Gm36493</td>\n",
       "      <td>+</td>\n",
       "      <td>mmu-mir-146b</td>\n",
       "      <td>miRNA_primary_transcript</td>\n",
       "      <td>+</td>\n",
       "      <td>Alias=MI0004665</td>\n",
       "      <td>non-coding gene</td>\n",
       "      <td>introns</td>\n",
       "    </tr>\n",
       "    <tr>\n",
       "      <th>4007</th>\n",
       "      <td>NM_027559.2</td>\n",
       "      <td>Cfap43</td>\n",
       "      <td>-</td>\n",
       "      <td>mmu-mir-8090</td>\n",
       "      <td>miRNA_primary_transcript</td>\n",
       "      <td>-</td>\n",
       "      <td>Alias=MI0026017</td>\n",
       "      <td>protein-coding gene</td>\n",
       "      <td>introns</td>\n",
       "    </tr>\n",
       "  </tbody>\n",
       "</table>\n",
       "<p>599 rows × 9 columns</p>\n",
       "</div>"
      ],
      "text/plain": [
       "     hostgene_NCBI_ID  hostgene_Name hostgene_strand        miR_name  \\\n",
       "0      XM_006496877.3       Rabgap1l               -    mmu-mir-1927   \n",
       "5      XM_006495682.3            Dst               +    mmu-mir-6896   \n",
       "35        NM_198899.2          Uggt1               -    mmu-mir-6897   \n",
       "37     XM_006496351.3           Klf7               -    mmu-mir-6899   \n",
       "44        NR_045311.1  6030407O03Rik               -    mmu-mir-6351   \n",
       "...               ...            ...             ...             ...   \n",
       "3987   XM_030250891.1          Cbwd1               -  mmu-mir-3084-1   \n",
       "3991      NM_021525.2           Rcl1               +    mmu-mir-101b   \n",
       "3994   XM_011247247.3         Kif20b               +    mmu-mir-1950   \n",
       "4004      XR_386763.4        Gm36493               +    mmu-mir-146b   \n",
       "4007      NM_027559.2         Cfap43               -    mmu-mir-8090   \n",
       "\n",
       "                      miR_type miR_strand           miR_ID  \\\n",
       "0     miRNA_primary_transcript          -  Alias=MI0009914   \n",
       "5     miRNA_primary_transcript          +  Alias=MI0022743   \n",
       "35    miRNA_primary_transcript          -  Alias=MI0022744   \n",
       "37    miRNA_primary_transcript          -  Alias=MI0022746   \n",
       "44    miRNA_primary_transcript          -  Alias=MI0021879   \n",
       "...                        ...        ...              ...   \n",
       "3987  miRNA_primary_transcript          -  Alias=MI0014047   \n",
       "3991  miRNA_primary_transcript          +  Alias=MI0000649   \n",
       "3994  miRNA_primary_transcript          +  Alias=MI0009941   \n",
       "4004  miRNA_primary_transcript          +  Alias=MI0004665   \n",
       "4007  miRNA_primary_transcript          -  Alias=MI0026017   \n",
       "\n",
       "                gene_type host_gene_region  \n",
       "0     protein-coding gene          introns  \n",
       "5     protein-coding gene          introns  \n",
       "35    protein-coding gene          introns  \n",
       "37    protein-coding gene          introns  \n",
       "44        non-coding gene          introns  \n",
       "...                   ...              ...  \n",
       "3987  protein-coding gene          introns  \n",
       "3991  protein-coding gene          introns  \n",
       "3994  protein-coding gene          introns  \n",
       "4004      non-coding gene          introns  \n",
       "4007  protein-coding gene          introns  \n",
       "\n",
       "[599 rows x 9 columns]"
      ]
     },
     "execution_count": 27,
     "metadata": {},
     "output_type": "execute_result"
    }
   ],
   "source": [
    "mouse_intronicmiR_df_gene_type"
   ]
  },
  {
   "cell_type": "code",
   "execution_count": 28,
   "id": "71a00b72-24bf-422e-a9f5-6a06c91a6371",
   "metadata": {},
   "outputs": [],
   "source": [
    "mouse_intramiR_gene_type=pd.concat([mouse_intramiR_exonic_gene_type,mouse_intronicmiR_df_gene_type],axis=0)"
   ]
  },
  {
   "cell_type": "code",
   "execution_count": 29,
   "id": "e679ec34-48af-4297-8037-fab3411aef20",
   "metadata": {},
   "outputs": [
    {
     "data": {
      "text/plain": [
       "(769, 9)"
      ]
     },
     "execution_count": 29,
     "metadata": {},
     "output_type": "execute_result"
    }
   ],
   "source": [
    "mouse_intramiR_gene_type.shape"
   ]
  },
  {
   "cell_type": "markdown",
   "id": "03f02809-18b5-4778-be6c-4431ea434de4",
   "metadata": {},
   "source": [
    "## Plot (protein-coding)"
   ]
  },
  {
   "cell_type": "code",
   "execution_count": 30,
   "id": "bf106585-e6a0-4dec-873d-66944e499c0b",
   "metadata": {},
   "outputs": [],
   "source": [
    "mm_intramiR_coding_df=mouse_intramiR_gene_type.loc[mouse_intramiR_gene_type['gene_type']==\"protein-coding gene\"]"
   ]
  },
  {
   "cell_type": "code",
   "execution_count": 31,
   "id": "c171b760-894f-4d3e-91a0-fce9b5043fdc",
   "metadata": {},
   "outputs": [],
   "source": [
    "mm_intramiR_coding=mm_intramiR_coding_df.groupby(mm_intramiR_coding_df['host_gene_region']).size().reset_index(name='Count')"
   ]
  },
  {
   "cell_type": "code",
   "execution_count": 32,
   "id": "a3f200d3-2dc9-4073-bdfc-5181a754ea05",
   "metadata": {},
   "outputs": [
    {
     "data": {
      "text/html": [
       "<div>\n",
       "<style scoped>\n",
       "    .dataframe tbody tr th:only-of-type {\n",
       "        vertical-align: middle;\n",
       "    }\n",
       "\n",
       "    .dataframe tbody tr th {\n",
       "        vertical-align: top;\n",
       "    }\n",
       "\n",
       "    .dataframe thead th {\n",
       "        text-align: right;\n",
       "    }\n",
       "</style>\n",
       "<table border=\"1\" class=\"dataframe\">\n",
       "  <thead>\n",
       "    <tr style=\"text-align: right;\">\n",
       "      <th></th>\n",
       "      <th>host_gene_region</th>\n",
       "      <th>Count</th>\n",
       "    </tr>\n",
       "  </thead>\n",
       "  <tbody>\n",
       "    <tr>\n",
       "      <th>0</th>\n",
       "      <td>exons</td>\n",
       "      <td>83</td>\n",
       "    </tr>\n",
       "    <tr>\n",
       "      <th>1</th>\n",
       "      <td>introns</td>\n",
       "      <td>510</td>\n",
       "    </tr>\n",
       "  </tbody>\n",
       "</table>\n",
       "</div>"
      ],
      "text/plain": [
       "  host_gene_region  Count\n",
       "0            exons     83\n",
       "1          introns    510"
      ]
     },
     "execution_count": 32,
     "metadata": {},
     "output_type": "execute_result"
    }
   ],
   "source": [
    "mm_intramiR_coding"
   ]
  },
  {
   "cell_type": "code",
   "execution_count": 33,
   "id": "d8d44c7b-a879-489d-a9d0-0155efeda70b",
   "metadata": {},
   "outputs": [],
   "source": [
    "mm_exonic_intramiR_coding= mm_intramiR_coding[mm_intramiR_coding['host_gene_region']=='exons'].sum()\n",
    "mm_intronic_intramiR_coding= mm_intramiR_coding[mm_intramiR_coding['host_gene_region']=='introns'].sum()"
   ]
  },
  {
   "cell_type": "code",
   "execution_count": 34,
   "id": "3ebcddfa-a7f5-43d2-9cb9-a71750d40265",
   "metadata": {},
   "outputs": [
    {
     "data": {
      "image/png": "[encoded data removed]",
      "text/plain": [
       "<Figure size 1500x800 with 1 Axes>"
      ]
     },
     "metadata": {},
     "output_type": "display_data"
    }
   ],
   "source": [
    "#Mouse miR loci distribution pie Chart\n",
    "labels = ['Exons miRNAs', 'Intronic miRNAs']\n",
    "sizes = [mm_exonic_intramiR_coding['Count'], mm_intronic_intramiR_coding['Count']]\n",
    "colors = ['skyblue','lightcoral', ]\n",
    "plt.figure(figsize=(15, 8)) \n",
    "plt.pie(sizes, labels=labels, colors=colors, autopct='%1.1f%%')\n",
    "plt.axis('equal')  # Equal aspect ratio ensures that pie is drawn as a circle\n",
    "plt.title('Type of mouse intragenic coding (intronic vs exonic miRNAs) miRNome')\n",
    "plt.savefig(f'{current_dir}/Pie_charts/Type of mouse intragenic coding (intronic vs exonic miRNAs) miRNome.eps')\n",
    "plt.show()"
   ]
  },
  {
   "cell_type": "code",
   "execution_count": 35,
   "id": "bf720362-01fd-4742-be40-be8987bfe98f",
   "metadata": {},
   "outputs": [],
   "source": [
    "##save the tables for MS\n",
    "mm_intramiR_coding_df.to_excel(f'{current_dir}/MS_tables/Mouse_Table_protein_coding_Fig2C.xlsx', index=False)"
   ]
  },
  {
   "cell_type": "markdown",
   "id": "a82f0c14-6786-41a9-aa55-2b908446c4a8",
   "metadata": {},
   "source": [
    "## Plot (non-coding)"
   ]
  },
  {
   "cell_type": "code",
   "execution_count": 36,
   "id": "9ebd5c98-e3b4-4af7-9c88-62cd3346eb7f",
   "metadata": {},
   "outputs": [],
   "source": [
    "mm_intramiR_noncoding_df=mouse_intramiR_gene_type.loc[mouse_intramiR_gene_type['gene_type']==\"non-coding gene\"]"
   ]
  },
  {
   "cell_type": "code",
   "execution_count": 37,
   "id": "7ef04913-7bb4-4506-b710-495d0d0d1131",
   "metadata": {},
   "outputs": [],
   "source": [
    "mm_intramiR_noncoding=mm_intramiR_noncoding_df.groupby(mm_intramiR_noncoding_df['host_gene_region']).size().reset_index(name='Count')"
   ]
  },
  {
   "cell_type": "code",
   "execution_count": 38,
   "id": "81bc4dfa-a5ea-46e5-a4a9-2243b78dbb2b",
   "metadata": {},
   "outputs": [
    {
     "data": {
      "text/html": [
       "<div>\n",
       "<style scoped>\n",
       "    .dataframe tbody tr th:only-of-type {\n",
       "        vertical-align: middle;\n",
       "    }\n",
       "\n",
       "    .dataframe tbody tr th {\n",
       "        vertical-align: top;\n",
       "    }\n",
       "\n",
       "    .dataframe thead th {\n",
       "        text-align: right;\n",
       "    }\n",
       "</style>\n",
       "<table border=\"1\" class=\"dataframe\">\n",
       "  <thead>\n",
       "    <tr style=\"text-align: right;\">\n",
       "      <th></th>\n",
       "      <th>host_gene_region</th>\n",
       "      <th>Count</th>\n",
       "    </tr>\n",
       "  </thead>\n",
       "  <tbody>\n",
       "    <tr>\n",
       "      <th>0</th>\n",
       "      <td>exons</td>\n",
       "      <td>87</td>\n",
       "    </tr>\n",
       "    <tr>\n",
       "      <th>1</th>\n",
       "      <td>introns</td>\n",
       "      <td>89</td>\n",
       "    </tr>\n",
       "  </tbody>\n",
       "</table>\n",
       "</div>"
      ],
      "text/plain": [
       "  host_gene_region  Count\n",
       "0            exons     87\n",
       "1          introns     89"
      ]
     },
     "execution_count": 38,
     "metadata": {},
     "output_type": "execute_result"
    }
   ],
   "source": [
    "mm_intramiR_noncoding"
   ]
  },
  {
   "cell_type": "code",
   "execution_count": 39,
   "id": "f8c112ca-da15-4580-befa-1783ea064e5c",
   "metadata": {},
   "outputs": [],
   "source": [
    "mm_exonic_intramiR_noncoding= mm_intramiR_noncoding[mm_intramiR_noncoding['host_gene_region']=='exons'].sum()\n",
    "mm_intronic_intramiR_noncoding= mm_intramiR_noncoding[mm_intramiR_noncoding['host_gene_region']=='introns'].sum()"
   ]
  },
  {
   "cell_type": "code",
   "execution_count": 40,
   "id": "f20dd1a3-fbae-4132-804c-f420b8b6b9c3",
   "metadata": {},
   "outputs": [
    {
     "data": {
      "image/png": "[encoded data removed]",
      "text/plain": [
       "<Figure size 1500x800 with 1 Axes>"
      ]
     },
     "metadata": {},
     "output_type": "display_data"
    }
   ],
   "source": [
    "#Mouse miR loci distribution pie Chart\n",
    "labels = ['Exons miRNAs', 'Intronic miRNAs']\n",
    "sizes = [mm_exonic_intramiR_noncoding['Count'], mm_intronic_intramiR_noncoding['Count']]\n",
    "colors = ['skyblue','lightcoral', ]\n",
    "plt.figure(figsize=(15, 8)) \n",
    "plt.pie(sizes, labels=labels, colors=colors, autopct='%1.1f%%')\n",
    "plt.axis('equal')  # Equal aspect ratio ensures that pie is drawn as a circle\n",
    "plt.title('Type of mouse intragenic noncoding (intronic vs exonic miRNAs) miRNome')\n",
    "plt.savefig(f'{current_dir}/Pie_charts/Type of mouse intragenic noncoding (intronic vs exonic miRNAs) miRNome.eps')\n",
    "plt.show()\n"
   ]
  },
  {
   "cell_type": "code",
   "execution_count": 41,
   "id": "321f9bff-6b7c-440a-9bba-e8c1d973766b",
   "metadata": {},
   "outputs": [],
   "source": [
    "##save the tables for MS\n",
    "mm_intramiR_noncoding_df.to_excel(f'{current_dir}/MS_tables/Mouse_Table_noncoding_Fig2C.xlsx',index=False)"
   ]
  },
  {
   "cell_type": "code",
   "execution_count": null,
   "id": "c91fd59a-0e3f-4702-a981-0f042a9cf56a",
   "metadata": {},
   "outputs": [],
   "source": []
  },
  {
   "cell_type": "code",
   "execution_count": null,
   "id": "40af5144-92a5-4265-87f7-b5aae0e87e23",
   "metadata": {},
   "outputs": [],
   "source": []
  },
  {
   "cell_type": "code",
   "execution_count": null,
   "id": "4287f084-e108-424b-8883-92c8b3a4737e",
   "metadata": {},
   "outputs": [],
   "source": []
  },
  {
   "cell_type": "code",
   "execution_count": null,
   "id": "bd84ae22-d2aa-4483-8bcf-0203662179ec",
   "metadata": {},
   "outputs": [],
   "source": []
  },
  {
   "cell_type": "code",
   "execution_count": null,
   "id": "35f7eaa2-e751-4056-bf0f-599577cbb498",
   "metadata": {},
   "outputs": [],
   "source": []
  },
  {
   "cell_type": "code",
   "execution_count": null,
   "id": "a129a593-f76a-425c-8913-a724b5bebbbe",
   "metadata": {},
   "outputs": [],
   "source": []
  },
  {
   "cell_type": "code",
   "execution_count": null,
   "id": "6880c294-b941-4441-a0a3-52e10cf9936b",
   "metadata": {},
   "outputs": [],
   "source": []
  },
  {
   "cell_type": "code",
   "execution_count": null,
   "id": "b0c1c7d2-0d05-4312-b887-136e223e675a",
   "metadata": {},
   "outputs": [],
   "source": []
  },
  {
   "cell_type": "code",
   "execution_count": null,
   "id": "be0e4db1-c891-44ec-98a3-27acfb4dd010",
   "metadata": {},
   "outputs": [],
   "source": []
  },
  {
   "cell_type": "code",
   "execution_count": null,
   "id": "22cdf1cf-1534-485c-804e-7e5c293c294c",
   "metadata": {},
   "outputs": [],
   "source": []
  },
  {
   "cell_type": "code",
   "execution_count": null,
   "id": "15c5293f-82d5-4671-9891-239de52564c0",
   "metadata": {},
   "outputs": [],
   "source": []
  },
  {
   "cell_type": "code",
   "execution_count": null,
   "id": "78970283-4edb-4b52-b3ea-17fbc854ad52",
   "metadata": {},
   "outputs": [],
   "source": []
  },
  {
   "cell_type": "code",
   "execution_count": null,
   "id": "21b684b4-67b6-4237-9e5e-9ab2f054cb01",
   "metadata": {},
   "outputs": [],
   "source": []
  },
  {
   "cell_type": "code",
   "execution_count": null,
   "id": "b2386f4f-f414-4049-a886-90002401c6c2",
   "metadata": {},
   "outputs": [],
   "source": []
  },
  {
   "cell_type": "code",
   "execution_count": null,
   "id": "4b0beb6b-559c-4770-8105-04537334a128",
   "metadata": {},
   "outputs": [],
   "source": []
  },
  {
   "cell_type": "code",
   "execution_count": 9,
   "id": "69f5cf64-856e-4535-9195-3c72241893a8",
   "metadata": {},
   "outputs": [],
   "source": [
    "df1=pd.concat([mouse_exonicmiR_df_coding, mouse_exonicmiR_df_noncoding],axis=0)"
   ]
  },
  {
   "cell_type": "code",
   "execution_count": 10,
   "id": "73e97378-9422-427e-bcaa-580467ff87b5",
   "metadata": {},
   "outputs": [
    {
     "data": {
      "text/plain": [
       "(170, 21)"
      ]
     },
     "execution_count": 10,
     "metadata": {},
     "output_type": "execute_result"
    }
   ],
   "source": [
    "df1.shape"
   ]
  },
  {
   "cell_type": "code",
   "execution_count": 22,
   "id": "63f00222-5160-45f2-8820-5527893905ff",
   "metadata": {},
   "outputs": [
    {
     "data": {
      "text/html": [
       "<div>\n",
       "<style scoped>\n",
       "    .dataframe tbody tr th:only-of-type {\n",
       "        vertical-align: middle;\n",
       "    }\n",
       "\n",
       "    .dataframe tbody tr th {\n",
       "        vertical-align: top;\n",
       "    }\n",
       "\n",
       "    .dataframe thead th {\n",
       "        text-align: right;\n",
       "    }\n",
       "</style>\n",
       "<table border=\"1\" class=\"dataframe\">\n",
       "  <thead>\n",
       "    <tr style=\"text-align: right;\">\n",
       "      <th></th>\n",
       "      <th>hostgene_chrom</th>\n",
       "      <th>hostgene_exonStarts</th>\n",
       "      <th>hostgene_exonEnds</th>\n",
       "      <th>hostgene_cdsStart</th>\n",
       "      <th>hostgene_cdsEnd</th>\n",
       "      <th>hostgene_strand</th>\n",
       "      <th>hostgene_exonCounts</th>\n",
       "      <th>hostgene_txStarts</th>\n",
       "      <th>hostgene_txEnds</th>\n",
       "      <th>pre_mRNA_length</th>\n",
       "      <th>...</th>\n",
       "      <th>hostgene_Name</th>\n",
       "      <th>hostgene_NCBI_ID</th>\n",
       "      <th>miR_name</th>\n",
       "      <th>miR_chrom</th>\n",
       "      <th>miR_exonStarts</th>\n",
       "      <th>miR_exonEnds</th>\n",
       "      <th>miR_type</th>\n",
       "      <th>miR_strand</th>\n",
       "      <th>miR_ID</th>\n",
       "      <th>gene_type</th>\n",
       "    </tr>\n",
       "  </thead>\n",
       "  <tbody>\n",
       "    <tr>\n",
       "      <th>0</th>\n",
       "      <td>chr1</td>\n",
       "      <td>195033822</td>\n",
       "      <td>195037908</td>\n",
       "      <td>195037908</td>\n",
       "      <td>195037908</td>\n",
       "      <td>+</td>\n",
       "      <td>8</td>\n",
       "      <td>195017398</td>\n",
       "      <td>195037908</td>\n",
       "      <td>20510.0</td>\n",
       "      <td>...</td>\n",
       "      <td>A330023F24Rik</td>\n",
       "      <td>NR_015566.2</td>\n",
       "      <td>mmu-mir-29b-2</td>\n",
       "      <td>chr1</td>\n",
       "      <td>195037040</td>\n",
       "      <td>195037120</td>\n",
       "      <td>miRNA_primary_transcript</td>\n",
       "      <td>+</td>\n",
       "      <td>Alias=MI0000712</td>\n",
       "      <td>non-coding gene</td>\n",
       "    </tr>\n",
       "    <tr>\n",
       "      <th>1</th>\n",
       "      <td>chr1</td>\n",
       "      <td>195033822</td>\n",
       "      <td>195037908</td>\n",
       "      <td>195037908</td>\n",
       "      <td>195037908</td>\n",
       "      <td>+</td>\n",
       "      <td>8</td>\n",
       "      <td>195017398</td>\n",
       "      <td>195037908</td>\n",
       "      <td>20510.0</td>\n",
       "      <td>...</td>\n",
       "      <td>A330023F24Rik</td>\n",
       "      <td>NR_015566.2</td>\n",
       "      <td>mmu-mir-29c</td>\n",
       "      <td>chr1</td>\n",
       "      <td>195037547</td>\n",
       "      <td>195037634</td>\n",
       "      <td>miRNA_primary_transcript</td>\n",
       "      <td>+</td>\n",
       "      <td>Alias=MI0000577</td>\n",
       "      <td>non-coding gene</td>\n",
       "    </tr>\n",
       "    <tr>\n",
       "      <th>2</th>\n",
       "      <td>chr1</td>\n",
       "      <td>20682712</td>\n",
       "      <td>20682958</td>\n",
       "      <td>20682958</td>\n",
       "      <td>20682958</td>\n",
       "      <td>+</td>\n",
       "      <td>3</td>\n",
       "      <td>20669881</td>\n",
       "      <td>20682958</td>\n",
       "      <td>13077.0</td>\n",
       "      <td>...</td>\n",
       "      <td>Lincmd1</td>\n",
       "      <td>NR_131249.1</td>\n",
       "      <td>mmu-mir-133b</td>\n",
       "      <td>chr1</td>\n",
       "      <td>20682769</td>\n",
       "      <td>20682887</td>\n",
       "      <td>miRNA_primary_transcript</td>\n",
       "      <td>+</td>\n",
       "      <td>Alias=MI0000821</td>\n",
       "      <td>non-coding gene</td>\n",
       "    </tr>\n",
       "    <tr>\n",
       "      <th>3</th>\n",
       "      <td>chr1</td>\n",
       "      <td>86351980</td>\n",
       "      <td>86352127</td>\n",
       "      <td>86352127</td>\n",
       "      <td>86352127</td>\n",
       "      <td>-</td>\n",
       "      <td>1</td>\n",
       "      <td>86351980</td>\n",
       "      <td>86352127</td>\n",
       "      <td>147.0</td>\n",
       "      <td>...</td>\n",
       "      <td>Gm24148</td>\n",
       "      <td>NR_106184.1</td>\n",
       "      <td>mmu-mir-3535</td>\n",
       "      <td>chr1</td>\n",
       "      <td>86351981</td>\n",
       "      <td>86352127</td>\n",
       "      <td>miRNA_primary_transcript</td>\n",
       "      <td>-</td>\n",
       "      <td>Alias=MI0026036</td>\n",
       "      <td>non-coding gene</td>\n",
       "    </tr>\n",
       "    <tr>\n",
       "      <th>4</th>\n",
       "      <td>chr1</td>\n",
       "      <td>134946233</td>\n",
       "      <td>134946299</td>\n",
       "      <td>134946299</td>\n",
       "      <td>134946299</td>\n",
       "      <td>-</td>\n",
       "      <td>1</td>\n",
       "      <td>134946233</td>\n",
       "      <td>134946299</td>\n",
       "      <td>66.0</td>\n",
       "      <td>...</td>\n",
       "      <td>Gm51265</td>\n",
       "      <td>NR_162775.1</td>\n",
       "      <td>mmu-mir-5104b</td>\n",
       "      <td>chr1</td>\n",
       "      <td>134946234</td>\n",
       "      <td>134946299</td>\n",
       "      <td>miRNA_primary_transcript</td>\n",
       "      <td>-</td>\n",
       "      <td>Alias=MI0040615</td>\n",
       "      <td>non-coding gene</td>\n",
       "    </tr>\n",
       "  </tbody>\n",
       "</table>\n",
       "<p>5 rows × 21 columns</p>\n",
       "</div>"
      ],
      "text/plain": [
       "  hostgene_chrom  hostgene_exonStarts  hostgene_exonEnds  hostgene_cdsStart  \\\n",
       "0           chr1            195033822          195037908          195037908   \n",
       "1           chr1            195033822          195037908          195037908   \n",
       "2           chr1             20682712           20682958           20682958   \n",
       "3           chr1             86351980           86352127           86352127   \n",
       "4           chr1            134946233          134946299          134946299   \n",
       "\n",
       "   hostgene_cdsEnd hostgene_strand  hostgene_exonCounts  hostgene_txStarts  \\\n",
       "0        195037908               +                    8          195017398   \n",
       "1        195037908               +                    8          195017398   \n",
       "2         20682958               +                    3           20669881   \n",
       "3         86352127               -                    1           86351980   \n",
       "4        134946299               -                    1          134946233   \n",
       "\n",
       "   hostgene_txEnds  pre_mRNA_length  ...  hostgene_Name hostgene_NCBI_ID  \\\n",
       "0        195037908          20510.0  ...  A330023F24Rik      NR_015566.2   \n",
       "1        195037908          20510.0  ...  A330023F24Rik      NR_015566.2   \n",
       "2         20682958          13077.0  ...        Lincmd1      NR_131249.1   \n",
       "3         86352127            147.0  ...        Gm24148      NR_106184.1   \n",
       "4        134946299             66.0  ...        Gm51265      NR_162775.1   \n",
       "\n",
       "        miR_name miR_chrom miR_exonStarts  miR_exonEnds  \\\n",
       "0  mmu-mir-29b-2      chr1      195037040     195037120   \n",
       "1    mmu-mir-29c      chr1      195037547     195037634   \n",
       "2   mmu-mir-133b      chr1       20682769      20682887   \n",
       "3   mmu-mir-3535      chr1       86351981      86352127   \n",
       "4  mmu-mir-5104b      chr1      134946234     134946299   \n",
       "\n",
       "                   miR_type miR_strand           miR_ID        gene_type  \n",
       "0  miRNA_primary_transcript          +  Alias=MI0000712  non-coding gene  \n",
       "1  miRNA_primary_transcript          +  Alias=MI0000577  non-coding gene  \n",
       "2  miRNA_primary_transcript          +  Alias=MI0000821  non-coding gene  \n",
       "3  miRNA_primary_transcript          -  Alias=MI0026036  non-coding gene  \n",
       "4  miRNA_primary_transcript          -  Alias=MI0040615  non-coding gene  \n",
       "\n",
       "[5 rows x 21 columns]"
      ]
     },
     "execution_count": 22,
     "metadata": {},
     "output_type": "execute_result"
    }
   ],
   "source": [
    "df2.head()"
   ]
  },
  {
   "cell_type": "code",
   "execution_count": 14,
   "id": "a243b5de-20da-4e12-be88-8f0e9310efd9",
   "metadata": {},
   "outputs": [],
   "source": [
    "df2=pd.read_csv(f\"{current_dir}/Mouse_csv_file/mouse_exonic_miR(gene_type)_NCBI.csv\")"
   ]
  },
  {
   "cell_type": "code",
   "execution_count": 15,
   "id": "15c6b19d-9d5a-49af-8058-bdb63e297c53",
   "metadata": {},
   "outputs": [],
   "source": [
    "df2=df2.drop_duplicates(subset=['miR_name'])"
   ]
  },
  {
   "cell_type": "code",
   "execution_count": 17,
   "id": "e1f40460-c5a3-484a-894a-8bf411371757",
   "metadata": {},
   "outputs": [
    {
     "data": {
      "text/plain": [
       "(173, 21)"
      ]
     },
     "execution_count": 17,
     "metadata": {},
     "output_type": "execute_result"
    }
   ],
   "source": [
    "df1.shape"
   ]
  },
  {
   "cell_type": "code",
   "execution_count": 16,
   "id": "a8b92a23-096c-44d5-bc78-b14da865cc9a",
   "metadata": {},
   "outputs": [
    {
     "data": {
      "text/plain": [
       "(170, 21)"
      ]
     },
     "execution_count": 16,
     "metadata": {},
     "output_type": "execute_result"
    }
   ],
   "source": [
    "df2.shape"
   ]
  },
  {
   "cell_type": "code",
   "execution_count": 19,
   "id": "fd340282-e42b-44ba-aa09-c5145d41cdcf",
   "metadata": {},
   "outputs": [],
   "source": [
    "df1_new=df1[[\"hostgene_Name\"]]"
   ]
  },
  {
   "cell_type": "code",
   "execution_count": 20,
   "id": "ed03bffc-7536-4eb2-9eff-792c18a288f5",
   "metadata": {},
   "outputs": [],
   "source": [
    "df2_new=df2[[\"hostgene_Name\"]]"
   ]
  },
  {
   "cell_type": "code",
   "execution_count": 24,
   "id": "a7db57d5-82b4-497c-a92a-d635e7750e4d",
   "metadata": {},
   "outputs": [
    {
     "data": {
      "text/plain": [
       "49       Chpf2\n",
       "279    Dennd6b\n",
       "313      Clcn7\n",
       "Name: hostgene_Name, dtype: object"
      ]
     },
     "execution_count": 24,
     "metadata": {},
     "output_type": "execute_result"
    }
   ],
   "source": [
    "# Align the two Series to have the same index\n",
    "df1_aligned, df2_aligned = df1_new['hostgene_Name'].align(df2_new['hostgene_Name'], fill_value=None)\n",
    "\n",
    "# Compare the aligned Series\n",
    "different_values = df1_aligned[df2_aligned != df1_aligned]\n",
    "\n",
    "different_values"
   ]
  }
 ],
 "metadata": {
  "kernelspec": {
   "display_name": "Python 3 (ipykernel)",
   "language": "python",
   "name": "python3"
  },
  "language_info": {
   "codemirror_mode": {
    "name": "ipython",
    "version": 3
   },
   "file_extension": ".py",
   "mimetype": "text/x-python",
   "name": "python",
   "nbconvert_exporter": "python",
   "pygments_lexer": "ipython3",
   "version": "3.9.13"
  }
 },
 "nbformat": 4,
 "nbformat_minor": 5
}
