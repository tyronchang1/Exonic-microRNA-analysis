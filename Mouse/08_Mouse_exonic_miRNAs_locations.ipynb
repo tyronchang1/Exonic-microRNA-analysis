{
 "cells": [
  {
   "cell_type": "markdown",
   "id": "04e68ea2-3683-4225-9095-49b27584f616",
   "metadata": {},
   "source": [
    "### Map the locations of exonic microRNAs using OOP(e.g. 3'UTR,5'UTR, CDS,etc.)"
   ]
  },
  {
   "cell_type": "markdown",
   "id": "6788bd48-ab03-4f2d-8f3b-473bca1c276a",
   "metadata": {},
   "source": [
    "### Mouse"
   ]
  },
  {
   "cell_type": "code",
   "execution_count": 1,
   "id": "42f245f6-99e2-4cf3-bf3a-ff1ce1a9a121",
   "metadata": {},
   "outputs": [
    {
     "name": "stdout",
     "output_type": "stream",
     "text": [
      "importing Jupyter notebook from /Users/tyronchang/Desktop/exonic-microrna-analysis/github3/Mouse/utils/EXONIC.ipynb\n"
     ]
    }
   ],
   "source": [
    "import import_ipynb\n",
    "import os\n",
    "import matplotlib.pyplot as plt\n",
    "from utils.EXONIC import Regions"
   ]
  },
  {
   "cell_type": "code",
   "execution_count": 2,
   "id": "9c19dc36-d705-4caa-a34f-246371e56483",
   "metadata": {},
   "outputs": [],
   "source": [
    "current_dir=os.getcwd()"
   ]
  },
  {
   "cell_type": "code",
   "execution_count": 3,
   "id": "ca0e0eba-6d6a-46f5-a696-6d9bfa8f7d42",
   "metadata": {},
   "outputs": [],
   "source": [
    "csv_file_path=f'{current_dir}/Mouse_csv_file'\n",
    "excel_file_path=f'{current_dir}/Mouse_excel_file'"
   ]
  },
  {
   "cell_type": "code",
   "execution_count": 4,
   "id": "fd469145-35c2-41bc-820a-a1c615ccc890",
   "metadata": {},
   "outputs": [],
   "source": [
    "all_exonic_mouse_exonic_miR=Regions(f'{csv_file_path}/mouse_exonic_miR(gene_type)_NCBI.csv')"
   ]
  },
  {
   "cell_type": "code",
   "execution_count": 5,
   "id": "711e4187-a442-4694-b948-b09fbe1ad597",
   "metadata": {},
   "outputs": [
    {
     "data": {
      "text/plain": [
       "Index(['hostgene_chrom', 'hostgene_exonStarts', 'hostgene_exonEnds',\n",
       "       'hostgene_cdsStart', 'hostgene_cdsEnd', 'hostgene_strand',\n",
       "       'hostgene_exonCounts', 'hostgene_txStarts', 'hostgene_txEnds',\n",
       "       'pre_mRNA_length', 'mature_host_mRNA_Length', 'hostgene_Name',\n",
       "       'hostgene_NCBI_ID', 'miR_name', 'miR_chrom', 'miR_exonStarts',\n",
       "       'miR_exonEnds', 'miR_type', 'miR_strand', 'miR_ID', 'gene_type'],\n",
       "      dtype='object')"
      ]
     },
     "execution_count": 5,
     "metadata": {},
     "output_type": "execute_result"
    }
   ],
   "source": [
    "all_exonic_mouse_exonic_miR.df.columns"
   ]
  },
  {
   "cell_type": "code",
   "execution_count": 6,
   "id": "3f5a918f-ece3-407a-9765-dc7c86c5165e",
   "metadata": {},
   "outputs": [],
   "source": [
    "all_exonic_mouse_exonic_miR.select(['hostgene_NCBI_ID','hostgene_Name','hostgene_strand','miR_name', \n",
    "                                   'miR_strand','gene_type'])"
   ]
  },
  {
   "cell_type": "code",
   "execution_count": 7,
   "id": "5cbd0e46-c3cd-45c9-915b-3c904c4c6ec7",
   "metadata": {},
   "outputs": [],
   "source": [
    "all_exonic_mouse_exonic_miR.df.to_csv(f'{csv_file_path}/mouse_exonic_miR_list(all_host_genes)_NCBI_no_loc.csv',index=False)\n",
    "all_exonic_mouse_exonic_miR.df.to_excel(f'{excel_file_path}/mouse_exonic_miR_list(all_host_genes)_NCBI_no_loc.xlsx',index=False)\n",
    "#### without the genomic coordinates"
   ]
  },
  {
   "cell_type": "code",
   "execution_count": 8,
   "id": "7202c80d-4966-4125-9d48-81a4c308c118",
   "metadata": {},
   "outputs": [],
   "source": [
    "finalized_mouse_exonic_miR=Regions(f'{csv_file_path}/mouse_exonic_miR(gene_type)_NCBI.csv')"
   ]
  },
  {
   "cell_type": "code",
   "execution_count": 9,
   "id": "d90c5ca1-ca66-4431-9149-5a3be117337a",
   "metadata": {},
   "outputs": [
    {
     "data": {
      "text/html": [
       "<div>\n",
       "<style scoped>\n",
       "    .dataframe tbody tr th:only-of-type {\n",
       "        vertical-align: middle;\n",
       "    }\n",
       "\n",
       "    .dataframe tbody tr th {\n",
       "        vertical-align: top;\n",
       "    }\n",
       "\n",
       "    .dataframe thead th {\n",
       "        text-align: right;\n",
       "    }\n",
       "</style>\n",
       "<table border=\"1\" class=\"dataframe\">\n",
       "  <thead>\n",
       "    <tr style=\"text-align: right;\">\n",
       "      <th></th>\n",
       "      <th>hostgene_chrom</th>\n",
       "      <th>hostgene_exonStarts</th>\n",
       "      <th>hostgene_exonEnds</th>\n",
       "      <th>hostgene_cdsStart</th>\n",
       "      <th>hostgene_cdsEnd</th>\n",
       "      <th>hostgene_strand</th>\n",
       "      <th>hostgene_exonCounts</th>\n",
       "      <th>hostgene_txStarts</th>\n",
       "      <th>hostgene_txEnds</th>\n",
       "      <th>pre_mRNA_length</th>\n",
       "      <th>...</th>\n",
       "      <th>hostgene_Name</th>\n",
       "      <th>hostgene_NCBI_ID</th>\n",
       "      <th>miR_name</th>\n",
       "      <th>miR_chrom</th>\n",
       "      <th>miR_exonStarts</th>\n",
       "      <th>miR_exonEnds</th>\n",
       "      <th>miR_type</th>\n",
       "      <th>miR_strand</th>\n",
       "      <th>miR_ID</th>\n",
       "      <th>gene_type</th>\n",
       "    </tr>\n",
       "  </thead>\n",
       "  <tbody>\n",
       "    <tr>\n",
       "      <th>0</th>\n",
       "      <td>chr1</td>\n",
       "      <td>195033822</td>\n",
       "      <td>195037908</td>\n",
       "      <td>195037908</td>\n",
       "      <td>195037908</td>\n",
       "      <td>+</td>\n",
       "      <td>8</td>\n",
       "      <td>195017398</td>\n",
       "      <td>195037908</td>\n",
       "      <td>20510.0</td>\n",
       "      <td>...</td>\n",
       "      <td>A330023F24Rik</td>\n",
       "      <td>NR_015566.2</td>\n",
       "      <td>mmu-mir-29b-2</td>\n",
       "      <td>chr1</td>\n",
       "      <td>195037040</td>\n",
       "      <td>195037120</td>\n",
       "      <td>miRNA_primary_transcript</td>\n",
       "      <td>+</td>\n",
       "      <td>Alias=MI0000712</td>\n",
       "      <td>non-coding gene</td>\n",
       "    </tr>\n",
       "    <tr>\n",
       "      <th>1</th>\n",
       "      <td>chr1</td>\n",
       "      <td>195033822</td>\n",
       "      <td>195037908</td>\n",
       "      <td>195037908</td>\n",
       "      <td>195037908</td>\n",
       "      <td>+</td>\n",
       "      <td>8</td>\n",
       "      <td>195017398</td>\n",
       "      <td>195037908</td>\n",
       "      <td>20510.0</td>\n",
       "      <td>...</td>\n",
       "      <td>A330023F24Rik</td>\n",
       "      <td>NR_015566.2</td>\n",
       "      <td>mmu-mir-29c</td>\n",
       "      <td>chr1</td>\n",
       "      <td>195037547</td>\n",
       "      <td>195037634</td>\n",
       "      <td>miRNA_primary_transcript</td>\n",
       "      <td>+</td>\n",
       "      <td>Alias=MI0000577</td>\n",
       "      <td>non-coding gene</td>\n",
       "    </tr>\n",
       "    <tr>\n",
       "      <th>2</th>\n",
       "      <td>chr1</td>\n",
       "      <td>20682712</td>\n",
       "      <td>20682958</td>\n",
       "      <td>20682958</td>\n",
       "      <td>20682958</td>\n",
       "      <td>+</td>\n",
       "      <td>3</td>\n",
       "      <td>20669881</td>\n",
       "      <td>20682958</td>\n",
       "      <td>13077.0</td>\n",
       "      <td>...</td>\n",
       "      <td>Lincmd1</td>\n",
       "      <td>NR_131249.1</td>\n",
       "      <td>mmu-mir-133b</td>\n",
       "      <td>chr1</td>\n",
       "      <td>20682769</td>\n",
       "      <td>20682887</td>\n",
       "      <td>miRNA_primary_transcript</td>\n",
       "      <td>+</td>\n",
       "      <td>Alias=MI0000821</td>\n",
       "      <td>non-coding gene</td>\n",
       "    </tr>\n",
       "    <tr>\n",
       "      <th>3</th>\n",
       "      <td>chr1</td>\n",
       "      <td>86351980</td>\n",
       "      <td>86352127</td>\n",
       "      <td>86352127</td>\n",
       "      <td>86352127</td>\n",
       "      <td>-</td>\n",
       "      <td>1</td>\n",
       "      <td>86351980</td>\n",
       "      <td>86352127</td>\n",
       "      <td>147.0</td>\n",
       "      <td>...</td>\n",
       "      <td>Gm24148</td>\n",
       "      <td>NR_106184.1</td>\n",
       "      <td>mmu-mir-3535</td>\n",
       "      <td>chr1</td>\n",
       "      <td>86351981</td>\n",
       "      <td>86352127</td>\n",
       "      <td>miRNA_primary_transcript</td>\n",
       "      <td>-</td>\n",
       "      <td>Alias=MI0026036</td>\n",
       "      <td>non-coding gene</td>\n",
       "    </tr>\n",
       "    <tr>\n",
       "      <th>4</th>\n",
       "      <td>chr1</td>\n",
       "      <td>134946233</td>\n",
       "      <td>134946299</td>\n",
       "      <td>134946299</td>\n",
       "      <td>134946299</td>\n",
       "      <td>-</td>\n",
       "      <td>1</td>\n",
       "      <td>134946233</td>\n",
       "      <td>134946299</td>\n",
       "      <td>66.0</td>\n",
       "      <td>...</td>\n",
       "      <td>Gm51265</td>\n",
       "      <td>NR_162775.1</td>\n",
       "      <td>mmu-mir-5104b</td>\n",
       "      <td>chr1</td>\n",
       "      <td>134946234</td>\n",
       "      <td>134946299</td>\n",
       "      <td>miRNA_primary_transcript</td>\n",
       "      <td>-</td>\n",
       "      <td>Alias=MI0040615</td>\n",
       "      <td>non-coding gene</td>\n",
       "    </tr>\n",
       "    <tr>\n",
       "      <th>...</th>\n",
       "      <td>...</td>\n",
       "      <td>...</td>\n",
       "      <td>...</td>\n",
       "      <td>...</td>\n",
       "      <td>...</td>\n",
       "      <td>...</td>\n",
       "      <td>...</td>\n",
       "      <td>...</td>\n",
       "      <td>...</td>\n",
       "      <td>...</td>\n",
       "      <td>...</td>\n",
       "      <td>...</td>\n",
       "      <td>...</td>\n",
       "      <td>...</td>\n",
       "      <td>...</td>\n",
       "      <td>...</td>\n",
       "      <td>...</td>\n",
       "      <td>...</td>\n",
       "      <td>...</td>\n",
       "      <td>...</td>\n",
       "      <td>...</td>\n",
       "    </tr>\n",
       "    <tr>\n",
       "      <th>334</th>\n",
       "      <td>chr19</td>\n",
       "      <td>6829871</td>\n",
       "      <td>6830139</td>\n",
       "      <td>6829938</td>\n",
       "      <td>6839616</td>\n",
       "      <td>-</td>\n",
       "      <td>17</td>\n",
       "      <td>6829871</td>\n",
       "      <td>6842145</td>\n",
       "      <td>12274.0</td>\n",
       "      <td>...</td>\n",
       "      <td>Rps6ka4</td>\n",
       "      <td>XM_017318261.2</td>\n",
       "      <td>mmu-mir-5046</td>\n",
       "      <td>chr19</td>\n",
       "      <td>6829886</td>\n",
       "      <td>6829944</td>\n",
       "      <td>miRNA_primary_transcript</td>\n",
       "      <td>-</td>\n",
       "      <td>Alias=MI0017931</td>\n",
       "      <td>protein-coding gene</td>\n",
       "    </tr>\n",
       "    <tr>\n",
       "      <th>335</th>\n",
       "      <td>chr19</td>\n",
       "      <td>6914078</td>\n",
       "      <td>6914292</td>\n",
       "      <td>6911750</td>\n",
       "      <td>6914091</td>\n",
       "      <td>-</td>\n",
       "      <td>6</td>\n",
       "      <td>6910976</td>\n",
       "      <td>6921709</td>\n",
       "      <td>10733.0</td>\n",
       "      <td>...</td>\n",
       "      <td>Esrra</td>\n",
       "      <td>XM_017318209.2</td>\n",
       "      <td>mmu-mir-6990</td>\n",
       "      <td>chr19</td>\n",
       "      <td>6914196</td>\n",
       "      <td>6914286</td>\n",
       "      <td>miRNA_primary_transcript</td>\n",
       "      <td>-</td>\n",
       "      <td>Alias=MI0022838</td>\n",
       "      <td>protein-coding gene</td>\n",
       "    </tr>\n",
       "    <tr>\n",
       "      <th>336</th>\n",
       "      <td>chr19</td>\n",
       "      <td>6914078</td>\n",
       "      <td>6914292</td>\n",
       "      <td>6911750</td>\n",
       "      <td>6914091</td>\n",
       "      <td>-</td>\n",
       "      <td>7</td>\n",
       "      <td>6910976</td>\n",
       "      <td>6921814</td>\n",
       "      <td>10838.0</td>\n",
       "      <td>...</td>\n",
       "      <td>Esrra</td>\n",
       "      <td>XM_030250950.1</td>\n",
       "      <td>mmu-mir-6990</td>\n",
       "      <td>chr19</td>\n",
       "      <td>6914196</td>\n",
       "      <td>6914286</td>\n",
       "      <td>miRNA_primary_transcript</td>\n",
       "      <td>-</td>\n",
       "      <td>Alias=MI0022838</td>\n",
       "      <td>protein-coding gene</td>\n",
       "    </tr>\n",
       "    <tr>\n",
       "      <th>337</th>\n",
       "      <td>chr19</td>\n",
       "      <td>7421913</td>\n",
       "      <td>7425908</td>\n",
       "      <td>7417778</td>\n",
       "      <td>7423106</td>\n",
       "      <td>+</td>\n",
       "      <td>4</td>\n",
       "      <td>7417757</td>\n",
       "      <td>7425908</td>\n",
       "      <td>8151.0</td>\n",
       "      <td>...</td>\n",
       "      <td>2700081O15Rik</td>\n",
       "      <td>XM_011247115.3</td>\n",
       "      <td>mmu-mir-6991</td>\n",
       "      <td>chr19</td>\n",
       "      <td>7422573</td>\n",
       "      <td>7422642</td>\n",
       "      <td>miRNA_primary_transcript</td>\n",
       "      <td>+</td>\n",
       "      <td>Alias=MI0022839</td>\n",
       "      <td>protein-coding gene</td>\n",
       "    </tr>\n",
       "    <tr>\n",
       "      <th>338</th>\n",
       "      <td>chr19</td>\n",
       "      <td>40894563</td>\n",
       "      <td>40894790</td>\n",
       "      <td>40911628</td>\n",
       "      <td>40916065</td>\n",
       "      <td>+</td>\n",
       "      <td>4</td>\n",
       "      <td>40894563</td>\n",
       "      <td>40917942</td>\n",
       "      <td>23379.0</td>\n",
       "      <td>...</td>\n",
       "      <td>Zfp518a</td>\n",
       "      <td>XM_011247364.2</td>\n",
       "      <td>mmu-mir-8092</td>\n",
       "      <td>chr19</td>\n",
       "      <td>40894703</td>\n",
       "      <td>40894789</td>\n",
       "      <td>miRNA_primary_transcript</td>\n",
       "      <td>+</td>\n",
       "      <td>Alias=MI0026019</td>\n",
       "      <td>protein-coding gene</td>\n",
       "    </tr>\n",
       "  </tbody>\n",
       "</table>\n",
       "<p>339 rows × 21 columns</p>\n",
       "</div>"
      ],
      "text/plain": [
       "    hostgene_chrom  hostgene_exonStarts  hostgene_exonEnds  hostgene_cdsStart  \\\n",
       "0             chr1            195033822          195037908          195037908   \n",
       "1             chr1            195033822          195037908          195037908   \n",
       "2             chr1             20682712           20682958           20682958   \n",
       "3             chr1             86351980           86352127           86352127   \n",
       "4             chr1            134946233          134946299          134946299   \n",
       "..             ...                  ...                ...                ...   \n",
       "334          chr19              6829871            6830139            6829938   \n",
       "335          chr19              6914078            6914292            6911750   \n",
       "336          chr19              6914078            6914292            6911750   \n",
       "337          chr19              7421913            7425908            7417778   \n",
       "338          chr19             40894563           40894790           40911628   \n",
       "\n",
       "     hostgene_cdsEnd hostgene_strand  hostgene_exonCounts  hostgene_txStarts  \\\n",
       "0          195037908               +                    8          195017398   \n",
       "1          195037908               +                    8          195017398   \n",
       "2           20682958               +                    3           20669881   \n",
       "3           86352127               -                    1           86351980   \n",
       "4          134946299               -                    1          134946233   \n",
       "..               ...             ...                  ...                ...   \n",
       "334          6839616               -                   17            6829871   \n",
       "335          6914091               -                    6            6910976   \n",
       "336          6914091               -                    7            6910976   \n",
       "337          7423106               +                    4            7417757   \n",
       "338         40916065               +                    4           40894563   \n",
       "\n",
       "     hostgene_txEnds  pre_mRNA_length  ...  hostgene_Name hostgene_NCBI_ID  \\\n",
       "0          195037908          20510.0  ...  A330023F24Rik      NR_015566.2   \n",
       "1          195037908          20510.0  ...  A330023F24Rik      NR_015566.2   \n",
       "2           20682958          13077.0  ...        Lincmd1      NR_131249.1   \n",
       "3           86352127            147.0  ...        Gm24148      NR_106184.1   \n",
       "4          134946299             66.0  ...        Gm51265      NR_162775.1   \n",
       "..               ...              ...  ...            ...              ...   \n",
       "334          6842145          12274.0  ...        Rps6ka4   XM_017318261.2   \n",
       "335          6921709          10733.0  ...          Esrra   XM_017318209.2   \n",
       "336          6921814          10838.0  ...          Esrra   XM_030250950.1   \n",
       "337          7425908           8151.0  ...  2700081O15Rik   XM_011247115.3   \n",
       "338         40917942          23379.0  ...        Zfp518a   XM_011247364.2   \n",
       "\n",
       "          miR_name miR_chrom miR_exonStarts  miR_exonEnds  \\\n",
       "0    mmu-mir-29b-2      chr1      195037040     195037120   \n",
       "1      mmu-mir-29c      chr1      195037547     195037634   \n",
       "2     mmu-mir-133b      chr1       20682769      20682887   \n",
       "3     mmu-mir-3535      chr1       86351981      86352127   \n",
       "4    mmu-mir-5104b      chr1      134946234     134946299   \n",
       "..             ...       ...            ...           ...   \n",
       "334   mmu-mir-5046     chr19        6829886       6829944   \n",
       "335   mmu-mir-6990     chr19        6914196       6914286   \n",
       "336   mmu-mir-6990     chr19        6914196       6914286   \n",
       "337   mmu-mir-6991     chr19        7422573       7422642   \n",
       "338   mmu-mir-8092     chr19       40894703      40894789   \n",
       "\n",
       "                     miR_type miR_strand           miR_ID            gene_type  \n",
       "0    miRNA_primary_transcript          +  Alias=MI0000712      non-coding gene  \n",
       "1    miRNA_primary_transcript          +  Alias=MI0000577      non-coding gene  \n",
       "2    miRNA_primary_transcript          +  Alias=MI0000821      non-coding gene  \n",
       "3    miRNA_primary_transcript          -  Alias=MI0026036      non-coding gene  \n",
       "4    miRNA_primary_transcript          -  Alias=MI0040615      non-coding gene  \n",
       "..                        ...        ...              ...                  ...  \n",
       "334  miRNA_primary_transcript          -  Alias=MI0017931  protein-coding gene  \n",
       "335  miRNA_primary_transcript          -  Alias=MI0022838  protein-coding gene  \n",
       "336  miRNA_primary_transcript          -  Alias=MI0022838  protein-coding gene  \n",
       "337  miRNA_primary_transcript          +  Alias=MI0022839  protein-coding gene  \n",
       "338  miRNA_primary_transcript          +  Alias=MI0026019  protein-coding gene  \n",
       "\n",
       "[339 rows x 21 columns]"
      ]
     },
     "execution_count": 9,
     "metadata": {},
     "output_type": "execute_result"
    }
   ],
   "source": [
    "finalized_mouse_exonic_miR.df"
   ]
  },
  {
   "cell_type": "code",
   "execution_count": 10,
   "id": "6d1cb709-af37-4c55-8246-8d793322a634",
   "metadata": {},
   "outputs": [],
   "source": [
    "finalized_mouse_exonic_miR.select_coding()#### select protein-coding genes"
   ]
  },
  {
   "cell_type": "code",
   "execution_count": 11,
   "id": "81e591d7-7a27-4eb5-85e3-bb3ad93ef41d",
   "metadata": {},
   "outputs": [
    {
     "name": "stderr",
     "output_type": "stream",
     "text": [
      "<string>:54: SettingWithCopyWarning: \n",
      "A value is trying to be set on a copy of a slice from a DataFrame.\n",
      "Try using .loc[row_indexer,col_indexer] = value instead\n",
      "\n",
      "See the caveats in the documentation: https://pandas.pydata.org/pandas-docs/stable/user_guide/indexing.html#returning-a-view-versus-a-copy\n"
     ]
    }
   ],
   "source": [
    "finalized_mouse_exonic_miR.add_region()\n",
    "### add a new column called region, which will contain information of location of microRNAs such as 5'UTR,3'UTR,CDS"
   ]
  },
  {
   "cell_type": "code",
   "execution_count": 12,
   "id": "0fdde9de-a3eb-46f9-b723-0b38c72cb9d4",
   "metadata": {},
   "outputs": [],
   "source": [
    "finalized_mouse_exonic_miR.select(['hostgene_NCBI_ID','hostgene_Name','hostgene_strand','hostgene_exonCounts','miR_name', \n",
    "                                   'miR_strand','region',\"pre_mRNA_length\",'mature_host_mRNA_Length','gene_type'])"
   ]
  },
  {
   "cell_type": "code",
   "execution_count": 13,
   "id": "c77a4afc-233c-4fd8-826c-e3ba46e7aee7",
   "metadata": {},
   "outputs": [
    {
     "data": {
      "text/html": [
       "<div>\n",
       "<style scoped>\n",
       "    .dataframe tbody tr th:only-of-type {\n",
       "        vertical-align: middle;\n",
       "    }\n",
       "\n",
       "    .dataframe tbody tr th {\n",
       "        vertical-align: top;\n",
       "    }\n",
       "\n",
       "    .dataframe thead th {\n",
       "        text-align: right;\n",
       "    }\n",
       "</style>\n",
       "<table border=\"1\" class=\"dataframe\">\n",
       "  <thead>\n",
       "    <tr style=\"text-align: right;\">\n",
       "      <th></th>\n",
       "      <th>hostgene_NCBI_ID</th>\n",
       "      <th>hostgene_Name</th>\n",
       "      <th>hostgene_strand</th>\n",
       "      <th>hostgene_exonCounts</th>\n",
       "      <th>miR_name</th>\n",
       "      <th>miR_strand</th>\n",
       "      <th>region</th>\n",
       "      <th>pre_mRNA_length</th>\n",
       "      <th>mature_host_mRNA_Length</th>\n",
       "      <th>gene_type</th>\n",
       "    </tr>\n",
       "  </thead>\n",
       "  <tbody>\n",
       "    <tr>\n",
       "      <th>10</th>\n",
       "      <td>XM_030248982.1</td>\n",
       "      <td>Strbp</td>\n",
       "      <td>-</td>\n",
       "      <td>19</td>\n",
       "      <td>mmu-mir-5128</td>\n",
       "      <td>-</td>\n",
       "      <td>5'UTR</td>\n",
       "      <td>119856.0</td>\n",
       "      <td>20102</td>\n",
       "      <td>protein-coding gene</td>\n",
       "    </tr>\n",
       "    <tr>\n",
       "      <th>11</th>\n",
       "      <td>NM_010434.2</td>\n",
       "      <td>Hipk3</td>\n",
       "      <td>-</td>\n",
       "      <td>16</td>\n",
       "      <td>mmu-mir-1902</td>\n",
       "      <td>-</td>\n",
       "      <td>3'UTR</td>\n",
       "      <td>68009.0</td>\n",
       "      <td>7497</td>\n",
       "      <td>protein-coding gene</td>\n",
       "    </tr>\n",
       "    <tr>\n",
       "      <th>12</th>\n",
       "      <td>NM_001145824.1</td>\n",
       "      <td>Hipk3</td>\n",
       "      <td>-</td>\n",
       "      <td>16</td>\n",
       "      <td>mmu-mir-1902</td>\n",
       "      <td>-</td>\n",
       "      <td>3'UTR</td>\n",
       "      <td>68009.0</td>\n",
       "      <td>7494</td>\n",
       "      <td>protein-coding gene</td>\n",
       "    </tr>\n",
       "    <tr>\n",
       "      <th>13</th>\n",
       "      <td>XM_006500575.3</td>\n",
       "      <td>Lama5</td>\n",
       "      <td>-</td>\n",
       "      <td>78</td>\n",
       "      <td>mmu-mir-7005</td>\n",
       "      <td>-</td>\n",
       "      <td>CDS</td>\n",
       "      <td>49526.0</td>\n",
       "      <td>11508</td>\n",
       "      <td>protein-coding gene</td>\n",
       "    </tr>\n",
       "    <tr>\n",
       "      <th>16</th>\n",
       "      <td>XM_011239023.3</td>\n",
       "      <td>Gad2</td>\n",
       "      <td>+</td>\n",
       "      <td>9</td>\n",
       "      <td>mmu-mir-3967</td>\n",
       "      <td>+</td>\n",
       "      <td>3'UTR</td>\n",
       "      <td>35260.0</td>\n",
       "      <td>5498</td>\n",
       "      <td>protein-coding gene</td>\n",
       "    </tr>\n",
       "  </tbody>\n",
       "</table>\n",
       "</div>"
      ],
      "text/plain": [
       "   hostgene_NCBI_ID hostgene_Name hostgene_strand  hostgene_exonCounts  \\\n",
       "10   XM_030248982.1         Strbp               -                   19   \n",
       "11      NM_010434.2         Hipk3               -                   16   \n",
       "12   NM_001145824.1         Hipk3               -                   16   \n",
       "13   XM_006500575.3         Lama5               -                   78   \n",
       "16   XM_011239023.3          Gad2               +                    9   \n",
       "\n",
       "        miR_name miR_strand region  pre_mRNA_length  mature_host_mRNA_Length  \\\n",
       "10  mmu-mir-5128          -  5'UTR         119856.0                    20102   \n",
       "11  mmu-mir-1902          -  3'UTR          68009.0                     7497   \n",
       "12  mmu-mir-1902          -  3'UTR          68009.0                     7494   \n",
       "13  mmu-mir-7005          -    CDS          49526.0                    11508   \n",
       "16  mmu-mir-3967          +  3'UTR          35260.0                     5498   \n",
       "\n",
       "              gene_type  \n",
       "10  protein-coding gene  \n",
       "11  protein-coding gene  \n",
       "12  protein-coding gene  \n",
       "13  protein-coding gene  \n",
       "16  protein-coding gene  "
      ]
     },
     "execution_count": 13,
     "metadata": {},
     "output_type": "execute_result"
    }
   ],
   "source": [
    "finalized_mouse_exonic_miR.df.head()"
   ]
  },
  {
   "cell_type": "code",
   "execution_count": 14,
   "id": "e61b2fee-8549-4b02-a6a3-3eb5d8faf805",
   "metadata": {},
   "outputs": [
    {
     "data": {
      "text/plain": [
       "(221, 10)"
      ]
     },
     "execution_count": 14,
     "metadata": {},
     "output_type": "execute_result"
    }
   ],
   "source": [
    "finalized_mouse_exonic_miR.df.shape"
   ]
  },
  {
   "cell_type": "code",
   "execution_count": 17,
   "id": "9e6a9b25-e18c-405d-9b9f-1af45eb7d491",
   "metadata": {},
   "outputs": [],
   "source": [
    "finalized_mouse_exonic_miR.df.to_excel(f'{excel_file_path}/mouse_exonic_miR_list(protein_coding_host_genes)_NCBI.xlsx',index=False)\n",
    "finalized_mouse_exonic_miR.df.to_csv(f'{csv_file_path}/mouse_exonic_miR_list(protein_coding_host_genes)_NCBI.csv',index=False)"
   ]
  },
  {
   "cell_type": "code",
   "execution_count": 18,
   "id": "a8294638-ddcd-4d74-abf7-1a580f6e8b52",
   "metadata": {},
   "outputs": [],
   "source": [
    "finalized_mouse_exonic_miR_new=finalized_mouse_exonic_miR.df.drop_duplicates(subset=['miR_name'])"
   ]
  },
  {
   "cell_type": "code",
   "execution_count": 19,
   "id": "f817b375-0376-41b4-bd8c-b4a00a38c4ba",
   "metadata": {},
   "outputs": [],
   "source": [
    "##### save unique list is shown below:\n",
    "finalized_mouse_exonic_miR_new.to_csv(f'{csv_file_path}/mouse_exonic_miR_list(protein_coding_host_genes)_NCBI_unique.csv',index=False)\n",
    "finalized_mouse_exonic_miR_new.to_excel(f'{excel_file_path}/mouse_exonic_miR_list(protein_coding_host_genes)_NCBI_unique.xlsx',index=False)"
   ]
  },
  {
   "cell_type": "markdown",
   "id": "86dd2ca4-5f8d-4c9a-a9fa-bd12fa879d28",
   "metadata": {},
   "source": [
    "### Plotting\n"
   ]
  },
  {
   "cell_type": "code",
   "execution_count": 20,
   "id": "a48b64fd-63f1-4046-a854-62470f19a72c",
   "metadata": {},
   "outputs": [],
   "source": [
    "mouse_exonicmiR_coding_df=Regions(f'{csv_file_path}/mouse_exonic_miR_list(protein_coding_host_genes)_NCBI_unique.csv')"
   ]
  },
  {
   "cell_type": "code",
   "execution_count": 21,
   "id": "cb40da68-1ff8-4cb2-90c0-7edb0addcc18",
   "metadata": {},
   "outputs": [
    {
     "data": {
      "text/plain": [
       "(83, 10)"
      ]
     },
     "execution_count": 21,
     "metadata": {},
     "output_type": "execute_result"
    }
   ],
   "source": [
    "mouse_exonicmiR_coding_df.df.shape"
   ]
  },
  {
   "cell_type": "code",
   "execution_count": 22,
   "id": "55bca7ec-ae4e-497e-9780-7b6569943b91",
   "metadata": {},
   "outputs": [],
   "source": [
    "mouse_exonic_miR_region=mouse_exonicmiR_coding_df.df.groupby(mouse_exonicmiR_coding_df.df['region']).size().reset_index(name='Mouse')"
   ]
  },
  {
   "cell_type": "code",
   "execution_count": 23,
   "id": "c9f3dfa8-fbc2-4442-80a7-0c2d4fa0f38e",
   "metadata": {},
   "outputs": [
    {
     "data": {
      "text/html": [
       "<div>\n",
       "<style scoped>\n",
       "    .dataframe tbody tr th:only-of-type {\n",
       "        vertical-align: middle;\n",
       "    }\n",
       "\n",
       "    .dataframe tbody tr th {\n",
       "        vertical-align: top;\n",
       "    }\n",
       "\n",
       "    .dataframe thead th {\n",
       "        text-align: right;\n",
       "    }\n",
       "</style>\n",
       "<table border=\"1\" class=\"dataframe\">\n",
       "  <thead>\n",
       "    <tr style=\"text-align: right;\">\n",
       "      <th></th>\n",
       "      <th>region</th>\n",
       "      <th>Mouse</th>\n",
       "    </tr>\n",
       "  </thead>\n",
       "  <tbody>\n",
       "    <tr>\n",
       "      <th>0</th>\n",
       "      <td>3'UTR</td>\n",
       "      <td>32</td>\n",
       "    </tr>\n",
       "    <tr>\n",
       "      <th>1</th>\n",
       "      <td>5'UTR</td>\n",
       "      <td>26</td>\n",
       "    </tr>\n",
       "    <tr>\n",
       "      <th>2</th>\n",
       "      <td>CDS</td>\n",
       "      <td>21</td>\n",
       "    </tr>\n",
       "    <tr>\n",
       "      <th>3</th>\n",
       "      <td>Span from CDS and 3'UTR</td>\n",
       "      <td>3</td>\n",
       "    </tr>\n",
       "    <tr>\n",
       "      <th>4</th>\n",
       "      <td>Span from CDS and 5'UTR</td>\n",
       "      <td>1</td>\n",
       "    </tr>\n",
       "  </tbody>\n",
       "</table>\n",
       "</div>"
      ],
      "text/plain": [
       "                    region  Mouse\n",
       "0                    3'UTR     32\n",
       "1                    5'UTR     26\n",
       "2                      CDS     21\n",
       "3  Span from CDS and 3'UTR      3\n",
       "4  Span from CDS and 5'UTR      1"
      ]
     },
     "execution_count": 23,
     "metadata": {},
     "output_type": "execute_result"
    }
   ],
   "source": [
    "mouse_exonic_miR_region"
   ]
  },
  {
   "cell_type": "code",
   "execution_count": 24,
   "id": "22d73a3e-5d48-40d2-b4aa-4cd062d07ad0",
   "metadata": {},
   "outputs": [],
   "source": [
    "mm_exonic_3_UTR= mouse_exonic_miR_region[mouse_exonic_miR_region['region']=='3\\'UTR'].sum()\n",
    "mm_exonic_5_UTR= mouse_exonic_miR_region[mouse_exonic_miR_region['region']=='5\\'UTR'].sum()\n",
    "mm_exonic_CDS=mouse_exonic_miR_region[mouse_exonic_miR_region['region']=='CDS'].sum()\n",
    "mm_exonic_3_CDS_UTR=mouse_exonic_miR_region[mouse_exonic_miR_region['region']=='Span from CDS and 3\\'UTR'].sum()\n",
    "mm_exonic_5_CDS_UTR=mouse_exonic_miR_region[mouse_exonic_miR_region['region']=='Span from CDS and 5\\'UTR'].sum()"
   ]
  },
  {
   "cell_type": "code",
   "execution_count": 25,
   "id": "1f6f8c04-1e27-4862-91dd-6089a49cc1cc",
   "metadata": {},
   "outputs": [
    {
     "data": {
      "image/png": "[encoded data removed]",
      "text/plain": [
       "<Figure size 1500x800 with 1 Axes>"
      ]
     },
     "metadata": {},
     "output_type": "display_data"
    }
   ],
   "source": [
    "labels = ['3\\'UTR', '5\\'UTR', 'CDS','Span from CDS and 3\\'UTR','Span from CDS and 5\\'UTR']\n",
    "sizes = [mm_exonic_3_UTR['Mouse'], mm_exonic_5_UTR['Mouse'],mm_exonic_CDS['Mouse'],mm_exonic_3_CDS_UTR['Mouse'],mm_exonic_5_CDS_UTR['Mouse']]\n",
    "colors = ['red', 'skyblue', 'green','lightgreen', 'lightcoral']\n",
    "plt.figure(figsize=(15, 8)) \n",
    "plt.pie(sizes, labels=labels, colors=colors, autopct='%1.1f%%')\n",
    "plt.axis('equal')  # Equal aspect ratio ensures that pie is drawn as a circle\n",
    "plt.title('Distribution of mouse exonic miRNA across different regions')\n",
    "plt.savefig(f'{current_dir}/Pie_charts/Distribution of mouse exonic miRNA across different regions of the gene.eps')\n",
    "plt.show()"
   ]
  },
  {
   "cell_type": "code",
   "execution_count": 26,
   "id": "7b0f77b6-4208-4758-87ae-2b3047d748fd",
   "metadata": {},
   "outputs": [
    {
     "data": {
      "text/plain": [
       "Index(['hostgene_NCBI_ID', 'hostgene_Name', 'hostgene_strand',\n",
       "       'hostgene_exonCounts', 'miR_name', 'miR_strand', 'region',\n",
       "       'pre_mRNA_length', 'mature_host_mRNA_Length', 'gene_type'],\n",
       "      dtype='object')"
      ]
     },
     "execution_count": 26,
     "metadata": {},
     "output_type": "execute_result"
    }
   ],
   "source": [
    "mouse_exonicmiR_coding_df.df.columns"
   ]
  },
  {
   "cell_type": "code",
   "execution_count": 27,
   "id": "0a979cce-5968-4225-b330-8529253ea657",
   "metadata": {},
   "outputs": [],
   "source": [
    "mouse_exonicmiR_coding_df.df.drop(columns=['hostgene_exonCounts',\n",
    "       'pre_mRNA_length', 'mature_host_mRNA_Length']).to_excel(f'{current_dir}/MS_tables/mouse_exonic_miRNAs_protein_coding(Regions).xlsx',index=False)"
   ]
  },
  {
   "cell_type": "code",
   "execution_count": null,
   "id": "9fd6bc9f-3ebc-455c-bd4a-aaab4d051dd9",
   "metadata": {},
   "outputs": [],
   "source": []
  }
 ],
 "metadata": {
  "kernelspec": {
   "display_name": "Python 3 (ipykernel)",
   "language": "python",
   "name": "python3"
  },
  "language_info": {
   "codemirror_mode": {
    "name": "ipython",
    "version": 3
   },
   "file_extension": ".py",
   "mimetype": "text/x-python",
   "name": "python",
   "nbconvert_exporter": "python",
   "pygments_lexer": "ipython3",
   "version": "3.9.13"
  }
 },
 "nbformat": 4,
 "nbformat_minor": 5
}
