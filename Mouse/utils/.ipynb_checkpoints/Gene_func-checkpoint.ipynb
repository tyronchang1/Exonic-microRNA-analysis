{
 "cells": [
  {
   "cell_type": "code",
   "execution_count": 1,
   "id": "ab36c01d-f16a-4519-83d7-c3043f70a102",
   "metadata": {},
   "outputs": [],
   "source": [
    "#### Assign the host genes of each exonic or intronic miR as \"non-coding\" or \"coding\" genes!\n",
    "import pandas as pd\n",
    "def Gene_type(df, cdsStart, cdsEnd, genetype):\n",
    "    \"\"\"This function will generate a column that can categorize each gene as noncoding or coding genes\"\"\"\n",
    "    \"\"\"The parameter is based on if the coordinate of cdsStart is the same as cdsEnd!!\"\"\"\n",
    "    \n",
    "    df.loc[df[cdsStart]==df[cdsEnd],genetype]=\"non-coding gene\"\n",
    "    df.loc[df[cdsStart]!=df[cdsEnd],genetype]=\"protein-coding gene\"\n",
    "    \n",
    "    df[genetype] = df[genetype].astype(object)\n",
    "if __name__==\"__main__\":\n",
    "    pass\n",
    "\n",
    "def Cal_mRNA_length(df,TxStarts,TxEnds,cdsStarts,cdsEnds,genetype,mRNA_length):\n",
    "    \"\"\"calculate unspliced mRNA length\"\"\"\n",
    "    df.loc[df[genetype]==\"non-coding gene\",mRNA_length]=df[TxEnds]-df[TxStarts]\n",
    "    df.loc[df[genetype]==\"protein-coding gene\",mRNA_length]=df[TxEnds]-df[TxStarts]\n",
    "    \n",
    "if __name__==\"__main__\":\n",
    "    pass"
   ]
  },
  {
   "cell_type": "code",
   "execution_count": null,
   "id": "3e328e4e-5347-4422-88c1-905fe41e5150",
   "metadata": {},
   "outputs": [],
   "source": []
  },
  {
   "cell_type": "code",
   "execution_count": null,
   "id": "dfdc808f-dd6c-4217-911d-629db0484d82",
   "metadata": {},
   "outputs": [],
   "source": [
    "\n"
   ]
  }
 ],
 "metadata": {
  "kernelspec": {
   "display_name": "Python 3 (ipykernel)",
   "language": "python",
   "name": "python3"
  },
  "language_info": {
   "codemirror_mode": {
    "name": "ipython",
    "version": 3
   },
   "file_extension": ".py",
   "mimetype": "text/x-python",
   "name": "python",
   "nbconvert_exporter": "python",
   "pygments_lexer": "ipython3",
   "version": "3.10.9"
  }
 },
 "nbformat": 4,
 "nbformat_minor": 5
}
